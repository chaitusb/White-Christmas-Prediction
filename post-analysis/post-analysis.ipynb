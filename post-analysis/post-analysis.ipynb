{
 "metadata": {
  "name": "",
  "signature": "sha256:c3ae7691b4e7e384ac93140006dd15b329ddfdc50e9f07632a7ea8bbf8c33967"
 },
 "nbformat": 3,
 "nbformat_minor": 0,
 "worksheets": [
  {
   "cells": [
    {
     "cell_type": "code",
     "collapsed": false,
     "input": [
      "cd /Users/chaitu/Desktop"
     ],
     "language": "python",
     "metadata": {},
     "outputs": [
      {
       "output_type": "stream",
       "stream": "stdout",
       "text": [
        "/Users/chaitu/Desktop\n"
       ]
      }
     ],
     "prompt_number": 2
    },
    {
     "cell_type": "code",
     "collapsed": false,
     "input": [
      "import pandas as pd\n",
      "from pandas import DataFrame\n",
      "import math\n",
      "from math import radians, cos, sin, asin, sqrt\n",
      "from sets import Set\n",
      "\n",
      "stationsList=[]\n",
      "cityLongLatMap = {}\n",
      "maxProbMap = {}\n",
      "p5ProbMap = {}\n",
      "sumProbMap = {}\n",
      "totalProbMap = {}"
     ],
     "language": "python",
     "metadata": {},
     "outputs": [],
     "prompt_number": 3
    },
    {
     "cell_type": "code",
     "collapsed": false,
     "input": [
      "def getNearestStations():\n",
      "    path = \"us_capitals_nearest_stations.csv\"\n",
      "    datatable = pd.read_table(path, sep=',', header=0)\n",
      "    return datatable"
     ],
     "language": "python",
     "metadata": {},
     "outputs": [],
     "prompt_number": 6
    },
    {
     "cell_type": "code",
     "collapsed": false,
     "input": [
      "def loadUSStateCapitalCoordinates():\n",
      "    path = \"us_state_capitals_coord.csv\"\n",
      "    datatable = pd.read_table(path, sep=',', header=0)\n",
      "    return datatable"
     ],
     "language": "python",
     "metadata": {},
     "outputs": [],
     "prompt_number": 8
    },
    {
     "cell_type": "code",
     "collapsed": false,
     "input": [
      "def loadTable(station):\n",
      "    \n",
      "    path = \"/Users/chaitu/Downloads/ghcnd_all/ghcnd_all/\" + station + \".dly\"\n",
      "    colSpecs = [(0, 11), (11, 15), (15, 17), (17,21), \n",
      "                (21,26),(29,34),(37,42),(45,50),(53,58),(61,66),(69,74),(77,82),(85,90),(93,98),\n",
      "                (101,106),(109,114),(117,122),(125,130),(133,138),(141,146),(149,154),(157,162),\n",
      "                (165,170),(173,178),(181,186),(189,194),(197,202),(205,210),(213,218),(221,226),\n",
      "                (229,234),(237,242),(245,250),(253,258),(261,266) ]\n",
      "    datatable = pd.read_fwf(path, colspecs=colSpecs, header=None)\n",
      "    datatable.columns = [\"fname\",\"year\",\"month\",\"element\",\"1\",\"2\",\"3\",\"4\",\"5\",\"6\",\"7\",\"8\",\"9\",\"10\",\n",
      "                         \"11\",\"12\",\"13\",\"14\",\"15\",\"16\",\"17\",\"18\",\"19\",\"20\",\"21\",\"22\",\"23\",\"24\",\"25\",\n",
      "                         \"26\",\"27\",\"28\",\"29\",\"30\",\"31\"]\n",
      "    return datatable"
     ],
     "language": "python",
     "metadata": {},
     "outputs": [],
     "prompt_number": 11
    },
    {
     "cell_type": "code",
     "collapsed": false,
     "input": [
      "collections = [];\n",
      "def computeCumulativeProb():\n",
      "    nearestStationsFrame = getNearestStations()\n",
      "    usCapitalsFrame = loadUSStateCapitalCoordinates()\n",
      "    for ci, crow in usCapitalsFrame.iterrows():\n",
      "        tmpDF = nearestStationsFrame[nearestStationsFrame[\"city\"] == crow[\"Capital\"]]\n",
      "        for ti, trow in tmpDF.iterrows():\n",
      "            stationFrame = loadTable(trow[\"station\"])\n",
      "            df1Den = stationFrame[(stationFrame['element'] == \"SNWD\") & (stationFrame['year'] == 2014) & \n",
      "                                  (stationFrame['month'] == 12) & (stationFrame['25'] >= 25)]\n",
      "            if(len(df1Den.index) > 0):\n",
      "                collections.append(trow['city'])\n",
      "            #return stationFrame\n",
      "    unique = set(collections)\n",
      "    print unique\n",
      "   \n"
     ],
     "language": "python",
     "metadata": {},
     "outputs": [],
     "prompt_number": 52
    },
    {
     "cell_type": "code",
     "collapsed": false,
     "input": [
      "df = computeCumulativeProb()"
     ],
     "language": "python",
     "metadata": {},
     "outputs": []
    },
    {
     "cell_type": "code",
     "collapsed": false,
     "input": [],
     "language": "python",
     "metadata": {},
     "outputs": []
    }
   ],
   "metadata": {}
  }
 ]
}