{
 "metadata": {
  "name": "convertstationdataformat.ipynb"
 },
 "nbformat": 3,
 "nbformat_minor": 0,
 "worksheets": [
  {
   "cells": [
    {
     "cell_type": "heading",
     "level": 1,
     "metadata": {},
     "source": [
      "Convert station data to csv format"
     ]
    },
    {
     "cell_type": "code",
     "collapsed": false,
     "input": [
      "cd B:\\jieminsdata"
     ],
     "language": "python",
     "metadata": {},
     "outputs": []
    },
    {
     "cell_type": "code",
     "collapsed": false,
     "input": [
      "import pandas as pd\n",
      "import numpy as np\n",
      "import csv\n",
      "import StringIO\n",
      "\n",
      "data = ['US1NJMC0005  40.3100  -74.7243   49.1 NJ LAWRENCE TWP 1.0 NNW',\n",
      "'US1NJMC0009  40.2707  -74.7295   30.8 NJ LAWRENCE TWP 1.8 SSW ',\n",
      "'US1NJMC0012  40.2528  -74.7251   25.9 NJ LAWRENCE TWP 3.0 S                '        ,\n",
      "'US1NJMC0013  40.3002  -74.7285   36.9 NJ LAWRENCE TWP 0.5 WNW                      '  ,\n",
      "'US1NJMC0015  40.2703  -74.7275   32.3 NJ LAWRENCE TWP 1.8 SSW  ',\n",
      "'US1NJMC0022  40.2733  -74.7175   23.8 NJ LAWRENCE TWP 1.6 S ',\n",
      "'US1NJMC0011  40.2519  -74.7751   32.3 NJ EWING TWP 1.6 SE    ',\n",
      "'US1NJMC0017  40.2600  -74.7866   38.1 NJ EWING TWP 0.8 ESE',\n",
      "'US1NJMC0029  40.2778  -74.7926   46.3 NJ EWING TWP 0.9 NNE ',\n",
      "'USC00283951  40.2650  -74.5642   30.5 NJ HIGHTSTOWN 2 W ',\n",
      "'US1NJMC0016  40.2104  -74.6204   38.7 NJ ROBBINSVILLE TWP 1.7 WSW',\n",
      "'US1NJMC0021  40.1918  -74.6786   17.4 NJ HAMILTON TWP 0.9 S   ',\n",
      "'US1NJMC0002  40.2286  -74.6472   24.7 NJ HAMILTON TWP 2.3 NE  ',\n",
      "'US1NJMC0004  40.2242  -74.6443   32.0 NJ HAMILTON TWP 2.2 NE  ',\n",
      "'US1NJMC0032  40.1950  -74.7292   16.2 NJ HAMILTON TWP 2.8 WSW  ',\n",
      "'US1NJBT0003  40.0786  -74.8209    7.0 NJ BURLINGTON 1.7 E  ',\n",
      "'USC00366194  40.1358  -74.9550   18.3 PA NESHAMINY FALLS']\n",
      "\n",
      "for d in data:\n",
      "    parsedData = csv.reader(StringIO.StringIO(d), delimiter=' ', skipinitialspace=True)\n",
      "    parsedData = parsedData.next()\n",
      "    name = 'TRENTON,'\n",
      "    for p in parsedData[:5]:\n",
      "        name += p + ','\n",
      "    name += parsedData[5]\n",
      "    for string in parsedData[6:]:\n",
      "        if len(string) > 0:\n",
      "            name += ' '+string\n",
      "    print name"
     ],
     "language": "python",
     "metadata": {},
     "outputs": [
      {
       "output_type": "stream",
       "stream": "stdout",
       "text": [
        "TRENTON,US1NJMC0005,40.3100,-74.7243,49.1,NJ,LAWRENCE TWP 1.0 NNW\n",
        "TRENTON,US1NJMC0009,40.2707,-74.7295,30.8,NJ,LAWRENCE TWP 1.8 SSW\n",
        "TRENTON,US1NJMC0012,40.2528,-74.7251,25.9,NJ,LAWRENCE TWP 3.0 S\n",
        "TRENTON,US1NJMC0013,40.3002,-74.7285,36.9,NJ,LAWRENCE TWP 0.5 WNW\n",
        "TRENTON,US1NJMC0015,40.2703,-74.7275,32.3,NJ,LAWRENCE TWP 1.8 SSW\n",
        "TRENTON,US1NJMC0022,40.2733,-74.7175,23.8,NJ,LAWRENCE TWP 1.6 S\n",
        "TRENTON,US1NJMC0011,40.2519,-74.7751,32.3,NJ,EWING TWP 1.6 SE\n",
        "TRENTON,US1NJMC0017,40.2600,-74.7866,38.1,NJ,EWING TWP 0.8 ESE\n",
        "TRENTON,US1NJMC0029,40.2778,-74.7926,46.3,NJ,EWING TWP 0.9 NNE\n",
        "TRENTON,USC00283951,40.2650,-74.5642,30.5,NJ,HIGHTSTOWN 2 W\n",
        "TRENTON,US1NJMC0016,40.2104,-74.6204,38.7,NJ,ROBBINSVILLE TWP 1.7 WSW\n",
        "TRENTON,US1NJMC0021,40.1918,-74.6786,17.4,NJ,HAMILTON TWP 0.9 S\n",
        "TRENTON,US1NJMC0002,40.2286,-74.6472,24.7,NJ,HAMILTON TWP 2.3 NE\n",
        "TRENTON,US1NJMC0004,40.2242,-74.6443,32.0,NJ,HAMILTON TWP 2.2 NE\n",
        "TRENTON,US1NJMC0032,40.1950,-74.7292,16.2,NJ,HAMILTON TWP 2.8 WSW\n",
        "TRENTON,US1NJBT0003,40.0786,-74.8209,7.0,NJ,BURLINGTON 1.7 E\n",
        "TRENTON,USC00366194,40.1358,-74.9550,18.3,PA,NESHAMINY FALLS\n"
       ]
      }
     ],
     "prompt_number": 25
    }
   ],
   "metadata": {}
  }
 ]
}