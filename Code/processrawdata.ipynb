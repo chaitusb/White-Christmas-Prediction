{
 "metadata": {
  "name": "processrawdata.ipynb"
 },
 "nbformat": 3,
 "nbformat_minor": 0,
 "worksheets": [
  {
   "cells": [
    {
     "cell_type": "heading",
     "level": 1,
     "metadata": {},
     "source": [
      "Process raw data"
     ]
    },
    {
     "cell_type": "code",
     "collapsed": false,
     "input": [
      "cd B:\\jieminsdata"
     ],
     "language": "python",
     "metadata": {},
     "outputs": [
      {
       "output_type": "stream",
       "stream": "stdout",
       "text": [
        "B:\\jieminsdata\n"
       ]
      }
     ],
     "prompt_number": 1
    },
    {
     "cell_type": "code",
     "collapsed": false,
     "input": [
      "import pandas as pd\n",
      "import numpy as np\n",
      "import csv\n",
      "import datetime\n",
      "\n",
      "allStations = pd.read_csv('capital-stations.csv',usecols=['City','Station'])\n",
      "cities = allStations['City'].unique()\n",
      "\n",
      "stationDataFormat=[11,4,2,4] + [5,3]*31\n",
      "cols = [0,1,2,3] + [i*2+4 for i in range(31)]\n",
      "#dtype = ['|S11','i4','i4','|S4'] + ['f8']*31\n",
      "\n",
      "for city in cities:\n",
      "    cityStations = allStations[allStations['City']==city]\n",
      "    data = {}\n",
      "    print cityStations\n",
      "    for station in cityStations.loc[:,'Station']:\n",
      "        print 'Read: '+station\n",
      "        data[station] = pd.read_fwf(station+'.dly',header=None,widths=stationDataFormat, usecols=cols, na_values='-9999')\n",
      "\n",
      "    #Formats the data so they are indexed by datetime\n",
      "    formattedData = {}\n",
      "    for i in data:\n",
      "        groups = data[i].groupby(by=3)\n",
      "        snow = []\n",
      "        for name, group in groups:\n",
      "            index = np.append(group.as_matrix(columns=[1,2]).repeat(31, axis=0),np.transpose([range(1,32)*group.shape[0]]), axis=1)\n",
      "            index.astype('int')\n",
      "            index = (index[:,0]*10000+index[:,1]*100+index[:,2]).astype('|S8')\n",
      "            snow.append(pd.DataFrame(group.loc[:,group.columns[4:]].values.flatten().reshape((-1,1)),columns=[name],index=index))\n",
      "        if len(snow) > 1:\n",
      "            oneDataSet = snow[0].join(snow[1:], how='outer')\n",
      "        else:\n",
      "            oneDataSet = snow[0]\n",
      "\n",
      "        print 'Reformatting: '+i\n",
      "        endDate = datetime.datetime(int(oneDataSet.index[-1][:4]),int(oneDataSet.index[-1][4:6]),1)\n",
      "        endDate = (endDate + datetime.timedelta(31)).replace(day=1) - datetime.timedelta(1)\n",
      "        otherindex = pd.date_range(start=oneDataSet.index[0],end=endDate)\n",
      "        otherindex = ['{:0>4d}{:0>2d}{:0>2d}'.format(date.year,date.month,date.day) for date in otherindex.to_pydatetime()]\n",
      "        otherindex = pd.DataFrame(index=otherindex)\n",
      "        oneDataSet = otherindex.join(oneDataSet, how='inner')\n",
      "        oneDataSet = oneDataSet.reindex(index=pd.to_datetime(oneDataSet.index))\n",
      "        formattedData[data[i].loc[0,0]] = oneDataSet\n",
      "    \n",
      "    #Create Panel of all data sets for one city and average repeated data points\n",
      "    data = pd.Panel(data=formattedData)\n",
      "    data = data.mean(axis=0)\n",
      "    data.to_csv(path_or_buf='cityData\\\\'+city+'.csv')"
     ],
     "language": "python",
     "metadata": {},
     "outputs": [
      {
       "output_type": "stream",
       "stream": "stdout",
       "text": [
        "     City      Station\n",
        "0  ALBANY  USC00300047\n",
        "1  ALBANY  US1NYAB0017\n",
        "2  ALBANY  USC00300048\n",
        "3  ALBANY  US1NYAB0023\n",
        "4  ALBANY  USW00014735\n",
        "Read: USC00300047\n",
        "Read: US1NYAB0017"
       ]
      },
      {
       "output_type": "stream",
       "stream": "stdout",
       "text": [
        "\n",
        "Read: USC00300048\n",
        "Read: US1NYAB0023\n",
        "Read: USW00014735\n",
        "Reformatting: US1NYAB0017"
       ]
      },
      {
       "output_type": "stream",
       "stream": "stdout",
       "text": [
        "\n",
        "Reformatting: USC00300047"
       ]
      },
      {
       "output_type": "stream",
       "stream": "stdout",
       "text": [
        "\n",
        "Reformatting: USC00300048"
       ]
      },
      {
       "output_type": "stream",
       "stream": "stdout",
       "text": [
        "\n",
        "Reformatting: USW00014735"
       ]
      },
      {
       "output_type": "stream",
       "stream": "stdout",
       "text": [
        "\n",
        "Reformatting: US1NYAB0023"
       ]
      },
      {
       "output_type": "stream",
       "stream": "stdout",
       "text": [
        "\n",
        "        City      Station\n",
        "5  ANNAPOLIS  USC00180185\n",
        "6  ANNAPOLIS  USC00180193\n",
        "7  ANNAPOLIS  US1MDAA0042\n",
        "8  ANNAPOLIS  US1MDAA0059\n",
        "9  ANNAPOLIS  USW00013752"
       ]
      },
      {
       "output_type": "stream",
       "stream": "stdout",
       "text": [
        "\n",
        "Read: USC00180185\n",
        "Read: USC00180193"
       ]
      },
      {
       "output_type": "stream",
       "stream": "stdout",
       "text": [
        "\n",
        "Read: US1MDAA0042"
       ]
      },
      {
       "output_type": "stream",
       "stream": "stdout",
       "text": [
        "\n",
        "Read: US1MDAA0059\n",
        "Read: USW00013752\n",
        "Reformatting: US1MDAA0042"
       ]
      },
      {
       "output_type": "stream",
       "stream": "stdout",
       "text": [
        "\n",
        "Reformatting: USC00180193"
       ]
      },
      {
       "output_type": "stream",
       "stream": "stdout",
       "text": [
        "\n",
        "Reformatting: USC00180185"
       ]
      },
      {
       "output_type": "stream",
       "stream": "stdout",
       "text": [
        "\n",
        "Reformatting: USW00013752"
       ]
      },
      {
       "output_type": "stream",
       "stream": "stdout",
       "text": [
        "\n",
        "Reformatting: US1MDAA0059"
       ]
      },
      {
       "output_type": "stream",
       "stream": "stdout",
       "text": [
        "\n",
        "       City      Station\n",
        "10  ATLANTA  USC00090456\n",
        "11  ATLANTA  USW00013874\n",
        "12  ATLANTA  USC00090446\n",
        "13  ATLANTA  US1GAFT0037\n",
        "14  ATLANTA  US1GAFT0024\n",
        "15  ATLANTA  US1GAFT0012\n",
        "16  ATLANTA  US1GAFT0005\n",
        "17  ATLANTA  US1GADK0035\n",
        "18  ATLANTA  US1GADK0034\n",
        "19  ATLANTA  US1GADK0028\n",
        "20  ATLANTA  US1GADK0023\n",
        "21  ATLANTA  USC00090444\n",
        "22  ATLANTA  USW00053863\n",
        "23  ATLANTA  USW00053819\n",
        "24  ATLANTA  USW00003888\n",
        "25  ATLANTA  USW00093830"
       ]
      },
      {
       "output_type": "stream",
       "stream": "stdout",
       "text": [
        "\n",
        "Read: USC00090456\n",
        "Read: USW00013874\n",
        "Read: USC00090446"
       ]
      },
      {
       "output_type": "stream",
       "stream": "stdout",
       "text": [
        "\n",
        "Read: US1GAFT0037\n",
        "Read: US1GAFT0024\n",
        "Read: US1GAFT0012\n",
        "Read: US1GAFT0005\n",
        "Read: US1GADK0035\n",
        "Read: US1GADK0034\n",
        "Read: US1GADK0028\n",
        "Read: US1GADK0023"
       ]
      },
      {
       "output_type": "stream",
       "stream": "stdout",
       "text": [
        "\n",
        "Read: USC00090444\n",
        "Read: USW00053863"
       ]
      },
      {
       "output_type": "stream",
       "stream": "stdout",
       "text": [
        "\n",
        "Read: USW00053819"
       ]
      },
      {
       "output_type": "stream",
       "stream": "stdout",
       "text": [
        "\n",
        "Read: USW00003888"
       ]
      },
      {
       "output_type": "stream",
       "stream": "stdout",
       "text": [
        "\n",
        "Read: USW00093830"
       ]
      },
      {
       "output_type": "stream",
       "stream": "stdout",
       "text": [
        "\n",
        "Reformatting: USC00090444"
       ]
      },
      {
       "output_type": "stream",
       "stream": "stdout",
       "text": [
        "\n",
        "Reformatting: USC00090446"
       ]
      },
      {
       "output_type": "stream",
       "stream": "stdout",
       "text": [
        "\n",
        "Reformatting: US1GADK0034"
       ]
      },
      {
       "output_type": "stream",
       "stream": "stdout",
       "text": [
        "\n",
        "Reformatting: USW00053863"
       ]
      },
      {
       "output_type": "stream",
       "stream": "stdout",
       "text": [
        "\n",
        "Reformatting: US1GADK0035"
       ]
      },
      {
       "output_type": "stream",
       "stream": "stdout",
       "text": [
        "\n",
        "Reformatting: USW00093830"
       ]
      },
      {
       "output_type": "stream",
       "stream": "stdout",
       "text": [
        "\n",
        "Reformatting: USW00053819"
       ]
      },
      {
       "output_type": "stream",
       "stream": "stdout",
       "text": [
        "\n",
        "Reformatting: US1GADK0028"
       ]
      },
      {
       "output_type": "stream",
       "stream": "stdout",
       "text": [
        "\n",
        "Reformatting: USW00003888"
       ]
      },
      {
       "output_type": "stream",
       "stream": "stdout",
       "text": [
        "\n",
        "Reformatting: US1GAFT0024"
       ]
      },
      {
       "output_type": "stream",
       "stream": "stdout",
       "text": [
        "\n",
        "Reformatting: US1GAFT0012"
       ]
      },
      {
       "output_type": "stream",
       "stream": "stdout",
       "text": [
        "\n",
        "Reformatting: US1GADK0023"
       ]
      },
      {
       "output_type": "stream",
       "stream": "stdout",
       "text": [
        "\n",
        "Reformatting: USW00013874"
       ]
      },
      {
       "output_type": "stream",
       "stream": "stdout",
       "text": [
        "\n",
        "Reformatting: US1GAFT0037"
       ]
      },
      {
       "output_type": "stream",
       "stream": "stdout",
       "text": [
        "\n",
        "Reformatting: USC00090456"
       ]
      },
      {
       "output_type": "stream",
       "stream": "stdout",
       "text": [
        "\n",
        "Reformatting: US1GAFT0005"
       ]
      },
      {
       "output_type": "stream",
       "stream": "stdout",
       "text": [
        "\n",
        "       City      Station\n",
        "26  AUGUSTA  USC00170272\n",
        "27  AUGUSTA  USW00014605\n",
        "28  AUGUSTA  US1MEKB0016\n",
        "29  AUGUSTA  US1MEKB0017"
       ]
      },
      {
       "output_type": "stream",
       "stream": "stdout",
       "text": [
        "\n",
        "Read: USC00170272\n",
        "Read: USW00014605\n",
        "Read: US1MEKB0016"
       ]
      },
      {
       "output_type": "stream",
       "stream": "stdout",
       "text": [
        "\n",
        "Read: US1MEKB0017\n",
        "Reformatting: US1MEKB0016\n",
        "Reformatting: US1MEKB0017"
       ]
      },
      {
       "output_type": "stream",
       "stream": "stdout",
       "text": [
        "\n",
        "Reformatting: USC00170272"
       ]
      },
      {
       "output_type": "stream",
       "stream": "stdout",
       "text": [
        "\n",
        "Reformatting: USW00014605"
       ]
      },
      {
       "output_type": "stream",
       "stream": "stdout",
       "text": [
        "\n",
        "      City      Station\n",
        "30  AUSTIN  US1TXTV0111\n",
        "31  AUSTIN  US1TXTV0104\n",
        "32  AUSTIN  US1TXTV0087\n",
        "33  AUSTIN  US1TXTV0086\n",
        "34  AUSTIN  US1TXTV0116\n",
        "35  AUSTIN  US1TXTV0057\n",
        "36  AUSTIN  US1TXTV0053\n",
        "37  AUSTIN  US1TXTV0047\n",
        "38  AUSTIN  US1TXTV0044\n",
        "39  AUSTIN  US1TXTV0014\n",
        "40  AUSTIN  US1TXTV0010\n",
        "41  AUSTIN  US1TXTV0117\n",
        "42  AUSTIN  US1TXTV0002\n",
        "43  AUSTIN  US1TXHYS059\n",
        "44  AUSTIN  US1TXTV0118\n",
        "45  AUSTIN  US1TXTV0228\n",
        "46  AUSTIN  US1TXTV0119\n",
        "47  AUSTIN  USC00410432\n",
        "48  AUSTIN  US1TXTV0121\n",
        "49  AUSTIN  USC00410430\n",
        "50  AUSTIN  USW00023907\n",
        "51  AUSTIN  USC00410427\n",
        "52  AUSTIN  USC00410420\n",
        "53  AUSTIN  US1TXTV0122\n",
        "54  AUSTIN  US1TXTV0123\n",
        "55  AUSTIN  US1TXTV0126\n",
        "56  AUSTIN  US1TXTV0138\n",
        "57  AUSTIN  US1TXTV0140\n",
        "58  AUSTIN  US1TXTV0142\n",
        "59  AUSTIN  US1TXTV0145\n",
        "60  AUSTIN  US1TXTV0149\n",
        "61  AUSTIN  US1TXTV0150\n",
        "62  AUSTIN  US1TXTV0153\n",
        "63  AUSTIN  US1TXTV0155\n",
        "64  AUSTIN  US1TXTV0157\n",
        "65  AUSTIN  US1TXTV0112\n",
        "66  AUSTIN  US1TXTV0159\n",
        "67  AUSTIN  US1TXTV0113\n",
        "68  AUSTIN  USC00410431\n",
        "69  AUSTIN  USW00013958\n",
        "70  AUSTIN  US1TXTV0164\n",
        "71  AUSTIN  US1TXTV0165\n",
        "72  AUSTIN  USW00013904\n",
        "73  AUSTIN  US1TXTV0114\n",
        "74  AUSTIN  US1TXTV0171\n",
        "75  AUSTIN  USC00410433\n",
        "76  AUSTIN  US1TXTV0176\n",
        "77  AUSTIN  US1TXTV0201\n",
        "78  AUSTIN  US1TXTV0211\n",
        "79  AUSTIN  USW00012971\n",
        "80  AUSTIN  US1TXTV0212\n",
        "81  AUSTIN  US1TXTV0219"
       ]
      },
      {
       "output_type": "stream",
       "stream": "stdout",
       "text": [
        "\n",
        "Read: US1TXTV0111\n",
        "Read: US1TXTV0104\n",
        "Read: US1TXTV0087\n",
        "Read: US1TXTV0086\n",
        "Read: US1TXTV0116\n",
        "Read: US1TXTV0057\n",
        "Read: US1TXTV0053\n",
        "Read: US1TXTV0047\n",
        "Read: US1TXTV0044"
       ]
      },
      {
       "output_type": "stream",
       "stream": "stdout",
       "text": [
        "\n",
        "Read: US1TXTV0014\n",
        "Read: US1TXTV0010\n",
        "Read: US1TXTV0117\n",
        "Read: US1TXTV0002\n",
        "Read: US1TXHYS059\n",
        "Read: US1TXTV0118\n",
        "Read: US1TXTV0228"
       ]
      },
      {
       "output_type": "stream",
       "stream": "stdout",
       "text": [
        "\n",
        "Read: US1TXTV0119\n",
        "Read: USC00410432\n",
        "Read: US1TXTV0121"
       ]
      },
      {
       "output_type": "stream",
       "stream": "stdout",
       "text": [
        "\n",
        "Read: USC00410430\n",
        "Read: USW00023907\n",
        "Read: USC00410427\n",
        "Read: USC00410420\n",
        "Read: US1TXTV0122"
       ]
      },
      {
       "output_type": "stream",
       "stream": "stdout",
       "text": [
        "\n",
        "Read: US1TXTV0123\n",
        "Read: US1TXTV0126\n",
        "Read: US1TXTV0138\n",
        "Read: US1TXTV0140\n",
        "Read: US1TXTV0142\n",
        "Read: US1TXTV0145\n",
        "Read: US1TXTV0149\n",
        "Read: US1TXTV0150\n",
        "Read: US1TXTV0153\n",
        "Read: US1TXTV0155"
       ]
      },
      {
       "output_type": "stream",
       "stream": "stdout",
       "text": [
        "\n",
        "Read: US1TXTV0157\n",
        "Read: US1TXTV0112\n",
        "Read: US1TXTV0159\n",
        "Read: US1TXTV0113\n",
        "Read: USC00410431\n",
        "Read: USW00013958"
       ]
      },
      {
       "output_type": "stream",
       "stream": "stdout",
       "text": [
        "\n",
        "Read: US1TXTV0164"
       ]
      },
      {
       "output_type": "stream",
       "stream": "stdout",
       "text": [
        "\n",
        "Read: US1TXTV0165\n",
        "Read: USW00013904\n",
        "Read: US1TXTV0114"
       ]
      },
      {
       "output_type": "stream",
       "stream": "stdout",
       "text": [
        "\n",
        "Read: US1TXTV0171\n",
        "Read: USC00410433\n",
        "Read: US1TXTV0176\n",
        "Read: US1TXTV0201"
       ]
      },
      {
       "output_type": "stream",
       "stream": "stdout",
       "text": [
        "\n",
        "Read: US1TXTV0211\n",
        "Read: USW00012971\n",
        "Read: US1TXTV0212"
       ]
      },
      {
       "output_type": "stream",
       "stream": "stdout",
       "text": [
        "\n",
        "Read: US1TXTV0219\n",
        "Reformatting: US1TXTV0228\n",
        "Reformatting: US1TXTV0126"
       ]
      },
      {
       "output_type": "stream",
       "stream": "stdout",
       "text": [
        "\n",
        "Reformatting: US1TXTV0201"
       ]
      },
      {
       "output_type": "stream",
       "stream": "stdout",
       "text": [
        "\n",
        "Reformatting: US1TXTV0123"
       ]
      },
      {
       "output_type": "stream",
       "stream": "stdout",
       "text": [
        "\n",
        "Reformatting: US1TXTV0122"
       ]
      },
      {
       "output_type": "stream",
       "stream": "stdout",
       "text": [
        "\n",
        "Reformatting: US1TXTV0121"
       ]
      },
      {
       "output_type": "stream",
       "stream": "stdout",
       "text": [
        "\n",
        "Reformatting: US1TXTV0145"
       ]
      },
      {
       "output_type": "stream",
       "stream": "stdout",
       "text": [
        "\n",
        "Reformatting: US1TXTV0140"
       ]
      },
      {
       "output_type": "stream",
       "stream": "stdout",
       "text": [
        "\n",
        "Reformatting: US1TXTV0086"
       ]
      },
      {
       "output_type": "stream",
       "stream": "stdout",
       "text": [
        "\n",
        "Reformatting: US1TXTV0087"
       ]
      },
      {
       "output_type": "stream",
       "stream": "stdout",
       "text": [
        "\n",
        "Reformatting: USW00012971"
       ]
      },
      {
       "output_type": "stream",
       "stream": "stdout",
       "text": [
        "\n",
        "Reformatting: US1TXTV0149"
       ]
      },
      {
       "output_type": "stream",
       "stream": "stdout",
       "text": [
        "\n",
        "Reformatting: USC00410430"
       ]
      },
      {
       "output_type": "stream",
       "stream": "stdout",
       "text": [
        "\n",
        "Reformatting: USC00410431"
       ]
      },
      {
       "output_type": "stream",
       "stream": "stdout",
       "text": [
        "\n",
        "Reformatting: USC00410432"
       ]
      },
      {
       "output_type": "stream",
       "stream": "stdout",
       "text": [
        "\n",
        "Reformatting: USC00410433"
       ]
      },
      {
       "output_type": "stream",
       "stream": "stdout",
       "text": [
        "\n",
        "Reformatting: USW00013958"
       ]
      },
      {
       "output_type": "stream",
       "stream": "stdout",
       "text": [
        "\n",
        "Reformatting: US1TXHYS059"
       ]
      },
      {
       "output_type": "stream",
       "stream": "stdout",
       "text": [
        "\n",
        "Reformatting: US1TXTV0053"
       ]
      },
      {
       "output_type": "stream",
       "stream": "stdout",
       "text": [
        "\n",
        "Reformatting: US1TXTV0010"
       ]
      },
      {
       "output_type": "stream",
       "stream": "stdout",
       "text": [
        "\n",
        "Reformatting: US1TXTV0211"
       ]
      },
      {
       "output_type": "stream",
       "stream": "stdout",
       "text": [
        "\n",
        "Reformatting: US1TXTV0118"
       ]
      },
      {
       "output_type": "stream",
       "stream": "stdout",
       "text": [
        "\n",
        "Reformatting: US1TXTV0014"
       ]
      },
      {
       "output_type": "stream",
       "stream": "stdout",
       "text": [
        "\n",
        "Reformatting: US1TXTV0116"
       ]
      },
      {
       "output_type": "stream",
       "stream": "stdout",
       "text": [
        "\n",
        "Reformatting: US1TXTV0117"
       ]
      },
      {
       "output_type": "stream",
       "stream": "stdout",
       "text": [
        "\n",
        "Reformatting: US1TXTV0114"
       ]
      },
      {
       "output_type": "stream",
       "stream": "stdout",
       "text": [
        "\n",
        "Reformatting: US1TXTV0112"
       ]
      },
      {
       "output_type": "stream",
       "stream": "stdout",
       "text": [
        "\n",
        "Reformatting: USW00023907"
       ]
      },
      {
       "output_type": "stream",
       "stream": "stdout",
       "text": [
        "\n",
        "Reformatting: US1TXTV0111"
       ]
      },
      {
       "output_type": "stream",
       "stream": "stdout",
       "text": [
        "\n",
        "Reformatting: US1TXTV0164"
       ]
      },
      {
       "output_type": "stream",
       "stream": "stdout",
       "text": [
        "\n",
        "Reformatting: US1TXTV0153"
       ]
      },
      {
       "output_type": "stream",
       "stream": "stdout",
       "text": [
        "\n",
        "Reformatting: US1TXTV0150"
       ]
      },
      {
       "output_type": "stream",
       "stream": "stdout",
       "text": [
        "\n",
        "Reformatting: US1TXTV0159"
       ]
      },
      {
       "output_type": "stream",
       "stream": "stdout",
       "text": [
        "\n",
        "Reformatting: US1TXTV0219"
       ]
      },
      {
       "output_type": "stream",
       "stream": "stdout",
       "text": [
        "\n",
        "Reformatting: US1TXTV0157"
       ]
      },
      {
       "output_type": "stream",
       "stream": "stdout",
       "text": [
        "\n",
        "Reformatting: US1TXTV0155"
       ]
      },
      {
       "output_type": "stream",
       "stream": "stdout",
       "text": [
        "\n",
        "Reformatting: US1TXTV0171"
       ]
      },
      {
       "output_type": "stream",
       "stream": "stdout",
       "text": [
        "\n",
        "Reformatting: US1TXTV0119"
       ]
      },
      {
       "output_type": "stream",
       "stream": "stdout",
       "text": [
        "\n",
        "Reformatting: US1TXTV0138"
       ]
      },
      {
       "output_type": "stream",
       "stream": "stdout",
       "text": [
        "\n",
        "Reformatting: US1TXTV0176"
       ]
      },
      {
       "output_type": "stream",
       "stream": "stdout",
       "text": [
        "\n",
        "Reformatting: US1TXTV0212"
       ]
      },
      {
       "output_type": "stream",
       "stream": "stdout",
       "text": [
        "\n",
        "Reformatting: US1TXTV0165"
       ]
      },
      {
       "output_type": "stream",
       "stream": "stdout",
       "text": [
        "\n",
        "Reformatting: USW00013904"
       ]
      },
      {
       "output_type": "stream",
       "stream": "stdout",
       "text": [
        "\n",
        "Reformatting: US1TXTV0142"
       ]
      },
      {
       "output_type": "stream",
       "stream": "stdout",
       "text": [
        "\n",
        "Reformatting: USC00410420"
       ]
      },
      {
       "output_type": "stream",
       "stream": "stdout",
       "text": [
        "\n",
        "Reformatting: USC00410427"
       ]
      },
      {
       "output_type": "stream",
       "stream": "stdout",
       "text": [
        "\n",
        "Reformatting: US1TXTV0044"
       ]
      },
      {
       "output_type": "stream",
       "stream": "stdout",
       "text": [
        "\n",
        "Reformatting: US1TXTV0047"
       ]
      },
      {
       "output_type": "stream",
       "stream": "stdout",
       "text": [
        "\n",
        "Reformatting: US1TXTV0113"
       ]
      },
      {
       "output_type": "stream",
       "stream": "stdout",
       "text": [
        "\n",
        "Reformatting: US1TXTV0057"
       ]
      },
      {
       "output_type": "stream",
       "stream": "stdout",
       "text": [
        "\n",
        "Reformatting: US1TXTV0002"
       ]
      },
      {
       "output_type": "stream",
       "stream": "stdout",
       "text": [
        "\n",
        "Reformatting: US1TXTV0104"
       ]
      },
      {
       "output_type": "stream",
       "stream": "stdout",
       "text": [
        "\n",
        "           City      Station\n",
        "82  BATON ROUGE  US1LAEB0002\n",
        "83  BATON ROUGE  US1LAEB0027\n",
        "84  BATON ROUGE  US1LAEB0041\n",
        "85  BATON ROUGE  US1LAEB0044\n",
        "86  BATON ROUGE  US1LAEB0046\n",
        "87  BATON ROUGE  US1LAEB0047\n",
        "88  BATON ROUGE  USW00013970\n",
        "89  BATON ROUGE  USC00160558\n",
        "90  BATON ROUGE  USC00160556\n",
        "91  BATON ROUGE  USC00160555\n",
        "92  BATON ROUGE  USC00160548\n",
        "93  BATON ROUGE  USC00160546\n",
        "94  BATON ROUGE  US1LAEB0014"
       ]
      },
      {
       "output_type": "stream",
       "stream": "stdout",
       "text": [
        "\n",
        "Read: US1LAEB0002\n",
        "Read: US1LAEB0027\n",
        "Read: US1LAEB0041\n",
        "Read: US1LAEB0044\n",
        "Read: US1LAEB0046\n",
        "Read: US1LAEB0047\n",
        "Read: USW00013970\n",
        "Read: USC00160558"
       ]
      },
      {
       "output_type": "stream",
       "stream": "stdout",
       "text": [
        "\n",
        "Read: USC00160556"
       ]
      },
      {
       "output_type": "stream",
       "stream": "stdout",
       "text": [
        "\n",
        "Read: USC00160555\n",
        "Read: USC00160548"
       ]
      },
      {
       "output_type": "stream",
       "stream": "stdout",
       "text": [
        "\n",
        "Read: USC00160546"
       ]
      },
      {
       "output_type": "stream",
       "stream": "stdout",
       "text": [
        "\n",
        "Read: US1LAEB0014\n",
        "Reformatting: USC00160558"
       ]
      },
      {
       "output_type": "stream",
       "stream": "stdout",
       "text": [
        "\n",
        "Reformatting: US1LAEB0041"
       ]
      },
      {
       "output_type": "stream",
       "stream": "stdout",
       "text": [
        "\n",
        "Reformatting: US1LAEB0046"
       ]
      },
      {
       "output_type": "stream",
       "stream": "stdout",
       "text": [
        "\n",
        "Reformatting: US1LAEB0047"
       ]
      },
      {
       "output_type": "stream",
       "stream": "stdout",
       "text": [
        "\n",
        "Reformatting: US1LAEB0044"
       ]
      },
      {
       "output_type": "stream",
       "stream": "stdout",
       "text": [
        "\n",
        "Reformatting: US1LAEB0014"
       ]
      },
      {
       "output_type": "stream",
       "stream": "stdout",
       "text": [
        "\n",
        "Reformatting: USC00160548"
       ]
      },
      {
       "output_type": "stream",
       "stream": "stdout",
       "text": [
        "\n",
        "Reformatting: US1LAEB0027"
       ]
      },
      {
       "output_type": "stream",
       "stream": "stdout",
       "text": [
        "\n",
        "Reformatting: USW00013970"
       ]
      },
      {
       "output_type": "stream",
       "stream": "stdout",
       "text": [
        "\n",
        "Reformatting: USC00160546"
       ]
      },
      {
       "output_type": "stream",
       "stream": "stdout",
       "text": [
        "\n",
        "Reformatting: US1LAEB0002"
       ]
      },
      {
       "output_type": "stream",
       "stream": "stdout",
       "text": [
        "\n",
        "Reformatting: USC00160556"
       ]
      },
      {
       "output_type": "stream",
       "stream": "stdout",
       "text": [
        "\n",
        "Reformatting: USC00160555"
       ]
      },
      {
       "output_type": "stream",
       "stream": "stdout",
       "text": [
        "\n",
        "         City      Station\n",
        "95   BISMARCK  US1NDBH0035\n",
        "96   BISMARCK  US1NDBH0036\n",
        "97   BISMARCK  USW00024011\n",
        "98   BISMARCK  US1NDBH0017\n",
        "99   BISMARCK  US1NDBH0018\n",
        "100  BISMARCK  US1NDBH0019\n",
        "101  BISMARCK  US1NDBH0031\n",
        "102  BISMARCK  US1NDBH0011\n",
        "103  BISMARCK  USC00320827\n",
        "104  BISMARCK  US1NDBH0022\n",
        "105  BISMARCK  US1NDBH0024\n",
        "106  BISMARCK  USC00320818\n",
        "107  BISMARCK  US1NDBH0009\n",
        "108  BISMARCK  US1NDBH0007\n",
        "109  BISMARCK  US1NDBH0001\n",
        "110  BISMARCK  US1NDBH0002\n",
        "111  BISMARCK  US1NDBH0006\n",
        "112  BISMARCK  US1NDBH0034\n",
        "113  BISMARCK  US1NDBH0003\n",
        "114  BISMARCK  USC00320817\n",
        "115  BISMARCK  US1NDBH0025\n",
        "116  BISMARCK  US1NDBH0026\n",
        "117  BISMARCK  USC00320814\n",
        "118  BISMARCK  US1NDBH0013"
       ]
      },
      {
       "output_type": "stream",
       "stream": "stdout",
       "text": [
        "\n",
        "Read: US1NDBH0035\n",
        "Read: US1NDBH0036\n",
        "Read: USW00024011\n",
        "Read: US1NDBH0017"
       ]
      },
      {
       "output_type": "stream",
       "stream": "stdout",
       "text": [
        "\n",
        "Read: US1NDBH0018\n",
        "Read: US1NDBH0019\n",
        "Read: US1NDBH0031\n",
        "Read: US1NDBH0011\n",
        "Read: USC00320827\n",
        "Read: US1NDBH0022"
       ]
      },
      {
       "output_type": "stream",
       "stream": "stdout",
       "text": [
        "\n",
        "Read: US1NDBH0024\n",
        "Read: USC00320818\n",
        "Read: US1NDBH0009\n",
        "Read: US1NDBH0007\n",
        "Read: US1NDBH0001\n",
        "Read: US1NDBH0002\n",
        "Read: US1NDBH0006\n",
        "Read: US1NDBH0034"
       ]
      },
      {
       "output_type": "stream",
       "stream": "stdout",
       "text": [
        "\n",
        "Read: US1NDBH0003\n",
        "Read: USC00320817\n",
        "Read: US1NDBH0025\n",
        "Read: US1NDBH0026\n",
        "Read: USC00320814\n",
        "Read: US1NDBH0013"
       ]
      },
      {
       "output_type": "stream",
       "stream": "stdout",
       "text": [
        "\n",
        "Reformatting: USC00320818\n",
        "Reformatting: USC00320814"
       ]
      },
      {
       "output_type": "stream",
       "stream": "stdout",
       "text": [
        "\n",
        "Reformatting: USC00320817"
       ]
      },
      {
       "output_type": "stream",
       "stream": "stdout",
       "text": [
        "\n",
        "Reformatting: US1NDBH0006"
       ]
      },
      {
       "output_type": "stream",
       "stream": "stdout",
       "text": [
        "\n",
        "Reformatting: US1NDBH0007"
       ]
      },
      {
       "output_type": "stream",
       "stream": "stdout",
       "text": [
        "\n",
        "Reformatting: US1NDBH0002"
       ]
      },
      {
       "output_type": "stream",
       "stream": "stdout",
       "text": [
        "\n",
        "Reformatting: US1NDBH0003"
       ]
      },
      {
       "output_type": "stream",
       "stream": "stdout",
       "text": [
        "\n",
        "Reformatting: US1NDBH0001"
       ]
      },
      {
       "output_type": "stream",
       "stream": "stdout",
       "text": [
        "\n",
        "Reformatting: US1NDBH0024"
       ]
      },
      {
       "output_type": "stream",
       "stream": "stdout",
       "text": [
        "\n",
        "Reformatting: US1NDBH0025"
       ]
      },
      {
       "output_type": "stream",
       "stream": "stdout",
       "text": [
        "\n",
        "Reformatting: US1NDBH0026"
       ]
      },
      {
       "output_type": "stream",
       "stream": "stdout",
       "text": [
        "\n",
        "Reformatting: US1NDBH0022"
       ]
      },
      {
       "output_type": "stream",
       "stream": "stdout",
       "text": [
        "\n",
        "Reformatting: US1NDBH0009"
       ]
      },
      {
       "output_type": "stream",
       "stream": "stdout",
       "text": [
        "\n",
        "Reformatting: USC00320827"
       ]
      },
      {
       "output_type": "stream",
       "stream": "stdout",
       "text": [
        "\n",
        "Reformatting: US1NDBH0011"
       ]
      },
      {
       "output_type": "stream",
       "stream": "stdout",
       "text": [
        "\n",
        "Reformatting: US1NDBH0013"
       ]
      },
      {
       "output_type": "stream",
       "stream": "stdout",
       "text": [
        "\n",
        "Reformatting: US1NDBH0017"
       ]
      },
      {
       "output_type": "stream",
       "stream": "stdout",
       "text": [
        "\n",
        "Reformatting: US1NDBH0019"
       ]
      },
      {
       "output_type": "stream",
       "stream": "stdout",
       "text": [
        "\n",
        "Reformatting: US1NDBH0036"
       ]
      },
      {
       "output_type": "stream",
       "stream": "stdout",
       "text": [
        "\n",
        "Reformatting: US1NDBH0035"
       ]
      },
      {
       "output_type": "stream",
       "stream": "stdout",
       "text": [
        "\n",
        "Reformatting: US1NDBH0034"
       ]
      },
      {
       "output_type": "stream",
       "stream": "stdout",
       "text": [
        "\n",
        "Reformatting: US1NDBH0031"
       ]
      },
      {
       "output_type": "stream",
       "stream": "stdout",
       "text": [
        "\n",
        "Reformatting: USW00024011"
       ]
      },
      {
       "output_type": "stream",
       "stream": "stdout",
       "text": [
        "\n",
        "Reformatting: US1NDBH0018"
       ]
      },
      {
       "output_type": "stream",
       "stream": "stdout",
       "text": [
        "\n",
        "      City      Station\n",
        "119  BOISE  USW00024131\n",
        "120  BOISE  USC00101017\n",
        "121  BOISE  USC00101018\n",
        "122  BOISE  US1IDBS0003\n",
        "123  BOISE  US1IDBS0001\n",
        "124  BOISE  US1IDAD0025\n",
        "125  BOISE  US1IDAD0021\n",
        "126  BOISE  US1IDAD0020\n",
        "127  BOISE  US1IDAD0019\n",
        "128  BOISE  US1IDAD0014\n",
        "129  BOISE  US1IDAD0012\n",
        "130  BOISE  US1IDAD0011\n",
        "131  BOISE  US1IDAD0009\n",
        "132  BOISE  US1IDAD0008\n",
        "133  BOISE  US1IDAD0006\n",
        "134  BOISE  US1IDAD0005\n",
        "135  BOISE  US1IDAD0004\n",
        "136  BOISE  US1IDAD0002\n",
        "137  BOISE  USC00101019\n",
        "138  BOISE  USC00101024"
       ]
      },
      {
       "output_type": "stream",
       "stream": "stdout",
       "text": [
        "\n",
        "Read: USW00024131\n",
        "Read: USC00101017"
       ]
      },
      {
       "output_type": "stream",
       "stream": "stdout",
       "text": [
        "\n",
        "Read: USC00101018"
       ]
      },
      {
       "output_type": "stream",
       "stream": "stdout",
       "text": [
        "\n",
        "Read: US1IDBS0003"
       ]
      },
      {
       "output_type": "stream",
       "stream": "stdout",
       "text": [
        "\n",
        "Read: US1IDBS0001\n",
        "Read: US1IDAD0025\n",
        "Read: US1IDAD0021\n",
        "Read: US1IDAD0020\n",
        "Read: US1IDAD0019\n",
        "Read: US1IDAD0014\n",
        "Read: US1IDAD0012\n",
        "Read: US1IDAD0011\n",
        "Read: US1IDAD0009"
       ]
      },
      {
       "output_type": "stream",
       "stream": "stdout",
       "text": [
        "\n",
        "Read: US1IDAD0008\n",
        "Read: US1IDAD0006\n",
        "Read: US1IDAD0005\n",
        "Read: US1IDAD0004\n",
        "Read: US1IDAD0002\n",
        "Read: USC00101019"
       ]
      },
      {
       "output_type": "stream",
       "stream": "stdout",
       "text": [
        "\n",
        "Read: USC00101024\n",
        "Reformatting: USC00101017"
       ]
      },
      {
       "output_type": "stream",
       "stream": "stdout",
       "text": [
        "\n",
        "Reformatting: US1IDAD0011"
       ]
      },
      {
       "output_type": "stream",
       "stream": "stdout",
       "text": [
        "\n",
        "Reformatting: US1IDAD0005"
       ]
      },
      {
       "output_type": "stream",
       "stream": "stdout",
       "text": [
        "\n",
        "Reformatting: US1IDAD0012"
       ]
      },
      {
       "output_type": "stream",
       "stream": "stdout",
       "text": [
        "\n",
        "Reformatting: US1IDAD0002"
       ]
      },
      {
       "output_type": "stream",
       "stream": "stdout",
       "text": [
        "\n",
        "Reformatting: US1IDAD0014"
       ]
      },
      {
       "output_type": "stream",
       "stream": "stdout",
       "text": [
        "\n",
        "Reformatting: US1IDAD0019"
       ]
      },
      {
       "output_type": "stream",
       "stream": "stdout",
       "text": [
        "\n",
        "Reformatting: US1IDAD0025"
       ]
      },
      {
       "output_type": "stream",
       "stream": "stdout",
       "text": [
        "\n",
        "Reformatting: US1IDAD0020"
       ]
      },
      {
       "output_type": "stream",
       "stream": "stdout",
       "text": [
        "\n",
        "Reformatting: US1IDAD0021"
       ]
      },
      {
       "output_type": "stream",
       "stream": "stdout",
       "text": [
        "\n",
        "Reformatting: US1IDAD0008"
       ]
      },
      {
       "output_type": "stream",
       "stream": "stdout",
       "text": [
        "\n",
        "Reformatting: USC00101018"
       ]
      },
      {
       "output_type": "stream",
       "stream": "stdout",
       "text": [
        "\n",
        "Reformatting: US1IDAD0006"
       ]
      },
      {
       "output_type": "stream",
       "stream": "stdout",
       "text": [
        "\n",
        "Reformatting: US1IDAD0004"
       ]
      },
      {
       "output_type": "stream",
       "stream": "stdout",
       "text": [
        "\n",
        "Reformatting: US1IDAD0009"
       ]
      },
      {
       "output_type": "stream",
       "stream": "stdout",
       "text": [
        "\n",
        "Reformatting: USW00024131"
       ]
      },
      {
       "output_type": "stream",
       "stream": "stdout",
       "text": [
        "\n",
        "Reformatting: USC00101019"
       ]
      },
      {
       "output_type": "stream",
       "stream": "stdout",
       "text": [
        "\n",
        "Reformatting: US1IDBS0001"
       ]
      },
      {
       "output_type": "stream",
       "stream": "stdout",
       "text": [
        "\n",
        "Reformatting: USC00101024"
       ]
      },
      {
       "output_type": "stream",
       "stream": "stdout",
       "text": [
        "\n",
        "Reformatting: US1IDBS0003"
       ]
      },
      {
       "output_type": "stream",
       "stream": "stdout",
       "text": [
        "\n",
        "       City      Station\n",
        "139  BOSTON  USC00190768\n",
        "140  BOSTON  USW00014739\n",
        "141  BOSTON  US1MASF0001\n",
        "142  BOSTON  USW00094701"
       ]
      },
      {
       "output_type": "stream",
       "stream": "stdout",
       "text": [
        "\n",
        "Read: USC00190768\n",
        "Read: USW00014739\n",
        "Read: US1MASF0001"
       ]
      },
      {
       "output_type": "stream",
       "stream": "stdout",
       "text": [
        "\n",
        "Read: USW00094701\n",
        "Reformatting: USW00014739"
       ]
      },
      {
       "output_type": "stream",
       "stream": "stdout",
       "text": [
        "\n",
        "Reformatting: USC00190768"
       ]
      },
      {
       "output_type": "stream",
       "stream": "stdout",
       "text": [
        "\n",
        "Reformatting: USW00094701"
       ]
      },
      {
       "output_type": "stream",
       "stream": "stdout",
       "text": [
        "\n",
        "Reformatting: US1MASF0001"
       ]
      },
      {
       "output_type": "stream",
       "stream": "stdout",
       "text": [
        "\n",
        "            City      Station\n",
        "143  CARSON CITY  US1NVCC0006\n",
        "144  CARSON CITY  US1NVCC0009\n",
        "145  CARSON CITY  US1NVCC0010\n",
        "146  CARSON CITY  US1NVCC0002\n",
        "147  CARSON CITY  USC00261485\n",
        "148  CARSON CITY  US1NVCC0008\n",
        "149  CARSON CITY  US1NVCC0007\n",
        "150  CARSON CITY  US1NVCC0005"
       ]
      },
      {
       "output_type": "stream",
       "stream": "stdout",
       "text": [
        "\n",
        "Read: US1NVCC0006\n",
        "Read: US1NVCC0009\n",
        "Read: US1NVCC0010\n",
        "Read: US1NVCC0002\n",
        "Read: USC00261485\n",
        "Read: US1NVCC0008"
       ]
      },
      {
       "output_type": "stream",
       "stream": "stdout",
       "text": [
        "\n",
        "Read: US1NVCC0007\n",
        "Read: US1NVCC0005\n",
        "Reformatting: USC00261485"
       ]
      },
      {
       "output_type": "stream",
       "stream": "stdout",
       "text": [
        "\n",
        "Reformatting: US1NVCC0008"
       ]
      },
      {
       "output_type": "stream",
       "stream": "stdout",
       "text": [
        "\n",
        "Reformatting: US1NVCC0009"
       ]
      },
      {
       "output_type": "stream",
       "stream": "stdout",
       "text": [
        "\n",
        "Reformatting: US1NVCC0005"
       ]
      },
      {
       "output_type": "stream",
       "stream": "stdout",
       "text": [
        "\n",
        "Reformatting: US1NVCC0006"
       ]
      },
      {
       "output_type": "stream",
       "stream": "stdout",
       "text": [
        "\n",
        "Reformatting: US1NVCC0007"
       ]
      },
      {
       "output_type": "stream",
       "stream": "stdout",
       "text": [
        "\n",
        "Reformatting: US1NVCC0002"
       ]
      },
      {
       "output_type": "stream",
       "stream": "stdout",
       "text": [
        "\n",
        "Reformatting: US1NVCC0010"
       ]
      },
      {
       "output_type": "stream",
       "stream": "stdout",
       "text": [
        "\n",
        "           City      Station\n",
        "151  CHARLESTON  USC00461575\n",
        "152  CHARLESTON  USC00461585\n",
        "153  CHARLESTON  USC00461579\n",
        "154  CHARLESTON  USW00013866"
       ]
      },
      {
       "output_type": "stream",
       "stream": "stdout",
       "text": [
        "\n",
        "Read: USC00461575\n",
        "Read: USC00461585"
       ]
      },
      {
       "output_type": "stream",
       "stream": "stdout",
       "text": [
        "\n",
        "Read: USC00461579\n",
        "Read: USW00013866"
       ]
      },
      {
       "output_type": "stream",
       "stream": "stdout",
       "text": [
        "\n",
        "Reformatting: USC00461575"
       ]
      },
      {
       "output_type": "stream",
       "stream": "stdout",
       "text": [
        "\n",
        "Reformatting: USC00461585"
       ]
      },
      {
       "output_type": "stream",
       "stream": "stdout",
       "text": [
        "\n",
        "Reformatting: USC00461579"
       ]
      },
      {
       "output_type": "stream",
       "stream": "stdout",
       "text": [
        "\n",
        "Reformatting: USW00013866"
       ]
      },
      {
       "output_type": "stream",
       "stream": "stdout",
       "text": [
        "\n",
        "         City      Station\n",
        "155  CHEYENNE  US1WYLM0164\n",
        "156  CHEYENNE  US1WYLM0156\n",
        "157  CHEYENNE  US1WYLM0148\n",
        "158  CHEYENNE  US1WYLM0146\n",
        "159  CHEYENNE  US1WYLM0073\n",
        "160  CHEYENNE  US1WYLM0036\n",
        "161  CHEYENNE  US1WYLM0031\n",
        "162  CHEYENNE  US1WYLM0028\n",
        "163  CHEYENNE  US1WYLM0026\n",
        "164  CHEYENNE  US1WYLM0025\n",
        "165  CHEYENNE  US1WYLM0024\n",
        "166  CHEYENNE  US1WYLM0022\n",
        "167  CHEYENNE  US1WYLM0021\n",
        "168  CHEYENNE  US1WYLM0020\n",
        "169  CHEYENNE  US1WYLM0016\n",
        "170  CHEYENNE  US1WYLM0015\n",
        "171  CHEYENNE  US1WYLM0012\n",
        "172  CHEYENNE  US1WYLM0011\n",
        "173  CHEYENNE  US1WYLM0072\n",
        "174  CHEYENNE  US1WYLM0071\n",
        "175  CHEYENNE  US1WYLM0008\n",
        "176  CHEYENNE  US1WYLM0007\n",
        "177  CHEYENNE  US1WYLM0006\n",
        "178  CHEYENNE  US1WYLM0005\n",
        "179  CHEYENNE  US1WYLM0002\n",
        "180  CHEYENNE  US1WYLM0075\n",
        "181  CHEYENNE  US1WYLM0069\n",
        "182  CHEYENNE  US1WYLM0085\n",
        "183  CHEYENNE  US1WYLM0087\n",
        "184  CHEYENNE  US1WYLM0078\n",
        "..        ...          ...\n",
        "207  CHEYENNE  US1WYLM0119\n",
        "208  CHEYENNE  US1WYLM0115\n",
        "209  CHEYENNE  US1WYLM0045\n",
        "210  CHEYENNE  US1WYLM0055\n",
        "211  CHEYENNE  US1WYLM0112\n",
        "212  CHEYENNE  USC00481687\n",
        "213  CHEYENNE  USC00481680\n",
        "214  CHEYENNE  USC00481676\n",
        "215  CHEYENNE  USC00481670\n",
        "216  CHEYENNE  US1WYLM0080\n",
        "217  CHEYENNE  USW00024018\n",
        "218  CHEYENNE  US1WYLM0047\n",
        "219  CHEYENNE  US1WYLM0111\n",
        "220  CHEYENNE  US1WYLM0107\n",
        "221  CHEYENNE  US1WYLM0106\n",
        "222  CHEYENNE  US1WYLM0103\n",
        "223  CHEYENNE  US1WYLM0102\n",
        "224  CHEYENNE  US1WYLM0099\n",
        "225  CHEYENNE  US1WYLM0044\n",
        "226  CHEYENNE  US1WYLM0088\n",
        "227  CHEYENNE  US1WYLM0093\n",
        "228  CHEYENNE  US1WYLM0060\n",
        "229  CHEYENNE  US1WYLM0061\n",
        "230  CHEYENNE  US1WYLM0062\n",
        "231  CHEYENNE  US1WYLM0064\n",
        "232  CHEYENNE  US1WYLM0065\n",
        "233  CHEYENNE  US1WYLM0098\n",
        "234  CHEYENNE  US1WYLM0095\n",
        "235  CHEYENNE  US1WYLM0094\n",
        "236  CHEYENNE  US1WYLM0082\n",
        "\n",
        "[82 rows x 2 columns]"
       ]
      },
      {
       "output_type": "stream",
       "stream": "stdout",
       "text": [
        "\n",
        "Read: US1WYLM0164\n",
        "Read: US1WYLM0156\n",
        "Read: US1WYLM0148\n",
        "Read: US1WYLM0146\n",
        "Read: US1WYLM0073\n",
        "Read: US1WYLM0036\n",
        "Read: US1WYLM0031\n",
        "Read: US1WYLM0028\n",
        "Read: US1WYLM0026\n",
        "Read: US1WYLM0025"
       ]
      },
      {
       "output_type": "stream",
       "stream": "stdout",
       "text": [
        "\n",
        "Read: US1WYLM0024\n",
        "Read: US1WYLM0022\n",
        "Read: US1WYLM0021\n",
        "Read: US1WYLM0020"
       ]
      },
      {
       "output_type": "stream",
       "stream": "stdout",
       "text": [
        "\n",
        "Read: US1WYLM0016\n",
        "Read: US1WYLM0015\n",
        "Read: US1WYLM0012\n",
        "Read: US1WYLM0011\n",
        "Read: US1WYLM0072\n",
        "Read: US1WYLM0071\n",
        "Read: US1WYLM0008\n",
        "Read: US1WYLM0007"
       ]
      },
      {
       "output_type": "stream",
       "stream": "stdout",
       "text": [
        "\n",
        "Read: US1WYLM0006\n",
        "Read: US1WYLM0005\n",
        "Read: US1WYLM0002\n",
        "Read: US1WYLM0075\n",
        "Read: US1WYLM0069"
       ]
      },
      {
       "output_type": "stream",
       "stream": "stdout",
       "text": [
        "\n",
        "Read: US1WYLM0085\n",
        "Read: US1WYLM0087\n",
        "Read: US1WYLM0078\n",
        "Read: US1WYLM0037\n",
        "Read: US1WYLM0039\n",
        "Read: US1WYLM0046\n",
        "Read: US1WYLM0042\n",
        "Read: US1WYLM0043"
       ]
      },
      {
       "output_type": "stream",
       "stream": "stdout",
       "text": [
        "\n",
        "Read: US1WYLM0144\n",
        "Read: US1WYLM0142\n",
        "Read: US1WYLM0139\n",
        "Read: US1WYLM0138\n",
        "Read: US1WYLM0133\n",
        "Read: US1WYLM0132\n",
        "Read: US1WYLM0131\n",
        "Read: US1WYLM0128\n",
        "Read: US1WYLM0127\n",
        "Read: US1WYLM0126\n",
        "Read: US1WYLM0125"
       ]
      },
      {
       "output_type": "stream",
       "stream": "stdout",
       "text": [
        "\n",
        "Read: US1WYLM0124\n",
        "Read: US1WYLM0121\n",
        "Read: US1WYLM0120\n",
        "Read: US1WYLM0048\n",
        "Read: US1WYLM0050\n",
        "Read: US1WYLM0053\n",
        "Read: US1WYLM0119\n",
        "Read: US1WYLM0115"
       ]
      },
      {
       "output_type": "stream",
       "stream": "stdout",
       "text": [
        "\n",
        "Read: US1WYLM0045\n",
        "Read: US1WYLM0055\n",
        "Read: US1WYLM0112\n",
        "Read: USC00481687\n",
        "Read: USC00481680"
       ]
      },
      {
       "output_type": "stream",
       "stream": "stdout",
       "text": [
        "\n",
        "Read: USC00481676"
       ]
      },
      {
       "output_type": "stream",
       "stream": "stdout",
       "text": [
        "\n",
        "Read: USC00481670\n",
        "Read: US1WYLM0080"
       ]
      },
      {
       "output_type": "stream",
       "stream": "stdout",
       "text": [
        "\n",
        "Read: USW00024018\n",
        "Read: US1WYLM0047"
       ]
      },
      {
       "output_type": "stream",
       "stream": "stdout",
       "text": [
        "\n",
        "Read: US1WYLM0111\n",
        "Read: US1WYLM0107\n",
        "Read: US1WYLM0106\n",
        "Read: US1WYLM0103\n",
        "Read: US1WYLM0102\n",
        "Read: US1WYLM0099"
       ]
      },
      {
       "output_type": "stream",
       "stream": "stdout",
       "text": [
        "\n",
        "Read: US1WYLM0044\n",
        "Read: US1WYLM0088\n",
        "Read: US1WYLM0093\n",
        "Read: US1WYLM0060\n",
        "Read: US1WYLM0061"
       ]
      },
      {
       "output_type": "stream",
       "stream": "stdout",
       "text": [
        "\n",
        "Read: US1WYLM0062\n",
        "Read: US1WYLM0064\n",
        "Read: US1WYLM0065\n",
        "Read: US1WYLM0098\n",
        "Read: US1WYLM0095\n",
        "Read: US1WYLM0094\n",
        "Read: US1WYLM0082\n",
        "Reformatting: US1WYLM0121"
       ]
      },
      {
       "output_type": "stream",
       "stream": "stdout",
       "text": [
        "\n",
        "Reformatting: US1WYLM0064"
       ]
      },
      {
       "output_type": "stream",
       "stream": "stdout",
       "text": [
        "\n",
        "Reformatting: US1WYLM0127"
       ]
      },
      {
       "output_type": "stream",
       "stream": "stdout",
       "text": [
        "\n",
        "Reformatting: US1WYLM0085"
       ]
      },
      {
       "output_type": "stream",
       "stream": "stdout",
       "text": [
        "\n",
        "Reformatting: US1WYLM0021"
       ]
      },
      {
       "output_type": "stream",
       "stream": "stdout",
       "text": [
        "\n",
        "Reformatting: US1WYLM0065"
       ]
      },
      {
       "output_type": "stream",
       "stream": "stdout",
       "text": [
        "\n",
        "Reformatting: US1WYLM0006"
       ]
      },
      {
       "output_type": "stream",
       "stream": "stdout",
       "text": [
        "\n",
        "Reformatting: US1WYLM0061"
       ]
      },
      {
       "output_type": "stream",
       "stream": "stdout",
       "text": [
        "\n",
        "Reformatting: US1WYLM0093"
       ]
      },
      {
       "output_type": "stream",
       "stream": "stdout",
       "text": [
        "\n",
        "Reformatting: US1WYLM0094"
       ]
      },
      {
       "output_type": "stream",
       "stream": "stdout",
       "text": [
        "\n",
        "Reformatting: US1WYLM0126"
       ]
      },
      {
       "output_type": "stream",
       "stream": "stdout",
       "text": [
        "\n",
        "Reformatting: US1WYLM0078"
       ]
      },
      {
       "output_type": "stream",
       "stream": "stdout",
       "text": [
        "\n",
        "Reformatting: US1WYLM0060"
       ]
      },
      {
       "output_type": "stream",
       "stream": "stdout",
       "text": [
        "\n",
        "Reformatting: US1WYLM0098"
       ]
      },
      {
       "output_type": "stream",
       "stream": "stdout",
       "text": [
        "\n",
        "Reformatting: US1WYLM0099"
       ]
      },
      {
       "output_type": "stream",
       "stream": "stdout",
       "text": [
        "\n",
        "Reformatting: USC00481687"
       ]
      },
      {
       "output_type": "stream",
       "stream": "stdout",
       "text": [
        "\n",
        "Reformatting: US1WYLM0075"
       ]
      },
      {
       "output_type": "stream",
       "stream": "stdout",
       "text": [
        "\n",
        "Reformatting: US1WYLM0072"
       ]
      },
      {
       "output_type": "stream",
       "stream": "stdout",
       "text": [
        "\n",
        "Reformatting: US1WYLM0073"
       ]
      },
      {
       "output_type": "stream",
       "stream": "stdout",
       "text": [
        "\n",
        "Reformatting: US1WYLM0071"
       ]
      },
      {
       "output_type": "stream",
       "stream": "stdout",
       "text": [
        "\n",
        "Reformatting: US1WYLM0055"
       ]
      },
      {
       "output_type": "stream",
       "stream": "stdout",
       "text": [
        "\n",
        "Reformatting: US1WYLM0139"
       ]
      },
      {
       "output_type": "stream",
       "stream": "stdout",
       "text": [
        "\n",
        "Reformatting: US1WYLM0031"
       ]
      },
      {
       "output_type": "stream",
       "stream": "stdout",
       "text": [
        "\n",
        "Reformatting: US1WYLM0036"
       ]
      },
      {
       "output_type": "stream",
       "stream": "stdout",
       "text": [
        "\n",
        "Reformatting: US1WYLM0037"
       ]
      },
      {
       "output_type": "stream",
       "stream": "stdout",
       "text": [
        "\n",
        "Reformatting: US1WYLM0053"
       ]
      },
      {
       "output_type": "stream",
       "stream": "stdout",
       "text": [
        "\n",
        "Reformatting: US1WYLM0133"
       ]
      },
      {
       "output_type": "stream",
       "stream": "stdout",
       "text": [
        "\n",
        "Reformatting: US1WYLM0011"
       ]
      },
      {
       "output_type": "stream",
       "stream": "stdout",
       "text": [
        "\n",
        "Reformatting: US1WYLM0012"
       ]
      },
      {
       "output_type": "stream",
       "stream": "stdout",
       "text": [
        "\n",
        "Reformatting: US1WYLM0039"
       ]
      },
      {
       "output_type": "stream",
       "stream": "stdout",
       "text": [
        "\n",
        "Reformatting: US1WYLM0111"
       ]
      },
      {
       "output_type": "stream",
       "stream": "stdout",
       "text": [
        "\n",
        "Reformatting: US1WYLM0015"
       ]
      },
      {
       "output_type": "stream",
       "stream": "stdout",
       "text": [
        "\n",
        "Reformatting: US1WYLM0016"
       ]
      },
      {
       "output_type": "stream",
       "stream": "stdout",
       "text": [
        "\n",
        "Reformatting: US1WYLM0115"
       ]
      },
      {
       "output_type": "stream",
       "stream": "stdout",
       "text": [
        "\n",
        "Reformatting: US1WYLM0112"
       ]
      },
      {
       "output_type": "stream",
       "stream": "stdout",
       "text": [
        "\n",
        "Reformatting: US1WYLM0062"
       ]
      },
      {
       "output_type": "stream",
       "stream": "stdout",
       "text": [
        "\n",
        "Reformatting: US1WYLM0044"
       ]
      },
      {
       "output_type": "stream",
       "stream": "stdout",
       "text": [
        "\n",
        "Reformatting: USC00481676"
       ]
      },
      {
       "output_type": "stream",
       "stream": "stdout",
       "text": [
        "\n",
        "Reformatting: US1WYLM0156"
       ]
      },
      {
       "output_type": "stream",
       "stream": "stdout",
       "text": [
        "\n",
        "Reformatting: USC00481670"
       ]
      },
      {
       "output_type": "stream",
       "stream": "stdout",
       "text": [
        "\n",
        "Reformatting: US1WYLM0119"
       ]
      },
      {
       "output_type": "stream",
       "stream": "stdout",
       "text": [
        "\n",
        "Reformatting: US1WYLM0048"
       ]
      },
      {
       "output_type": "stream",
       "stream": "stdout",
       "text": [
        "\n",
        "Reformatting: US1WYLM0128"
       ]
      },
      {
       "output_type": "stream",
       "stream": "stdout",
       "text": [
        "\n",
        "Reformatting: US1WYLM0103"
       ]
      },
      {
       "output_type": "stream",
       "stream": "stdout",
       "text": [
        "\n",
        "Reformatting: USC00481680"
       ]
      },
      {
       "output_type": "stream",
       "stream": "stdout",
       "text": [
        "\n",
        "Reformatting: US1WYLM0124"
       ]
      },
      {
       "output_type": "stream",
       "stream": "stdout",
       "text": [
        "\n",
        "Reformatting: US1WYLM0107"
       ]
      },
      {
       "output_type": "stream",
       "stream": "stdout",
       "text": [
        "\n",
        "Reformatting: US1WYLM0102"
       ]
      },
      {
       "output_type": "stream",
       "stream": "stdout",
       "text": [
        "\n",
        "Reformatting: US1WYLM0069"
       ]
      },
      {
       "output_type": "stream",
       "stream": "stdout",
       "text": [
        "\n",
        "Reformatting: US1WYLM0106"
       ]
      },
      {
       "output_type": "stream",
       "stream": "stdout",
       "text": [
        "\n",
        "Reformatting: US1WYLM0138"
       ]
      },
      {
       "output_type": "stream",
       "stream": "stdout",
       "text": [
        "\n",
        "Reformatting: US1WYLM0087"
       ]
      },
      {
       "output_type": "stream",
       "stream": "stdout",
       "text": [
        "\n",
        "Reformatting: US1WYLM0148"
       ]
      },
      {
       "output_type": "stream",
       "stream": "stdout",
       "text": [
        "\n",
        "Reformatting: US1WYLM0146"
       ]
      },
      {
       "output_type": "stream",
       "stream": "stdout",
       "text": [
        "\n",
        "Reformatting: US1WYLM0050"
       ]
      },
      {
       "output_type": "stream",
       "stream": "stdout",
       "text": [
        "\n",
        "Reformatting: US1WYLM0144"
       ]
      },
      {
       "output_type": "stream",
       "stream": "stdout",
       "text": [
        "\n",
        "Reformatting: US1WYLM0088"
       ]
      },
      {
       "output_type": "stream",
       "stream": "stdout",
       "text": [
        "\n",
        "Reformatting: US1WYLM0142"
       ]
      },
      {
       "output_type": "stream",
       "stream": "stdout",
       "text": [
        "\n",
        "Reformatting: US1WYLM0132"
       ]
      },
      {
       "output_type": "stream",
       "stream": "stdout",
       "text": [
        "\n",
        "Reformatting: US1WYLM0042"
       ]
      },
      {
       "output_type": "stream",
       "stream": "stdout",
       "text": [
        "\n",
        "Reformatting: US1WYLM0164"
       ]
      },
      {
       "output_type": "stream",
       "stream": "stdout",
       "text": [
        "\n",
        "Reformatting: US1WYLM0046"
       ]
      },
      {
       "output_type": "stream",
       "stream": "stdout",
       "text": [
        "\n",
        "Reformatting: US1WYLM0045"
       ]
      },
      {
       "output_type": "stream",
       "stream": "stdout",
       "text": [
        "\n",
        "Reformatting: US1WYLM0008"
       ]
      },
      {
       "output_type": "stream",
       "stream": "stdout",
       "text": [
        "\n",
        "Reformatting: US1WYLM0043"
       ]
      },
      {
       "output_type": "stream",
       "stream": "stdout",
       "text": [
        "\n",
        "Reformatting: US1WYLM0028"
       ]
      },
      {
       "output_type": "stream",
       "stream": "stdout",
       "text": [
        "\n",
        "Reformatting: US1WYLM0082"
       ]
      },
      {
       "output_type": "stream",
       "stream": "stdout",
       "text": [
        "\n",
        "Reformatting: US1WYLM0125"
       ]
      },
      {
       "output_type": "stream",
       "stream": "stdout",
       "text": [
        "\n",
        "Reformatting: US1WYLM0025"
       ]
      },
      {
       "output_type": "stream",
       "stream": "stdout",
       "text": [
        "\n",
        "Reformatting: US1WYLM0024"
       ]
      },
      {
       "output_type": "stream",
       "stream": "stdout",
       "text": [
        "\n",
        "Reformatting: US1WYLM0026"
       ]
      },
      {
       "output_type": "stream",
       "stream": "stdout",
       "text": [
        "\n",
        "Reformatting: US1WYLM0007"
       ]
      },
      {
       "output_type": "stream",
       "stream": "stdout",
       "text": [
        "\n",
        "Reformatting: US1WYLM0020"
       ]
      },
      {
       "output_type": "stream",
       "stream": "stdout",
       "text": [
        "\n",
        "Reformatting: US1WYLM0005"
       ]
      },
      {
       "output_type": "stream",
       "stream": "stdout",
       "text": [
        "\n",
        "Reformatting: US1WYLM0022"
       ]
      },
      {
       "output_type": "stream",
       "stream": "stdout",
       "text": [
        "\n",
        "Reformatting: US1WYLM0120"
       ]
      },
      {
       "output_type": "stream",
       "stream": "stdout",
       "text": [
        "\n",
        "Reformatting: US1WYLM0080"
       ]
      },
      {
       "output_type": "stream",
       "stream": "stdout",
       "text": [
        "\n",
        "Reformatting: US1WYLM0047"
       ]
      },
      {
       "output_type": "stream",
       "stream": "stdout",
       "text": [
        "\n",
        "Reformatting: US1WYLM0002"
       ]
      },
      {
       "output_type": "stream",
       "stream": "stdout",
       "text": [
        "\n",
        "Reformatting: USW00024018"
       ]
      },
      {
       "output_type": "stream",
       "stream": "stdout",
       "text": [
        "\n",
        "Reformatting: US1WYLM0131"
       ]
      },
      {
       "output_type": "stream",
       "stream": "stdout",
       "text": [
        "\n",
        "Reformatting: US1WYLM0095"
       ]
      },
      {
       "output_type": "stream",
       "stream": "stdout",
       "text": [
        "\n",
        "         City      Station\n",
        "237  COLUMBIA  USC00381937\n",
        "238  COLUMBIA  USC00381944\n",
        "239  COLUMBIA  USW00093833\n",
        "240  COLUMBIA  USW00053867\n",
        "241  COLUMBIA  US1SCLX0041\n",
        "242  COLUMBIA  US1SCRC0051\n",
        "243  COLUMBIA  US1SCRC0009\n",
        "244  COLUMBIA  US1SCRC0012\n",
        "245  COLUMBIA  USW00013883\n",
        "246  COLUMBIA  US1SCRC0017\n",
        "247  COLUMBIA  US1SCRC0028\n",
        "248  COLUMBIA  US1SCRC0055\n",
        "249  COLUMBIA  US1SCRC0054\n",
        "250  COLUMBIA  US1SCRC0039\n",
        "251  COLUMBIA  US1SCRC0042\n",
        "252  COLUMBIA  USC00381934"
       ]
      },
      {
       "output_type": "stream",
       "stream": "stdout",
       "text": [
        "\n",
        "Read: USC00381937\n",
        "Read: USC00381944\n",
        "Read: USW00093833"
       ]
      },
      {
       "output_type": "stream",
       "stream": "stdout",
       "text": [
        "\n",
        "Read: USW00053867\n",
        "Read: US1SCLX0041"
       ]
      },
      {
       "output_type": "stream",
       "stream": "stdout",
       "text": [
        "\n",
        "Read: US1SCRC0051\n",
        "Read: US1SCRC0009\n",
        "Read: US1SCRC0012\n",
        "Read: USW00013883\n",
        "Read: US1SCRC0017"
       ]
      },
      {
       "output_type": "stream",
       "stream": "stdout",
       "text": [
        "\n",
        "Read: US1SCRC0028\n",
        "Read: US1SCRC0055\n",
        "Read: US1SCRC0054\n",
        "Read: US1SCRC0039\n",
        "Read: US1SCRC0042\n",
        "Read: USC00381934\n",
        "Reformatting: US1SCRC0042\n",
        "Reformatting: US1SCLX0041"
       ]
      },
      {
       "output_type": "stream",
       "stream": "stdout",
       "text": [
        "\n",
        "Reformatting: USW00053867"
       ]
      },
      {
       "output_type": "stream",
       "stream": "stdout",
       "text": [
        "\n",
        "Reformatting: US1SCRC0054"
       ]
      },
      {
       "output_type": "stream",
       "stream": "stdout",
       "text": [
        "\n",
        "Reformatting: US1SCRC0055"
       ]
      },
      {
       "output_type": "stream",
       "stream": "stdout",
       "text": [
        "\n",
        "Reformatting: US1SCRC0051"
       ]
      },
      {
       "output_type": "stream",
       "stream": "stdout",
       "text": [
        "\n",
        "Reformatting: US1SCRC0012"
       ]
      },
      {
       "output_type": "stream",
       "stream": "stdout",
       "text": [
        "\n",
        "Reformatting: US1SCRC0039"
       ]
      },
      {
       "output_type": "stream",
       "stream": "stdout",
       "text": [
        "\n",
        "Reformatting: USW00093833"
       ]
      },
      {
       "output_type": "stream",
       "stream": "stdout",
       "text": [
        "\n",
        "Reformatting: US1SCRC0028"
       ]
      },
      {
       "output_type": "stream",
       "stream": "stdout",
       "text": [
        "\n",
        "Reformatting: US1SCRC0009"
       ]
      },
      {
       "output_type": "stream",
       "stream": "stdout",
       "text": [
        "\n",
        "Reformatting: US1SCRC0017"
       ]
      },
      {
       "output_type": "stream",
       "stream": "stdout",
       "text": [
        "\n",
        "Reformatting: USC00381937"
       ]
      },
      {
       "output_type": "stream",
       "stream": "stdout",
       "text": [
        "\n",
        "Reformatting: USC00381934"
       ]
      },
      {
       "output_type": "stream",
       "stream": "stdout",
       "text": [
        "\n",
        "Reformatting: USC00381944"
       ]
      },
      {
       "output_type": "stream",
       "stream": "stdout",
       "text": [
        "\n",
        "Reformatting: USW00013883"
       ]
      },
      {
       "output_type": "stream",
       "stream": "stdout",
       "text": [
        "\n",
        "         City      Station\n",
        "253  COLUMBUS  USW00004804\n",
        "254  COLUMBUS  USW00014821\n",
        "255  COLUMBUS  US1OHFR0034\n",
        "256  COLUMBUS  US1OHFR0025\n",
        "257  COLUMBUS  US1OHFR0024\n",
        "258  COLUMBUS  US1OHFR0020\n",
        "259  COLUMBUS  USW00093891\n",
        "260  COLUMBUS  USW00093834\n",
        "261  COLUMBUS  USW00013812\n",
        "262  COLUMBUS  USC00331785\n",
        "263  COLUMBUS  USC00331783\n",
        "264  COLUMBUS  USC00331782\n",
        "265  COLUMBUS  USC00331781\n",
        "266  COLUMBUS  US1OHFR0018\n",
        "267  COLUMBUS  USC00331777\n",
        "268  COLUMBUS  USC00331778\n",
        "269  COLUMBUS  USC00331779"
       ]
      },
      {
       "output_type": "stream",
       "stream": "stdout",
       "text": [
        "\n",
        "Read: USW00004804\n",
        "Read: USW00014821"
       ]
      },
      {
       "output_type": "stream",
       "stream": "stdout",
       "text": [
        "\n",
        "Read: US1OHFR0034"
       ]
      },
      {
       "output_type": "stream",
       "stream": "stdout",
       "text": [
        "\n",
        "Read: US1OHFR0025\n",
        "Read: US1OHFR0024\n",
        "Read: US1OHFR0020\n",
        "Read: USW00093891\n",
        "Read: USW00093834"
       ]
      },
      {
       "output_type": "stream",
       "stream": "stdout",
       "text": [
        "\n",
        "Read: USW00013812\n",
        "Read: USC00331785"
       ]
      },
      {
       "output_type": "stream",
       "stream": "stdout",
       "text": [
        "\n",
        "Read: USC00331783\n",
        "Read: USC00331782"
       ]
      },
      {
       "output_type": "stream",
       "stream": "stdout",
       "text": [
        "\n",
        "Read: USC00331781\n",
        "Read: US1OHFR0018"
       ]
      },
      {
       "output_type": "stream",
       "stream": "stdout",
       "text": [
        "\n",
        "Read: USC00331777\n",
        "Read: USC00331778\n",
        "Read: USC00331779"
       ]
      },
      {
       "output_type": "stream",
       "stream": "stdout",
       "text": [
        "\n",
        "Reformatting: USW00013812"
       ]
      },
      {
       "output_type": "stream",
       "stream": "stdout",
       "text": [
        "\n",
        "Reformatting: USC00331783"
       ]
      },
      {
       "output_type": "stream",
       "stream": "stdout",
       "text": [
        "\n",
        "Reformatting: USC00331781"
       ]
      },
      {
       "output_type": "stream",
       "stream": "stdout",
       "text": [
        "\n",
        "Reformatting: USC00331779"
       ]
      },
      {
       "output_type": "stream",
       "stream": "stdout",
       "text": [
        "\n",
        "Reformatting: USC00331785"
       ]
      },
      {
       "output_type": "stream",
       "stream": "stdout",
       "text": [
        "\n",
        "Reformatting: USW00004804"
       ]
      },
      {
       "output_type": "stream",
       "stream": "stdout",
       "text": [
        "\n",
        "Reformatting: USC00331782"
       ]
      },
      {
       "output_type": "stream",
       "stream": "stdout",
       "text": [
        "\n",
        "Reformatting: USC00331778"
       ]
      },
      {
       "output_type": "stream",
       "stream": "stdout",
       "text": [
        "\n",
        "Reformatting: US1OHFR0034"
       ]
      },
      {
       "output_type": "stream",
       "stream": "stdout",
       "text": [
        "\n",
        "Reformatting: US1OHFR0025"
       ]
      },
      {
       "output_type": "stream",
       "stream": "stdout",
       "text": [
        "\n",
        "Reformatting: US1OHFR0024"
       ]
      },
      {
       "output_type": "stream",
       "stream": "stdout",
       "text": [
        "\n",
        "Reformatting: USW00014821"
       ]
      },
      {
       "output_type": "stream",
       "stream": "stdout",
       "text": [
        "\n",
        "Reformatting: US1OHFR0020"
       ]
      },
      {
       "output_type": "stream",
       "stream": "stdout",
       "text": [
        "\n",
        "Reformatting: USW00093891"
       ]
      },
      {
       "output_type": "stream",
       "stream": "stdout",
       "text": [
        "\n",
        "Reformatting: US1OHFR0018"
       ]
      },
      {
       "output_type": "stream",
       "stream": "stdout",
       "text": [
        "\n",
        "Reformatting: USC00331777"
       ]
      },
      {
       "output_type": "stream",
       "stream": "stdout",
       "text": [
        "\n",
        "Reformatting: USW00093834"
       ]
      },
      {
       "output_type": "stream",
       "stream": "stdout",
       "text": [
        "\n",
        "        City      Station\n",
        "270  CONCORD  USW00014745\n",
        "271  CONCORD  USC00271682\n",
        "272  CONCORD  US1NHMR0009\n",
        "273  CONCORD  US1NHMR0017\n",
        "274  CONCORD  USC00271678"
       ]
      },
      {
       "output_type": "stream",
       "stream": "stdout",
       "text": [
        "\n",
        "Read: USW00014745\n",
        "Read: USC00271682"
       ]
      },
      {
       "output_type": "stream",
       "stream": "stdout",
       "text": [
        "\n",
        "Read: US1NHMR0009"
       ]
      },
      {
       "output_type": "stream",
       "stream": "stdout",
       "text": [
        "\n",
        "Read: US1NHMR0017\n",
        "Read: USC00271678\n",
        "Reformatting: USC00271678"
       ]
      },
      {
       "output_type": "stream",
       "stream": "stdout",
       "text": [
        "\n",
        "Reformatting: USC00271682"
       ]
      },
      {
       "output_type": "stream",
       "stream": "stdout",
       "text": [
        "\n",
        "Reformatting: USW00014745"
       ]
      },
      {
       "output_type": "stream",
       "stream": "stdout",
       "text": [
        "\n",
        "Reformatting: US1NHMR0009"
       ]
      },
      {
       "output_type": "stream",
       "stream": "stdout",
       "text": [
        "\n",
        "Reformatting: US1NHMR0017"
       ]
      },
      {
       "output_type": "stream",
       "stream": "stdout",
       "text": [
        "\n",
        "       City      Station\n",
        "275  DENVER  US1CODN0032\n",
        "276  DENVER  US1CODN0033\n",
        "277  DENVER  US1CODN0023\n",
        "278  DENVER  US1CODN0022\n",
        "279  DENVER  US1CODN0021\n",
        "280  DENVER  US1CODN0020\n",
        "281  DENVER  US1CODN0035\n",
        "282  DENVER  US1CODN0064\n",
        "283  DENVER  USW00023062\n",
        "284  DENVER  USW00023012\n",
        "285  DENVER  US1CODN0066\n",
        "286  DENVER  US1CODN0067\n",
        "287  DENVER  US1CODN0068\n",
        "288  DENVER  US1CODN0072\n",
        "289  DENVER  US1CODN0036\n",
        "290  DENVER  US1CODN0038\n",
        "291  DENVER  US1CODN0041\n",
        "292  DENVER  US1CODN0044\n",
        "293  DENVER  US1CODN0074\n",
        "294  DENVER  US1CODN0016\n",
        "295  DENVER  US1CODN0076\n",
        "296  DENVER  US1CODN0048\n",
        "297  DENVER  US1CODN0030\n",
        "298  DENVER  US1CODN0079\n",
        "299  DENVER  US1CODN0081\n",
        "300  DENVER  USW00093067\n",
        "301  DENVER  US1CODN0049\n",
        "302  DENVER  US1CODN0050\n",
        "303  DENVER  US1COJF0372\n",
        "304  DENVER  US1COJF0217\n",
        "..      ...          ...\n",
        "367  DENVER  US1CODN0127\n",
        "368  DENVER  US1CODN0122\n",
        "369  DENVER  USW00003017\n",
        "370  DENVER  US1CODN0117\n",
        "371  DENVER  US1CODN0116\n",
        "372  DENVER  US1CODN0115\n",
        "373  DENVER  US1CODN0112\n",
        "374  DENVER  US1CODN0110\n",
        "375  DENVER  US1CODN0103\n",
        "376  DENVER  US1CODN0099\n",
        "377  DENVER  US1CODN0098\n",
        "378  DENVER  US1CODN0095\n",
        "379  DENVER  USC00052213\n",
        "380  DENVER  US1CODN0093\n",
        "381  DENVER  US1COAR0050\n",
        "382  DENVER  US1COAR0047\n",
        "383  DENVER  US1COAR0045\n",
        "384  DENVER  US1COAR0044\n",
        "385  DENVER  US1COAR0043\n",
        "386  DENVER  US1COAR0042\n",
        "387  DENVER  US1COAD0091\n",
        "388  DENVER  US1COAD0023\n",
        "389  DENVER  US1COAD0020\n",
        "390  DENVER  USC00052223\n",
        "391  DENVER  USC00052228\n",
        "392  DENVER  US1CODN0089\n",
        "393  DENVER  US1CODN0088\n",
        "394  DENVER  US1CODN0024\n",
        "395  DENVER  US1COAD0012\n",
        "396  DENVER  US1COAD0015\n",
        "\n",
        "[122 rows x 2 columns]"
       ]
      },
      {
       "output_type": "stream",
       "stream": "stdout",
       "text": [
        "\n",
        "Read: US1CODN0032\n",
        "Read: US1CODN0033\n",
        "Read: US1CODN0023\n",
        "Read: US1CODN0022"
       ]
      },
      {
       "output_type": "stream",
       "stream": "stdout",
       "text": [
        "\n",
        "Read: US1CODN0021\n",
        "Read: US1CODN0020\n",
        "Read: US1CODN0035\n",
        "Read: US1CODN0064\n",
        "Read: USW00023062"
       ]
      },
      {
       "output_type": "stream",
       "stream": "stdout",
       "text": [
        "\n",
        "Read: USW00023012"
       ]
      },
      {
       "output_type": "stream",
       "stream": "stdout",
       "text": [
        "\n",
        "Read: US1CODN0066"
       ]
      },
      {
       "output_type": "stream",
       "stream": "stdout",
       "text": [
        "\n",
        "Read: US1CODN0067\n",
        "Read: US1CODN0068\n",
        "Read: US1CODN0072\n",
        "Read: US1CODN0036\n",
        "Read: US1CODN0038\n",
        "Read: US1CODN0041\n",
        "Read: US1CODN0044"
       ]
      },
      {
       "output_type": "stream",
       "stream": "stdout",
       "text": [
        "\n",
        "Read: US1CODN0074\n",
        "Read: US1CODN0016\n",
        "Read: US1CODN0076"
       ]
      },
      {
       "output_type": "stream",
       "stream": "stdout",
       "text": [
        "\n",
        "Read: US1CODN0048\n",
        "Read: US1CODN0030\n",
        "Read: US1CODN0079"
       ]
      },
      {
       "output_type": "stream",
       "stream": "stdout",
       "text": [
        "\n",
        "Read: US1CODN0081"
       ]
      },
      {
       "output_type": "stream",
       "stream": "stdout",
       "text": [
        "\n",
        "Read: USW00093067\n",
        "Read: US1CODN0049"
       ]
      },
      {
       "output_type": "stream",
       "stream": "stdout",
       "text": [
        "\n",
        "Read: US1CODN0050\n",
        "Read: US1COJF0372\n",
        "Read: US1COJF0217"
       ]
      },
      {
       "output_type": "stream",
       "stream": "stdout",
       "text": [
        "\n",
        "Read: US1COJF0214\n",
        "Read: US1COJF0083\n",
        "Read: US1COJF0071\n",
        "Read: US1COJF0064"
       ]
      },
      {
       "output_type": "stream",
       "stream": "stdout",
       "text": [
        "\n",
        "Read: US1COJF0060\n",
        "Read: US1COJF0057\n",
        "Read: US1COJF0056"
       ]
      },
      {
       "output_type": "stream",
       "stream": "stdout",
       "text": [
        "\n",
        "Read: US1COJF0048\n",
        "Read: US1COJF0047\n",
        "Read: US1COJF0044\n",
        "Read: US1COJF0039"
       ]
      },
      {
       "output_type": "stream",
       "stream": "stdout",
       "text": [
        "\n",
        "Read: US1COJF0035\n",
        "Read: US1CODN0053\n",
        "Read: US1CODN0025\n",
        "Read: US1COJF0026"
       ]
      },
      {
       "output_type": "stream",
       "stream": "stdout",
       "text": [
        "\n",
        "Read: US1CODN0015\n",
        "Read: US1CODN0010\n",
        "Read: US1CODN0026"
       ]
      },
      {
       "output_type": "stream",
       "stream": "stdout",
       "text": [
        "\n",
        "Read: US1CODN0078\n",
        "Read: US1CODN0008\n",
        "Read: USW00093032\n",
        "Read: USW00093002"
       ]
      },
      {
       "output_type": "stream",
       "stream": "stdout",
       "text": [
        "\n",
        "Read: US1COJF0010"
       ]
      },
      {
       "output_type": "stream",
       "stream": "stdout",
       "text": [
        "\n",
        "Read: US1COJF0004\n",
        "Read: US1CODN0082"
       ]
      },
      {
       "output_type": "stream",
       "stream": "stdout",
       "text": [
        "\n",
        "Read: US1COJF0003\n",
        "Read: US1COJF0002"
       ]
      },
      {
       "output_type": "stream",
       "stream": "stdout",
       "text": [
        "\n",
        "Read: US1COJF0001\n",
        "Read: US1CODN0052\n",
        "Read: US1CODN0028\n",
        "Read: US1CODN0223\n",
        "Read: US1CODN0205"
       ]
      },
      {
       "output_type": "stream",
       "stream": "stdout",
       "text": [
        "\n",
        "Read: US1CODN0199\n",
        "Read: US1CODN0196\n",
        "Read: US1CODN0077\n",
        "Read: US1CODN0006"
       ]
      },
      {
       "output_type": "stream",
       "stream": "stdout",
       "text": [
        "\n",
        "Read: US1CODN0005\n",
        "Read: US1CODN0004\n",
        "Read: US1CODG0005\n",
        "Read: US1CODG0001"
       ]
      },
      {
       "output_type": "stream",
       "stream": "stdout",
       "text": [
        "\n",
        "Read: US1COAR0245\n",
        "Read: US1COAR0107\n",
        "Read: US1COAR0105\n",
        "Read: US1COAR0070\n",
        "Read: US1COAR0064"
       ]
      },
      {
       "output_type": "stream",
       "stream": "stdout",
       "text": [
        "\n",
        "Read: US1COAR0063\n",
        "Read: US1COAR0059\n",
        "Read: US1CODN0051\n",
        "Read: US1CODN0190"
       ]
      },
      {
       "output_type": "stream",
       "stream": "stdout",
       "text": [
        "\n",
        "Read: US1CODN0187\n",
        "Read: US1CODN0186\n",
        "Read: US1CODN0183\n",
        "Read: US1CODN0180\n",
        "Read: US1CODN0175\n",
        "Read: US1CODN0168\n",
        "Read: US1CODN0160"
       ]
      },
      {
       "output_type": "stream",
       "stream": "stdout",
       "text": [
        "\n",
        "Read: US1CODN0159\n",
        "Read: US1CODN0147\n",
        "Read: US1CODN0146\n",
        "Read: US1CODN0143\n",
        "Read: US1CODN0141\n",
        "Read: US1CODN0136\n",
        "Read: US1CODN0127"
       ]
      },
      {
       "output_type": "stream",
       "stream": "stdout",
       "text": [
        "\n",
        "Read: US1CODN0122\n",
        "Read: USW00003017\n",
        "Read: US1CODN0117"
       ]
      },
      {
       "output_type": "stream",
       "stream": "stdout",
       "text": [
        "\n",
        "Read: US1CODN0116\n",
        "Read: US1CODN0115\n",
        "Read: US1CODN0112\n",
        "Read: US1CODN0110"
       ]
      },
      {
       "output_type": "stream",
       "stream": "stdout",
       "text": [
        "\n",
        "Read: US1CODN0103\n",
        "Read: US1CODN0099\n",
        "Read: US1CODN0098\n",
        "Read: US1CODN0095\n",
        "Read: USC00052213\n",
        "Read: US1CODN0093"
       ]
      },
      {
       "output_type": "stream",
       "stream": "stdout",
       "text": [
        "\n",
        "Read: US1COAR0050\n",
        "Read: US1COAR0047\n",
        "Read: US1COAR0045\n",
        "Read: US1COAR0044\n",
        "Read: US1COAR0043\n",
        "Read: US1COAR0042"
       ]
      },
      {
       "output_type": "stream",
       "stream": "stdout",
       "text": [
        "\n",
        "Read: US1COAD0091\n",
        "Read: US1COAD0023\n",
        "Read: US1COAD0020\n",
        "Read: USC00052223"
       ]
      },
      {
       "output_type": "stream",
       "stream": "stdout",
       "text": [
        "\n",
        "Read: USC00052228"
       ]
      },
      {
       "output_type": "stream",
       "stream": "stdout",
       "text": [
        "\n",
        "Read: US1CODN0089\n",
        "Read: US1CODN0088\n",
        "Read: US1CODN0024\n",
        "Read: US1COAD0012"
       ]
      },
      {
       "output_type": "stream",
       "stream": "stdout",
       "text": [
        "\n",
        "Read: US1COAD0015\n",
        "Reformatting: US1COAR0105\n",
        "Reformatting: US1COAR0107"
       ]
      },
      {
       "output_type": "stream",
       "stream": "stdout",
       "text": [
        "\n",
        "Reformatting: US1CODN0147"
       ]
      },
      {
       "output_type": "stream",
       "stream": "stdout",
       "text": [
        "\n",
        "Reformatting: US1CODN0146"
       ]
      },
      {
       "output_type": "stream",
       "stream": "stdout",
       "text": [
        "\n",
        "Reformatting: US1CODN0143"
       ]
      },
      {
       "output_type": "stream",
       "stream": "stdout",
       "text": [
        "\n",
        "Reformatting: US1CODN0141"
       ]
      },
      {
       "output_type": "stream",
       "stream": "stdout",
       "text": [
        "\n",
        "Reformatting: US1CODN0020"
       ]
      },
      {
       "output_type": "stream",
       "stream": "stdout",
       "text": [
        "\n",
        "Reformatting: US1CODN0021"
       ]
      },
      {
       "output_type": "stream",
       "stream": "stdout",
       "text": [
        "\n",
        "Reformatting: US1CODN0022"
       ]
      },
      {
       "output_type": "stream",
       "stream": "stdout",
       "text": [
        "\n",
        "Reformatting: US1CODN0023"
       ]
      },
      {
       "output_type": "stream",
       "stream": "stdout",
       "text": [
        "\n",
        "Reformatting: US1COJF0044"
       ]
      },
      {
       "output_type": "stream",
       "stream": "stdout",
       "text": [
        "\n",
        "Reformatting: US1CODN0025"
       ]
      },
      {
       "output_type": "stream",
       "stream": "stdout",
       "text": [
        "\n",
        "Reformatting: US1CODN0026"
       ]
      },
      {
       "output_type": "stream",
       "stream": "stdout",
       "text": [
        "\n",
        "Reformatting: US1COJF0047"
       ]
      },
      {
       "output_type": "stream",
       "stream": "stdout",
       "text": [
        "\n",
        "Reformatting: US1COJF0048"
       ]
      },
      {
       "output_type": "stream",
       "stream": "stdout",
       "text": [
        "\n",
        "Reformatting: USW00023062"
       ]
      },
      {
       "output_type": "stream",
       "stream": "stdout",
       "text": [
        "\n",
        "Reformatting: US1COJF0004"
       ]
      },
      {
       "output_type": "stream",
       "stream": "stdout",
       "text": [
        "\n",
        "Reformatting: US1CODG0001"
       ]
      },
      {
       "output_type": "stream",
       "stream": "stdout",
       "text": [
        "\n",
        "Reformatting: US1CODG0005"
       ]
      },
      {
       "output_type": "stream",
       "stream": "stdout",
       "text": [
        "\n",
        "Reformatting: US1COAD0015"
       ]
      },
      {
       "output_type": "stream",
       "stream": "stdout",
       "text": [
        "\n",
        "Reformatting: US1COAD0012"
       ]
      },
      {
       "output_type": "stream",
       "stream": "stdout",
       "text": [
        "\n",
        "Reformatting: US1CODN0159"
       ]
      },
      {
       "output_type": "stream",
       "stream": "stdout",
       "text": [
        "\n",
        "Reformatting: US1CODN0015"
       ]
      },
      {
       "output_type": "stream",
       "stream": "stdout",
       "text": [
        "\n",
        "Reformatting: US1CODN0016"
       ]
      },
      {
       "output_type": "stream",
       "stream": "stdout",
       "text": [
        "\n",
        "Reformatting: US1COJF0071"
       ]
      },
      {
       "output_type": "stream",
       "stream": "stdout",
       "text": [
        "\n",
        "Reformatting: US1CODN0010"
       ]
      },
      {
       "output_type": "stream",
       "stream": "stdout",
       "text": [
        "\n",
        "Reformatting: US1COJF0372"
       ]
      },
      {
       "output_type": "stream",
       "stream": "stdout",
       "text": [
        "\n",
        "Reformatting: US1CODN0099"
       ]
      },
      {
       "output_type": "stream",
       "stream": "stdout",
       "text": [
        "\n",
        "Reformatting: US1CODN0098"
       ]
      },
      {
       "output_type": "stream",
       "stream": "stdout",
       "text": [
        "\n",
        "Reformatting: US1CODN0095"
       ]
      },
      {
       "output_type": "stream",
       "stream": "stdout",
       "text": [
        "\n",
        "Reformatting: US1CODN0093"
       ]
      },
      {
       "output_type": "stream",
       "stream": "stdout",
       "text": [
        "\n",
        "Reformatting: US1COAD0020"
       ]
      },
      {
       "output_type": "stream",
       "stream": "stdout",
       "text": [
        "\n",
        "Reformatting: US1COAD0023"
       ]
      },
      {
       "output_type": "stream",
       "stream": "stdout",
       "text": [
        "\n",
        "Reformatting: US1CODN0024"
       ]
      },
      {
       "output_type": "stream",
       "stream": "stdout",
       "text": [
        "\n",
        "Reformatting: US1CODN0160"
       ]
      },
      {
       "output_type": "stream",
       "stream": "stdout",
       "text": [
        "\n",
        "Reformatting: US1CODN0008"
       ]
      },
      {
       "output_type": "stream",
       "stream": "stdout",
       "text": [
        "\n",
        "Reformatting: US1CODN0168"
       ]
      },
      {
       "output_type": "stream",
       "stream": "stdout",
       "text": [
        "\n",
        "Reformatting: US1COJF0060"
       ]
      },
      {
       "output_type": "stream",
       "stream": "stdout",
       "text": [
        "\n",
        "Reformatting: US1CODN0006"
       ]
      },
      {
       "output_type": "stream",
       "stream": "stdout",
       "text": [
        "\n",
        "Reformatting: US1CODN0004"
       ]
      },
      {
       "output_type": "stream",
       "stream": "stdout",
       "text": [
        "\n",
        "Reformatting: US1CODN0005"
       ]
      },
      {
       "output_type": "stream",
       "stream": "stdout",
       "text": [
        "\n",
        "Reformatting: US1CODN0028"
       ]
      },
      {
       "output_type": "stream",
       "stream": "stdout",
       "text": [
        "\n",
        "Reformatting: US1COAR0245"
       ]
      },
      {
       "output_type": "stream",
       "stream": "stdout",
       "text": [
        "\n",
        "Reformatting: US1CODN0082"
       ]
      },
      {
       "output_type": "stream",
       "stream": "stdout",
       "text": [
        "\n",
        "Reformatting: US1CODN0081"
       ]
      },
      {
       "output_type": "stream",
       "stream": "stdout",
       "text": [
        "\n",
        "Reformatting: US1CODN0088"
       ]
      },
      {
       "output_type": "stream",
       "stream": "stdout",
       "text": [
        "\n",
        "Reformatting: US1CODN0089"
       ]
      },
      {
       "output_type": "stream",
       "stream": "stdout",
       "text": [
        "\n",
        "Reformatting: US1CODN0175"
       ]
      },
      {
       "output_type": "stream",
       "stream": "stdout",
       "text": [
        "\n",
        "Reformatting: US1CODN0079"
       ]
      },
      {
       "output_type": "stream",
       "stream": "stdout",
       "text": [
        "\n",
        "Reformatting: US1CODN0078"
       ]
      },
      {
       "output_type": "stream",
       "stream": "stdout",
       "text": [
        "\n",
        "Reformatting: US1CODN0077"
       ]
      },
      {
       "output_type": "stream",
       "stream": "stdout",
       "text": [
        "\n",
        "Reformatting: US1CODN0076"
       ]
      },
      {
       "output_type": "stream",
       "stream": "stdout",
       "text": [
        "\n",
        "Reformatting: US1CODN0074"
       ]
      },
      {
       "output_type": "stream",
       "stream": "stdout",
       "text": [
        "\n",
        "Reformatting: US1CODN0072"
       ]
      },
      {
       "output_type": "stream",
       "stream": "stdout",
       "text": [
        "\n",
        "Reformatting: US1COJF0010"
       ]
      },
      {
       "output_type": "stream",
       "stream": "stdout",
       "text": [
        "\n",
        "Reformatting: US1CODN0223"
       ]
      },
      {
       "output_type": "stream",
       "stream": "stdout",
       "text": [
        "\n",
        "Reformatting: USW00023012"
       ]
      },
      {
       "output_type": "stream",
       "stream": "stdout",
       "text": [
        "\n",
        "Reformatting: USC00052213"
       ]
      },
      {
       "output_type": "stream",
       "stream": "stdout",
       "text": [
        "\n",
        "Reformatting: US1COJF0056"
       ]
      },
      {
       "output_type": "stream",
       "stream": "stdout",
       "text": [
        "\n",
        "Reformatting: US1CODN0068"
       ]
      },
      {
       "output_type": "stream",
       "stream": "stdout",
       "text": [
        "\n",
        "Reformatting: US1CODN0064"
       ]
      },
      {
       "output_type": "stream",
       "stream": "stdout",
       "text": [
        "\n",
        "Reformatting: US1CODN0066"
       ]
      },
      {
       "output_type": "stream",
       "stream": "stdout",
       "text": [
        "\n",
        "Reformatting: US1CODN0067"
       ]
      },
      {
       "output_type": "stream",
       "stream": "stdout",
       "text": [
        "\n",
        "Reformatting: US1COJF0001"
       ]
      },
      {
       "output_type": "stream",
       "stream": "stdout",
       "text": [
        "\n",
        "Reformatting: US1COJF0002"
       ]
      },
      {
       "output_type": "stream",
       "stream": "stdout",
       "text": [
        "\n",
        "Reformatting: US1COJF0003"
       ]
      },
      {
       "output_type": "stream",
       "stream": "stdout",
       "text": [
        "\n",
        "Reformatting: US1CODN0103"
       ]
      },
      {
       "output_type": "stream",
       "stream": "stdout",
       "text": [
        "\n",
        "Reformatting: US1COAR0063"
       ]
      },
      {
       "output_type": "stream",
       "stream": "stdout",
       "text": [
        "\n",
        "Reformatting: USW00003017"
       ]
      },
      {
       "output_type": "stream",
       "stream": "stdout",
       "text": [
        "\n",
        "Reformatting: US1COAR0064"
       ]
      },
      {
       "output_type": "stream",
       "stream": "stdout",
       "text": [
        "\n",
        "Reformatting: US1COAR0059"
       ]
      },
      {
       "output_type": "stream",
       "stream": "stdout",
       "text": [
        "\n",
        "Reformatting: US1COJF0083"
       ]
      },
      {
       "output_type": "stream",
       "stream": "stdout",
       "text": [
        "\n",
        "Reformatting: US1CODN0183"
       ]
      },
      {
       "output_type": "stream",
       "stream": "stdout",
       "text": [
        "\n",
        "Reformatting: US1CODN0180"
       ]
      },
      {
       "output_type": "stream",
       "stream": "stdout",
       "text": [
        "\n",
        "Reformatting: US1CODN0187"
       ]
      },
      {
       "output_type": "stream",
       "stream": "stdout",
       "text": [
        "\n",
        "Reformatting: US1CODN0186"
       ]
      },
      {
       "output_type": "stream",
       "stream": "stdout",
       "text": [
        "\n",
        "Reformatting: US1CODN0051"
       ]
      },
      {
       "output_type": "stream",
       "stream": "stdout",
       "text": [
        "\n",
        "Reformatting: US1CODN0050"
       ]
      },
      {
       "output_type": "stream",
       "stream": "stdout",
       "text": [
        "\n",
        "Reformatting: US1CODN0053"
       ]
      },
      {
       "output_type": "stream",
       "stream": "stdout",
       "text": [
        "\n",
        "Reformatting: US1CODN0052"
       ]
      },
      {
       "output_type": "stream",
       "stream": "stdout",
       "text": [
        "\n",
        "Reformatting: US1COJF0035"
       ]
      },
      {
       "output_type": "stream",
       "stream": "stdout",
       "text": [
        "\n",
        "Reformatting: US1COJF0039"
       ]
      },
      {
       "output_type": "stream",
       "stream": "stdout",
       "text": [
        "\n",
        "Reformatting: US1CODN0110"
       ]
      },
      {
       "output_type": "stream",
       "stream": "stdout",
       "text": [
        "\n",
        "Reformatting: US1CODN0112"
       ]
      },
      {
       "output_type": "stream",
       "stream": "stdout",
       "text": [
        "\n",
        "Reformatting: US1COJF0064"
       ]
      },
      {
       "output_type": "stream",
       "stream": "stdout",
       "text": [
        "\n",
        "Reformatting: US1CODN0116"
       ]
      },
      {
       "output_type": "stream",
       "stream": "stdout",
       "text": [
        "\n",
        "Reformatting: US1CODN0117"
       ]
      },
      {
       "output_type": "stream",
       "stream": "stdout",
       "text": [
        "\n",
        "Reformatting: US1COAR0070"
       ]
      },
      {
       "output_type": "stream",
       "stream": "stdout",
       "text": [
        "\n",
        "Reformatting: US1CODN0205"
       ]
      },
      {
       "output_type": "stream",
       "stream": "stdout",
       "text": [
        "\n",
        "Reformatting: USW00093032"
       ]
      },
      {
       "output_type": "stream",
       "stream": "stdout",
       "text": [
        "\n",
        "Reformatting: US1CODN0199"
       ]
      },
      {
       "output_type": "stream",
       "stream": "stdout",
       "text": [
        "\n",
        "Reformatting: USW00093067"
       ]
      },
      {
       "output_type": "stream",
       "stream": "stdout",
       "text": [
        "\n",
        "Reformatting: US1CODN0190"
       ]
      },
      {
       "output_type": "stream",
       "stream": "stdout",
       "text": [
        "\n",
        "Reformatting: US1COAD0091"
       ]
      },
      {
       "output_type": "stream",
       "stream": "stdout",
       "text": [
        "\n",
        "Reformatting: US1CODN0196"
       ]
      },
      {
       "output_type": "stream",
       "stream": "stdout",
       "text": [
        "\n",
        "Reformatting: US1COJF0026"
       ]
      },
      {
       "output_type": "stream",
       "stream": "stdout",
       "text": [
        "\n",
        "Reformatting: US1CODN0044"
       ]
      },
      {
       "output_type": "stream",
       "stream": "stdout",
       "text": [
        "\n",
        "Reformatting: US1CODN0041"
       ]
      },
      {
       "output_type": "stream",
       "stream": "stdout",
       "text": [
        "\n",
        "Reformatting: US1CODN0048"
       ]
      },
      {
       "output_type": "stream",
       "stream": "stdout",
       "text": [
        "\n",
        "Reformatting: US1CODN0049"
       ]
      },
      {
       "output_type": "stream",
       "stream": "stdout",
       "text": [
        "\n",
        "Reformatting: US1CODN0127"
       ]
      },
      {
       "output_type": "stream",
       "stream": "stdout",
       "text": [
        "\n",
        "Reformatting: US1CODN0122"
       ]
      },
      {
       "output_type": "stream",
       "stream": "stdout",
       "text": [
        "\n",
        "Reformatting: US1COAR0045"
       ]
      },
      {
       "output_type": "stream",
       "stream": "stdout",
       "text": [
        "\n",
        "Reformatting: US1COAR0044"
       ]
      },
      {
       "output_type": "stream",
       "stream": "stdout",
       "text": [
        "\n",
        "Reformatting: US1COAR0047"
       ]
      },
      {
       "output_type": "stream",
       "stream": "stdout",
       "text": [
        "\n",
        "Reformatting: US1COAR0043"
       ]
      },
      {
       "output_type": "stream",
       "stream": "stdout",
       "text": [
        "\n",
        "Reformatting: US1COAR0042"
       ]
      },
      {
       "output_type": "stream",
       "stream": "stdout",
       "text": [
        "\n",
        "Reformatting: USC00052223"
       ]
      },
      {
       "output_type": "stream",
       "stream": "stdout",
       "text": [
        "\n",
        "Reformatting: USC00052228"
       ]
      },
      {
       "output_type": "stream",
       "stream": "stdout",
       "text": [
        "\n",
        "Reformatting: US1CODN0136"
       ]
      },
      {
       "output_type": "stream",
       "stream": "stdout",
       "text": [
        "\n",
        "Reformatting: US1CODN0033"
       ]
      },
      {
       "output_type": "stream",
       "stream": "stdout",
       "text": [
        "\n",
        "Reformatting: US1CODN0032"
       ]
      },
      {
       "output_type": "stream",
       "stream": "stdout",
       "text": [
        "\n",
        "Reformatting: US1COAR0050"
       ]
      },
      {
       "output_type": "stream",
       "stream": "stdout",
       "text": [
        "\n",
        "Reformatting: US1CODN0030"
       ]
      },
      {
       "output_type": "stream",
       "stream": "stdout",
       "text": [
        "\n",
        "Reformatting: US1COJF0057"
       ]
      },
      {
       "output_type": "stream",
       "stream": "stdout",
       "text": [
        "\n",
        "Reformatting: US1CODN0036"
       ]
      },
      {
       "output_type": "stream",
       "stream": "stdout",
       "text": [
        "\n",
        "Reformatting: US1CODN0035"
       ]
      },
      {
       "output_type": "stream",
       "stream": "stdout",
       "text": [
        "\n",
        "Reformatting: US1CODN0038"
       ]
      },
      {
       "output_type": "stream",
       "stream": "stdout",
       "text": [
        "\n",
        "Reformatting: US1COJF0214"
       ]
      },
      {
       "output_type": "stream",
       "stream": "stdout",
       "text": [
        "\n",
        "Reformatting: US1COJF0217"
       ]
      },
      {
       "output_type": "stream",
       "stream": "stdout",
       "text": [
        "\n",
        "Reformatting: USW00093002"
       ]
      },
      {
       "output_type": "stream",
       "stream": "stdout",
       "text": [
        "\n",
        "Reformatting: US1CODN0115"
       ]
      },
      {
       "output_type": "stream",
       "stream": "stdout",
       "text": [
        "\n",
        "           City      Station\n",
        "397  DES MOINES  USC00132208\n",
        "398  DES MOINES  US1IAPK0003\n",
        "399  DES MOINES  US1IAPK0008\n",
        "400  DES MOINES  US1IAPK0017\n",
        "401  DES MOINES  US1IAPK0022\n",
        "402  DES MOINES  US1IAPK0030\n",
        "403  DES MOINES  US1IAPK0034\n",
        "404  DES MOINES  USC00132201\n",
        "405  DES MOINES  USC00132207\n",
        "406  DES MOINES  USW00014933\n",
        "407  DES MOINES  US1IAPK0042\n",
        "408  DES MOINES  US1IAPK0063\n",
        "409  DES MOINES  USC00132209\n",
        "410  DES MOINES  USW00054902\n",
        "411  DES MOINES  US1IAPK0073\n",
        "412  DES MOINES  US1IAWR0003"
       ]
      },
      {
       "output_type": "stream",
       "stream": "stdout",
       "text": [
        "\n",
        "Read: USC00132208\n",
        "Read: US1IAPK0003"
       ]
      },
      {
       "output_type": "stream",
       "stream": "stdout",
       "text": [
        "\n",
        "Read: US1IAPK0008\n",
        "Read: US1IAPK0017\n",
        "Read: US1IAPK0022"
       ]
      },
      {
       "output_type": "stream",
       "stream": "stdout",
       "text": [
        "\n",
        "Read: US1IAPK0030\n",
        "Read: US1IAPK0034\n",
        "Read: USC00132201\n",
        "Read: USC00132207"
       ]
      },
      {
       "output_type": "stream",
       "stream": "stdout",
       "text": [
        "\n",
        "Read: USW00014933\n",
        "Read: US1IAPK0042"
       ]
      },
      {
       "output_type": "stream",
       "stream": "stdout",
       "text": [
        "\n",
        "Read: US1IAPK0063\n",
        "Read: USC00132209\n",
        "Read: USW00054902"
       ]
      },
      {
       "output_type": "stream",
       "stream": "stdout",
       "text": [
        "\n",
        "Read: US1IAPK0073\n",
        "Read: US1IAWR0003\n",
        "Reformatting: US1IAWR0003"
       ]
      },
      {
       "output_type": "stream",
       "stream": "stdout",
       "text": [
        "\n",
        "Reformatting: US1IAPK0030"
       ]
      },
      {
       "output_type": "stream",
       "stream": "stdout",
       "text": [
        "\n",
        "Reformatting: US1IAPK0008"
       ]
      },
      {
       "output_type": "stream",
       "stream": "stdout",
       "text": [
        "\n",
        "Reformatting: USC00132201"
       ]
      },
      {
       "output_type": "stream",
       "stream": "stdout",
       "text": [
        "\n",
        "Reformatting: US1IAPK0034"
       ]
      },
      {
       "output_type": "stream",
       "stream": "stdout",
       "text": [
        "\n",
        "Reformatting: US1IAPK0003"
       ]
      },
      {
       "output_type": "stream",
       "stream": "stdout",
       "text": [
        "\n",
        "Reformatting: USW00054902"
       ]
      },
      {
       "output_type": "stream",
       "stream": "stdout",
       "text": [
        "\n",
        "Reformatting: USC00132208"
       ]
      },
      {
       "output_type": "stream",
       "stream": "stdout",
       "text": [
        "\n",
        "Reformatting: USW00014933"
       ]
      },
      {
       "output_type": "stream",
       "stream": "stdout",
       "text": [
        "\n",
        "Reformatting: US1IAPK0022"
       ]
      },
      {
       "output_type": "stream",
       "stream": "stdout",
       "text": [
        "\n",
        "Reformatting: USC00132209"
       ]
      },
      {
       "output_type": "stream",
       "stream": "stdout",
       "text": [
        "\n",
        "Reformatting: USC00132207"
       ]
      },
      {
       "output_type": "stream",
       "stream": "stdout",
       "text": [
        "\n",
        "Reformatting: US1IAPK0063"
       ]
      },
      {
       "output_type": "stream",
       "stream": "stdout",
       "text": [
        "\n",
        "Reformatting: US1IAPK0017"
       ]
      },
      {
       "output_type": "stream",
       "stream": "stdout",
       "text": [
        "\n",
        "Reformatting: US1IAPK0073"
       ]
      },
      {
       "output_type": "stream",
       "stream": "stdout",
       "text": [
        "\n",
        "Reformatting: US1IAPK0042"
       ]
      },
      {
       "output_type": "stream",
       "stream": "stdout",
       "text": [
        "\n",
        "      City      Station\n",
        "413  DOVER  USC00072730\n",
        "414  DOVER  US1DEKN0002\n",
        "415  DOVER  US1DEKN0009\n",
        "416  DOVER  USW00013707"
       ]
      },
      {
       "output_type": "stream",
       "stream": "stdout",
       "text": [
        "\n",
        "Read: USC00072730\n",
        "Read: US1DEKN0002"
       ]
      },
      {
       "output_type": "stream",
       "stream": "stdout",
       "text": [
        "\n",
        "Read: US1DEKN0009\n",
        "Read: USW00013707\n",
        "Reformatting: US1DEKN0009"
       ]
      },
      {
       "output_type": "stream",
       "stream": "stdout",
       "text": [
        "\n",
        "Reformatting: US1DEKN0002"
       ]
      },
      {
       "output_type": "stream",
       "stream": "stdout",
       "text": [
        "\n",
        "Reformatting: USC00072730"
       ]
      },
      {
       "output_type": "stream",
       "stream": "stdout",
       "text": [
        "\n",
        "Reformatting: USW00013707"
       ]
      },
      {
       "output_type": "stream",
       "stream": "stdout",
       "text": [
        "\n",
        "          City      Station\n",
        "417  FRANKFORT  US1KYFR0008\n",
        "418  FRANKFORT  USC00153028\n",
        "419  FRANKFORT  US1KYFR0001\n",
        "420  FRANKFORT  US1KYFR0004\n",
        "421  FRANKFORT  US1KYFR0006\n",
        "422  FRANKFORT  USC00153030\n",
        "423  FRANKFORT  USW00053841\n",
        "424  FRANKFORT  US1KYFR0010\n",
        "425  FRANKFORT  US1KYFR0016\n",
        "426  FRANKFORT  US1KYFR0014\n",
        "427  FRANKFORT  US1KYFR0013\n",
        "428  FRANKFORT  US1KYFR0012\n",
        "429  FRANKFORT  US1KYFR0011"
       ]
      },
      {
       "output_type": "stream",
       "stream": "stdout",
       "text": [
        "\n",
        "Read: US1KYFR0008\n",
        "Read: USC00153028\n",
        "Read: US1KYFR0001"
       ]
      },
      {
       "output_type": "stream",
       "stream": "stdout",
       "text": [
        "\n",
        "Read: US1KYFR0004\n",
        "Read: US1KYFR0006\n",
        "Read: USC00153030\n",
        "Read: USW00053841"
       ]
      },
      {
       "output_type": "stream",
       "stream": "stdout",
       "text": [
        "\n",
        "Read: US1KYFR0010"
       ]
      },
      {
       "output_type": "stream",
       "stream": "stdout",
       "text": [
        "\n",
        "Read: US1KYFR0016\n",
        "Read: US1KYFR0014\n",
        "Read: US1KYFR0013\n",
        "Read: US1KYFR0012\n",
        "Read: US1KYFR0011\n",
        "Reformatting: US1KYFR0012"
       ]
      },
      {
       "output_type": "stream",
       "stream": "stdout",
       "text": [
        "\n",
        "Reformatting: USC00153030"
       ]
      },
      {
       "output_type": "stream",
       "stream": "stdout",
       "text": [
        "\n",
        "Reformatting: US1KYFR0001"
       ]
      },
      {
       "output_type": "stream",
       "stream": "stdout",
       "text": [
        "\n",
        "Reformatting: US1KYFR0006"
       ]
      },
      {
       "output_type": "stream",
       "stream": "stdout",
       "text": [
        "\n",
        "Reformatting: USC00153028"
       ]
      },
      {
       "output_type": "stream",
       "stream": "stdout",
       "text": [
        "\n",
        "Reformatting: US1KYFR0004"
       ]
      },
      {
       "output_type": "stream",
       "stream": "stdout",
       "text": [
        "\n",
        "Reformatting: US1KYFR0014"
       ]
      },
      {
       "output_type": "stream",
       "stream": "stdout",
       "text": [
        "\n",
        "Reformatting: US1KYFR0008"
       ]
      },
      {
       "output_type": "stream",
       "stream": "stdout",
       "text": [
        "\n",
        "Reformatting: US1KYFR0016"
       ]
      },
      {
       "output_type": "stream",
       "stream": "stdout",
       "text": [
        "\n",
        "Reformatting: US1KYFR0011"
       ]
      },
      {
       "output_type": "stream",
       "stream": "stdout",
       "text": [
        "\n",
        "Reformatting: US1KYFR0010"
       ]
      },
      {
       "output_type": "stream",
       "stream": "stdout",
       "text": [
        "\n",
        "Reformatting: US1KYFR0013"
       ]
      },
      {
       "output_type": "stream",
       "stream": "stdout",
       "text": [
        "\n",
        "Reformatting: USW00053841"
       ]
      },
      {
       "output_type": "stream",
       "stream": "stdout",
       "text": [
        "\n",
        "           City      Station\n",
        "430  HARRISBURG  US1PADP0015\n",
        "431  HARRISBURG  US1PADP0010\n",
        "432  HARRISBURG  USW00014751\n",
        "433  HARRISBURG  USC00363706\n",
        "434  HARRISBURG  USC00363698\n",
        "435  HARRISBURG  USC00363702\n",
        "436  HARRISBURG  USC00363711\n",
        "437  HARRISBURG  USC00363704\n",
        "438  HARRISBURG  US1PADP0018"
       ]
      },
      {
       "output_type": "stream",
       "stream": "stdout",
       "text": [
        "\n",
        "Read: US1PADP0015\n",
        "Read: US1PADP0010\n",
        "Read: USW00014751\n",
        "Read: USC00363706"
       ]
      },
      {
       "output_type": "stream",
       "stream": "stdout",
       "text": [
        "\n",
        "Read: USC00363698"
       ]
      },
      {
       "output_type": "stream",
       "stream": "stdout",
       "text": [
        "\n",
        "Read: USC00363702"
       ]
      },
      {
       "output_type": "stream",
       "stream": "stdout",
       "text": [
        "\n",
        "Read: USC00363711\n",
        "Read: USC00363704"
       ]
      },
      {
       "output_type": "stream",
       "stream": "stdout",
       "text": [
        "\n",
        "Read: US1PADP0018"
       ]
      },
      {
       "output_type": "stream",
       "stream": "stdout",
       "text": [
        "\n",
        "Reformatting: USC00363704"
       ]
      },
      {
       "output_type": "stream",
       "stream": "stdout",
       "text": [
        "\n",
        "Reformatting: USC00363698"
       ]
      },
      {
       "output_type": "stream",
       "stream": "stdout",
       "text": [
        "\n",
        "Reformatting: USC00363711"
       ]
      },
      {
       "output_type": "stream",
       "stream": "stdout",
       "text": [
        "\n",
        "Reformatting: US1PADP0018"
       ]
      },
      {
       "output_type": "stream",
       "stream": "stdout",
       "text": [
        "\n",
        "Reformatting: USW00014751"
       ]
      },
      {
       "output_type": "stream",
       "stream": "stdout",
       "text": [
        "\n",
        "Reformatting: US1PADP0010"
       ]
      },
      {
       "output_type": "stream",
       "stream": "stdout",
       "text": [
        "\n",
        "Reformatting: USC00363702"
       ]
      },
      {
       "output_type": "stream",
       "stream": "stdout",
       "text": [
        "\n",
        "Reformatting: US1PADP0015"
       ]
      },
      {
       "output_type": "stream",
       "stream": "stdout",
       "text": [
        "\n",
        "Reformatting: USC00363706"
       ]
      },
      {
       "output_type": "stream",
       "stream": "stdout",
       "text": [
        "\n",
        "         City      Station\n",
        "439  HARTFORD  USC00063446\n",
        "440  HARTFORD  USW00014752\n",
        "441  HARTFORD  USW00014740"
       ]
      },
      {
       "output_type": "stream",
       "stream": "stdout",
       "text": [
        "\n",
        "Read: USC00063446\n",
        "Read: USW00014752"
       ]
      },
      {
       "output_type": "stream",
       "stream": "stdout",
       "text": [
        "\n",
        "Read: USW00014740"
       ]
      },
      {
       "output_type": "stream",
       "stream": "stdout",
       "text": [
        "\n",
        "Reformatting: USW00014752"
       ]
      },
      {
       "output_type": "stream",
       "stream": "stdout",
       "text": [
        "\n",
        "Reformatting: USC00063446"
       ]
      },
      {
       "output_type": "stream",
       "stream": "stdout",
       "text": [
        "\n",
        "Reformatting: USW00014740"
       ]
      },
      {
       "output_type": "stream",
       "stream": "stdout",
       "text": [
        "\n",
        "       City      Station\n",
        "442  HELENA  US1MTLC0014\n",
        "443  HELENA  USR0000MHEL\n",
        "444  HELENA  US1MTLC0012\n",
        "445  HELENA  USC00244050\n",
        "446  HELENA  USC00244060\n",
        "447  HELENA  US1MTLC0006\n",
        "448  HELENA  US1MTLC0004\n",
        "449  HELENA  USW00024144\n",
        "450  HELENA  USW00094104\n",
        "451  HELENA  US1MTLC0005"
       ]
      },
      {
       "output_type": "stream",
       "stream": "stdout",
       "text": [
        "\n",
        "Read: US1MTLC0014\n",
        "Read: USR0000MHEL\n",
        "Read: US1MTLC0012\n",
        "Read: USC00244050"
       ]
      },
      {
       "output_type": "stream",
       "stream": "stdout",
       "text": [
        "\n",
        "Read: USC00244060"
       ]
      },
      {
       "output_type": "stream",
       "stream": "stdout",
       "text": [
        "\n",
        "Read: US1MTLC0006\n",
        "Read: US1MTLC0004\n",
        "Read: USW00024144\n",
        "Read: USW00094104"
       ]
      },
      {
       "output_type": "stream",
       "stream": "stdout",
       "text": [
        "\n",
        "Read: US1MTLC0005"
       ]
      },
      {
       "output_type": "stream",
       "stream": "stdout",
       "text": [
        "\n",
        "Reformatting: US1MTLC0006\n",
        "Reformatting: US1MTLC0004"
       ]
      },
      {
       "output_type": "stream",
       "stream": "stdout",
       "text": [
        "\n",
        "Reformatting: US1MTLC0012"
       ]
      },
      {
       "output_type": "stream",
       "stream": "stdout",
       "text": [
        "\n",
        "Reformatting: US1MTLC0014"
       ]
      },
      {
       "output_type": "stream",
       "stream": "stdout",
       "text": [
        "\n",
        "Reformatting: USW00024144"
       ]
      },
      {
       "output_type": "stream",
       "stream": "stdout",
       "text": [
        "\n",
        "Reformatting: USC00244060"
       ]
      },
      {
       "output_type": "stream",
       "stream": "stdout",
       "text": [
        "\n",
        "Reformatting: USC00244050"
       ]
      },
      {
       "output_type": "stream",
       "stream": "stdout",
       "text": [
        "\n",
        "Reformatting: USW00094104"
       ]
      },
      {
       "output_type": "stream",
       "stream": "stdout",
       "text": [
        "\n",
        "Reformatting: US1MTLC0005"
       ]
      },
      {
       "output_type": "stream",
       "stream": "stdout",
       "text": [
        "\n",
        "Reformatting: USR0000MHEL"
       ]
      },
      {
       "output_type": "stream",
       "stream": "stdout",
       "text": [
        "\n",
        "         City      Station\n",
        "452  HONOLULU  USW00022522\n",
        "453  HONOLULU  US1HIHN0010\n",
        "454  HONOLULU  US1HIHN0013\n",
        "455  HONOLULU  US1HIHN0017\n",
        "456  HONOLULU  USC00511918\n",
        "457  HONOLULU  USC00511925\n",
        "458  HONOLULU  USW00022521\n",
        "459  HONOLULU  US1HIHN0009"
       ]
      },
      {
       "output_type": "stream",
       "stream": "stdout",
       "text": [
        "\n",
        "Read: USW00022522\n",
        "Read: US1HIHN0010"
       ]
      },
      {
       "output_type": "stream",
       "stream": "stdout",
       "text": [
        "\n",
        "Read: US1HIHN0013\n",
        "Read: US1HIHN0017\n",
        "Read: USC00511918"
       ]
      },
      {
       "output_type": "stream",
       "stream": "stdout",
       "text": [
        "\n",
        "Read: USC00511925"
       ]
      },
      {
       "output_type": "stream",
       "stream": "stdout",
       "text": [
        "\n",
        "Read: USW00022521\n",
        "Read: US1HIHN0009"
       ]
      },
      {
       "output_type": "stream",
       "stream": "stdout",
       "text": [
        "\n",
        "Reformatting: US1HIHN0017\n",
        "Reformatting: US1HIHN0013"
       ]
      },
      {
       "output_type": "stream",
       "stream": "stdout",
       "text": [
        "\n",
        "Reformatting: US1HIHN0010"
       ]
      },
      {
       "output_type": "stream",
       "stream": "stdout",
       "text": [
        "\n",
        "Reformatting: US1HIHN0009"
       ]
      },
      {
       "output_type": "stream",
       "stream": "stdout",
       "text": [
        "\n",
        "Reformatting: USC00511925"
       ]
      },
      {
       "output_type": "stream",
       "stream": "stdout",
       "text": [
        "\n",
        "Reformatting: USW00022522"
       ]
      },
      {
       "output_type": "stream",
       "stream": "stdout",
       "text": [
        "\n",
        "Reformatting: USW00022521"
       ]
      },
      {
       "output_type": "stream",
       "stream": "stdout",
       "text": [
        "\n",
        "Reformatting: USC00511918"
       ]
      },
      {
       "output_type": "stream",
       "stream": "stdout",
       "text": [
        "\n",
        "             City      Station\n",
        "460  INDIANAPOLIS  US1INMR0078\n",
        "461  INDIANAPOLIS  US1INMR0107\n",
        "462  INDIANAPOLIS  US1INMR0075\n",
        "463  INDIANAPOLIS  US1INMR0072\n",
        "464  INDIANAPOLIS  US1INMR0068\n",
        "465  INDIANAPOLIS  US1INMR0065\n",
        "466  INDIANAPOLIS  US1INMR0064\n",
        "467  INDIANAPOLIS  US1INMR0063\n",
        "468  INDIANAPOLIS  US1INMR0058\n",
        "469  INDIANAPOLIS  US1INMR0055\n",
        "470  INDIANAPOLIS  US1INMR0053\n",
        "471  INDIANAPOLIS  US1INMR0052\n",
        "472  INDIANAPOLIS  US1INMR0051\n",
        "473  INDIANAPOLIS  US1INMR0050\n",
        "474  INDIANAPOLIS  US1INMR0048\n",
        "475  INDIANAPOLIS  US1INMR0080\n",
        "476  INDIANAPOLIS  US1INMR0031\n",
        "477  INDIANAPOLIS  US1INMR0081\n",
        "478  INDIANAPOLIS  US1INMR0102\n",
        "479  INDIANAPOLIS  US1INMR0027\n",
        "480  INDIANAPOLIS  US1INMR0025\n",
        "481  INDIANAPOLIS  US1INMR0023\n",
        "482  INDIANAPOLIS  US1INMR0118\n",
        "483  INDIANAPOLIS  US1INMR0016\n",
        "484  INDIANAPOLIS  US1INMR0122\n",
        "485  INDIANAPOLIS  US1INMR0123\n",
        "486  INDIANAPOLIS  US1INMR0082\n",
        "487  INDIANAPOLIS  US1INMR0083\n",
        "488  INDIANAPOLIS  USC00124286\n",
        "489  INDIANAPOLIS  USC00124254\n",
        "490  INDIANAPOLIS  USC00124260\n",
        "491  INDIANAPOLIS  USC00124264\n",
        "492  INDIANAPOLIS  USC00124266\n",
        "493  INDIANAPOLIS  USC00124267\n",
        "494  INDIANAPOLIS  US1INMR0084\n",
        "495  INDIANAPOLIS  US1INMR0088\n",
        "496  INDIANAPOLIS  US1INMR0094\n",
        "497  INDIANAPOLIS  US1INMR0034\n",
        "498  INDIANAPOLIS  US1INMR0124\n",
        "499  INDIANAPOLIS  US1INMR0127\n",
        "500  INDIANAPOLIS  US1INMR0129\n",
        "501  INDIANAPOLIS  US1INMR0132\n",
        "502  INDIANAPOLIS  US1INMR0060\n",
        "503  INDIANAPOLIS  USW00093819\n",
        "504  INDIANAPOLIS  US1INMR0076\n",
        "505  INDIANAPOLIS  US1INMR0103\n",
        "506  INDIANAPOLIS  USC00124272\n",
        "507  INDIANAPOLIS  USW00053842"
       ]
      },
      {
       "output_type": "stream",
       "stream": "stdout",
       "text": [
        "\n",
        "Read: US1INMR0078\n",
        "Read: US1INMR0107\n",
        "Read: US1INMR0075\n",
        "Read: US1INMR0072\n",
        "Read: US1INMR0068"
       ]
      },
      {
       "output_type": "stream",
       "stream": "stdout",
       "text": [
        "\n",
        "Read: US1INMR0065\n",
        "Read: US1INMR0064\n",
        "Read: US1INMR0063\n",
        "Read: US1INMR0058\n",
        "Read: US1INMR0055"
       ]
      },
      {
       "output_type": "stream",
       "stream": "stdout",
       "text": [
        "\n",
        "Read: US1INMR0053\n",
        "Read: US1INMR0052\n",
        "Read: US1INMR0051\n",
        "Read: US1INMR0050\n",
        "Read: US1INMR0048\n",
        "Read: US1INMR0080"
       ]
      },
      {
       "output_type": "stream",
       "stream": "stdout",
       "text": [
        "\n",
        "Read: US1INMR0031\n",
        "Read: US1INMR0081\n",
        "Read: US1INMR0102\n",
        "Read: US1INMR0027\n",
        "Read: US1INMR0025\n",
        "Read: US1INMR0023"
       ]
      },
      {
       "output_type": "stream",
       "stream": "stdout",
       "text": [
        "\n",
        "Read: US1INMR0118\n",
        "Read: US1INMR0016\n",
        "Read: US1INMR0122\n",
        "Read: US1INMR0123\n",
        "Read: US1INMR0082"
       ]
      },
      {
       "output_type": "stream",
       "stream": "stdout",
       "text": [
        "\n",
        "Read: US1INMR0083\n",
        "Read: USC00124286\n",
        "Read: USC00124254\n",
        "Read: USC00124260"
       ]
      },
      {
       "output_type": "stream",
       "stream": "stdout",
       "text": [
        "\n",
        "Read: USC00124264\n",
        "Read: USC00124266"
       ]
      },
      {
       "output_type": "stream",
       "stream": "stdout",
       "text": [
        "\n",
        "Read: USC00124267\n",
        "Read: US1INMR0084"
       ]
      },
      {
       "output_type": "stream",
       "stream": "stdout",
       "text": [
        "\n",
        "Read: US1INMR0088\n",
        "Read: US1INMR0094\n",
        "Read: US1INMR0034\n",
        "Read: US1INMR0124\n",
        "Read: US1INMR0127\n",
        "Read: US1INMR0129\n",
        "Read: US1INMR0132\n",
        "Read: US1INMR0060\n",
        "Read: USW00093819\n",
        "Read: US1INMR0076"
       ]
      },
      {
       "output_type": "stream",
       "stream": "stdout",
       "text": [
        "\n",
        "Read: US1INMR0103\n",
        "Read: USC00124272\n",
        "Read: USW00053842"
       ]
      },
      {
       "output_type": "stream",
       "stream": "stdout",
       "text": [
        "\n",
        "Reformatting: USW00053842"
       ]
      },
      {
       "output_type": "stream",
       "stream": "stdout",
       "text": [
        "\n",
        "Reformatting: US1INMR0060"
       ]
      },
      {
       "output_type": "stream",
       "stream": "stdout",
       "text": [
        "\n",
        "Reformatting: USC00124272"
       ]
      },
      {
       "output_type": "stream",
       "stream": "stdout",
       "text": [
        "\n",
        "Reformatting: USC00124254"
       ]
      },
      {
       "output_type": "stream",
       "stream": "stdout",
       "text": [
        "\n",
        "Reformatting: US1INMR0088"
       ]
      },
      {
       "output_type": "stream",
       "stream": "stdout",
       "text": [
        "\n",
        "Reformatting: US1INMR0082"
       ]
      },
      {
       "output_type": "stream",
       "stream": "stdout",
       "text": [
        "\n",
        "Reformatting: US1INMR0083"
       ]
      },
      {
       "output_type": "stream",
       "stream": "stdout",
       "text": [
        "\n",
        "Reformatting: US1INMR0080"
       ]
      },
      {
       "output_type": "stream",
       "stream": "stdout",
       "text": [
        "\n",
        "Reformatting: US1INMR0081"
       ]
      },
      {
       "output_type": "stream",
       "stream": "stdout",
       "text": [
        "\n",
        "Reformatting: US1INMR0084"
       ]
      },
      {
       "output_type": "stream",
       "stream": "stdout",
       "text": [
        "\n",
        "Reformatting: US1INMR0132"
       ]
      },
      {
       "output_type": "stream",
       "stream": "stdout",
       "text": [
        "\n",
        "Reformatting: US1INMR0034"
       ]
      },
      {
       "output_type": "stream",
       "stream": "stdout",
       "text": [
        "\n",
        "Reformatting: US1INMR0048"
       ]
      },
      {
       "output_type": "stream",
       "stream": "stdout",
       "text": [
        "\n",
        "Reformatting: US1INMR0064"
       ]
      },
      {
       "output_type": "stream",
       "stream": "stdout",
       "text": [
        "\n",
        "Reformatting: US1INMR0065"
       ]
      },
      {
       "output_type": "stream",
       "stream": "stdout",
       "text": [
        "\n",
        "Reformatting: US1INMR0129"
       ]
      },
      {
       "output_type": "stream",
       "stream": "stdout",
       "text": [
        "\n",
        "Reformatting: USW00093819"
       ]
      },
      {
       "output_type": "stream",
       "stream": "stdout",
       "text": [
        "\n",
        "Reformatting: US1INMR0063"
       ]
      },
      {
       "output_type": "stream",
       "stream": "stdout",
       "text": [
        "\n",
        "Reformatting: US1INMR0103"
       ]
      },
      {
       "output_type": "stream",
       "stream": "stdout",
       "text": [
        "\n",
        "Reformatting: US1INMR0102"
       ]
      },
      {
       "output_type": "stream",
       "stream": "stdout",
       "text": [
        "\n",
        "Reformatting: US1INMR0127"
       ]
      },
      {
       "output_type": "stream",
       "stream": "stdout",
       "text": [
        "\n",
        "Reformatting: US1INMR0023"
       ]
      },
      {
       "output_type": "stream",
       "stream": "stdout",
       "text": [
        "\n",
        "Reformatting: US1INMR0107"
       ]
      },
      {
       "output_type": "stream",
       "stream": "stdout",
       "text": [
        "\n",
        "Reformatting: US1INMR0025"
       ]
      },
      {
       "output_type": "stream",
       "stream": "stdout",
       "text": [
        "\n",
        "Reformatting: US1INMR0123"
       ]
      },
      {
       "output_type": "stream",
       "stream": "stdout",
       "text": [
        "\n",
        "Reformatting: US1INMR0027"
       ]
      },
      {
       "output_type": "stream",
       "stream": "stdout",
       "text": [
        "\n",
        "Reformatting: USC00124286"
       ]
      },
      {
       "output_type": "stream",
       "stream": "stdout",
       "text": [
        "\n",
        "Reformatting: US1INMR0094"
       ]
      },
      {
       "output_type": "stream",
       "stream": "stdout",
       "text": [
        "\n",
        "Reformatting: USC00124260"
       ]
      },
      {
       "output_type": "stream",
       "stream": "stdout",
       "text": [
        "\n",
        "Reformatting: USC00124264"
       ]
      },
      {
       "output_type": "stream",
       "stream": "stdout",
       "text": [
        "\n",
        "Reformatting: USC00124267"
       ]
      },
      {
       "output_type": "stream",
       "stream": "stdout",
       "text": [
        "\n",
        "Reformatting: USC00124266"
       ]
      },
      {
       "output_type": "stream",
       "stream": "stdout",
       "text": [
        "\n",
        "Reformatting: US1INMR0124"
       ]
      },
      {
       "output_type": "stream",
       "stream": "stdout",
       "text": [
        "\n",
        "Reformatting: US1INMR0058"
       ]
      },
      {
       "output_type": "stream",
       "stream": "stdout",
       "text": [
        "\n",
        "Reformatting: US1INMR0122"
       ]
      },
      {
       "output_type": "stream",
       "stream": "stdout",
       "text": [
        "\n",
        "Reformatting: US1INMR0051"
       ]
      },
      {
       "output_type": "stream",
       "stream": "stdout",
       "text": [
        "\n",
        "Reformatting: US1INMR0050"
       ]
      },
      {
       "output_type": "stream",
       "stream": "stdout",
       "text": [
        "\n",
        "Reformatting: US1INMR0053"
       ]
      },
      {
       "output_type": "stream",
       "stream": "stdout",
       "text": [
        "\n",
        "Reformatting: US1INMR0052"
       ]
      },
      {
       "output_type": "stream",
       "stream": "stdout",
       "text": [
        "\n",
        "Reformatting: US1INMR0055"
       ]
      },
      {
       "output_type": "stream",
       "stream": "stdout",
       "text": [
        "\n",
        "Reformatting: US1INMR0118"
       ]
      },
      {
       "output_type": "stream",
       "stream": "stdout",
       "text": [
        "\n",
        "Reformatting: US1INMR0076"
       ]
      },
      {
       "output_type": "stream",
       "stream": "stdout",
       "text": [
        "\n",
        "Reformatting: US1INMR0075"
       ]
      },
      {
       "output_type": "stream",
       "stream": "stdout",
       "text": [
        "\n",
        "Reformatting: US1INMR0072"
       ]
      },
      {
       "output_type": "stream",
       "stream": "stdout",
       "text": [
        "\n",
        "Reformatting: US1INMR0068"
       ]
      },
      {
       "output_type": "stream",
       "stream": "stdout",
       "text": [
        "\n",
        "Reformatting: US1INMR0031"
       ]
      },
      {
       "output_type": "stream",
       "stream": "stdout",
       "text": [
        "\n",
        "Reformatting: US1INMR0016"
       ]
      },
      {
       "output_type": "stream",
       "stream": "stdout",
       "text": [
        "\n",
        "Reformatting: US1INMR0078"
       ]
      },
      {
       "output_type": "stream",
       "stream": "stdout",
       "text": [
        "\n",
        "        City      Station\n",
        "508  JACKSON  US1MSHD0003\n",
        "509  JACKSON  US1MSHD0021\n",
        "510  JACKSON  US1MSHD0018\n",
        "511  JACKSON  USC00224470\n",
        "512  JACKSON  USC00224462\n",
        "513  JACKSON  US1MSHD0016\n",
        "514  JACKSON  USW00003940\n",
        "515  JACKSON  USW00013927\n",
        "516  JACKSON  USW00013956\n",
        "517  JACKSON  US1MSHD0024\n",
        "518  JACKSON  US1MSHD0013"
       ]
      },
      {
       "output_type": "stream",
       "stream": "stdout",
       "text": [
        "\n",
        "Read: US1MSHD0003\n",
        "Read: US1MSHD0021\n",
        "Read: US1MSHD0018\n",
        "Read: USC00224470\n",
        "Read: USC00224462\n",
        "Read: US1MSHD0016"
       ]
      },
      {
       "output_type": "stream",
       "stream": "stdout",
       "text": [
        "\n",
        "Read: USW00003940\n",
        "Read: USW00013927"
       ]
      },
      {
       "output_type": "stream",
       "stream": "stdout",
       "text": [
        "\n",
        "Read: USW00013956"
       ]
      },
      {
       "output_type": "stream",
       "stream": "stdout",
       "text": [
        "\n",
        "Read: US1MSHD0024"
       ]
      },
      {
       "output_type": "stream",
       "stream": "stdout",
       "text": [
        "\n",
        "Read: US1MSHD0013\n",
        "Reformatting: USC00224462\n",
        "Reformatting: US1MSHD0003"
       ]
      },
      {
       "output_type": "stream",
       "stream": "stdout",
       "text": [
        "\n",
        "Reformatting: USW00003940"
       ]
      },
      {
       "output_type": "stream",
       "stream": "stdout",
       "text": [
        "\n",
        "Reformatting: US1MSHD0021"
       ]
      },
      {
       "output_type": "stream",
       "stream": "stdout",
       "text": [
        "\n",
        "Reformatting: US1MSHD0016"
       ]
      },
      {
       "output_type": "stream",
       "stream": "stdout",
       "text": [
        "\n",
        "Reformatting: US1MSHD0024"
       ]
      },
      {
       "output_type": "stream",
       "stream": "stdout",
       "text": [
        "\n",
        "Reformatting: USC00224470"
       ]
      },
      {
       "output_type": "stream",
       "stream": "stdout",
       "text": [
        "\n",
        "Reformatting: US1MSHD0013"
       ]
      },
      {
       "output_type": "stream",
       "stream": "stdout",
       "text": [
        "\n",
        "Reformatting: USW00013956"
       ]
      },
      {
       "output_type": "stream",
       "stream": "stdout",
       "text": [
        "\n",
        "Reformatting: USW00013927"
       ]
      },
      {
       "output_type": "stream",
       "stream": "stdout",
       "text": [
        "\n",
        "Reformatting: US1MSHD0018"
       ]
      },
      {
       "output_type": "stream",
       "stream": "stdout",
       "text": [
        "\n",
        "               City      Station\n",
        "519  JEFFERSON CITY  US1MOCE0009\n",
        "520  JEFFERSON CITY  USW00003963\n",
        "521  JEFFERSON CITY  US1MOCE0007\n",
        "522  JEFFERSON CITY  US1MOCE0005\n",
        "523  JEFFERSON CITY  USC00234271\n",
        "524  JEFFERSON CITY  USC00234276\n",
        "525  JEFFERSON CITY  US1MOFSA051\n",
        "526  JEFFERSON CITY  US1MOCE0010"
       ]
      },
      {
       "output_type": "stream",
       "stream": "stdout",
       "text": [
        "\n",
        "Read: US1MOCE0009\n",
        "Read: USW00003963\n",
        "Read: US1MOCE0007"
       ]
      },
      {
       "output_type": "stream",
       "stream": "stdout",
       "text": [
        "\n",
        "Read: US1MOCE0005\n",
        "Read: USC00234271\n",
        "Read: USC00234276"
       ]
      },
      {
       "output_type": "stream",
       "stream": "stdout",
       "text": [
        "\n",
        "Read: US1MOFSA051\n",
        "Read: US1MOCE0010\n",
        "Reformatting: USC00234276"
       ]
      },
      {
       "output_type": "stream",
       "stream": "stdout",
       "text": [
        "\n",
        "Reformatting: USW00003963"
       ]
      },
      {
       "output_type": "stream",
       "stream": "stdout",
       "text": [
        "\n",
        "Reformatting: US1MOCE0005"
       ]
      },
      {
       "output_type": "stream",
       "stream": "stdout",
       "text": [
        "\n",
        "Reformatting: USC00234271"
       ]
      },
      {
       "output_type": "stream",
       "stream": "stdout",
       "text": [
        "\n",
        "Reformatting: US1MOCE0010"
       ]
      },
      {
       "output_type": "stream",
       "stream": "stdout",
       "text": [
        "\n",
        "Reformatting: US1MOCE0009"
       ]
      },
      {
       "output_type": "stream",
       "stream": "stdout",
       "text": [
        "\n",
        "Reformatting: US1MOFSA051"
       ]
      },
      {
       "output_type": "stream",
       "stream": "stdout",
       "text": [
        "\n",
        "Reformatting: US1MOCE0007"
       ]
      },
      {
       "output_type": "stream",
       "stream": "stdout",
       "text": [
        "\n",
        "       City      Station\n",
        "527  JUNEAU  USW00025309\n",
        "528  JUNEAU  USC00504110\n",
        "529  JUNEAU  USC00504117\n",
        "530  JUNEAU  USR0000AJUN\n",
        "531  JUNEAU  US1AKJB0003\n",
        "532  JUNEAU  US1AKJB0005\n",
        "533  JUNEAU  US1AKJB0009\n",
        "534  JUNEAU  US1AKJB0010\n",
        "535  JUNEAU  USC00504109\n",
        "536  JUNEAU  USC00504107\n",
        "537  JUNEAU  USC00504104\n",
        "538  JUNEAU  USC00504103\n",
        "539  JUNEAU  USC00504094\n",
        "540  JUNEAU  USC00504092\n",
        "541  JUNEAU  US1AKJB0002"
       ]
      },
      {
       "output_type": "stream",
       "stream": "stdout",
       "text": [
        "\n",
        "Read: USW00025309\n",
        "Read: USC00504110"
       ]
      },
      {
       "output_type": "stream",
       "stream": "stdout",
       "text": [
        "\n",
        "Read: USC00504117\n",
        "Read: USR0000AJUN"
       ]
      },
      {
       "output_type": "stream",
       "stream": "stdout",
       "text": [
        "\n",
        "Read: US1AKJB0003\n",
        "Read: US1AKJB0005\n",
        "Read: US1AKJB0009\n",
        "Read: US1AKJB0010\n",
        "Read: USC00504109\n",
        "Read: USC00504107"
       ]
      },
      {
       "output_type": "stream",
       "stream": "stdout",
       "text": [
        "\n",
        "Read: USC00504104\n",
        "Read: USC00504103"
       ]
      },
      {
       "output_type": "stream",
       "stream": "stdout",
       "text": [
        "\n",
        "Read: USC00504094\n",
        "Read: USC00504092"
       ]
      },
      {
       "output_type": "stream",
       "stream": "stdout",
       "text": [
        "\n",
        "Read: US1AKJB0002"
       ]
      },
      {
       "output_type": "stream",
       "stream": "stdout",
       "text": [
        "\n",
        "Reformatting: USC00504107\n",
        "Reformatting: US1AKJB0009"
       ]
      },
      {
       "output_type": "stream",
       "stream": "stdout",
       "text": [
        "\n",
        "Reformatting: USR0000AJUN"
       ]
      },
      {
       "output_type": "stream",
       "stream": "stdout",
       "text": [
        "\n",
        "Reformatting: US1AKJB0003"
       ]
      },
      {
       "output_type": "stream",
       "stream": "stdout",
       "text": [
        "\n",
        "Reformatting: USC00504092"
       ]
      },
      {
       "output_type": "stream",
       "stream": "stdout",
       "text": [
        "\n",
        "Reformatting: USC00504094"
       ]
      },
      {
       "output_type": "stream",
       "stream": "stdout",
       "text": [
        "\n",
        "Reformatting: USC00504110"
       ]
      },
      {
       "output_type": "stream",
       "stream": "stdout",
       "text": [
        "\n",
        "Reformatting: USC00504104"
       ]
      },
      {
       "output_type": "stream",
       "stream": "stdout",
       "text": [
        "\n",
        "Reformatting: USC00504103"
       ]
      },
      {
       "output_type": "stream",
       "stream": "stdout",
       "text": [
        "\n",
        "Reformatting: USC00504117"
       ]
      },
      {
       "output_type": "stream",
       "stream": "stdout",
       "text": [
        "\n",
        "Reformatting: US1AKJB0005"
       ]
      },
      {
       "output_type": "stream",
       "stream": "stdout",
       "text": [
        "\n",
        "Reformatting: US1AKJB0002"
       ]
      },
      {
       "output_type": "stream",
       "stream": "stdout",
       "text": [
        "\n",
        "Reformatting: USW00025309"
       ]
      },
      {
       "output_type": "stream",
       "stream": "stdout",
       "text": [
        "\n",
        "Reformatting: US1AKJB0010"
       ]
      },
      {
       "output_type": "stream",
       "stream": "stdout",
       "text": [
        "\n",
        "Reformatting: USC00504109"
       ]
      },
      {
       "output_type": "stream",
       "stream": "stdout",
       "text": [
        "\n",
        "        City      Station\n",
        "542  LANSING  US1MIIH0020\n",
        "543  LANSING  US1MIIH0006\n",
        "544  LANSING  US1MIIH0001\n",
        "545  LANSING  US1MIET0003\n",
        "546  LANSING  US1MIIH0031\n",
        "547  LANSING  US1MIET0001\n",
        "548  LANSING  USW00014836\n",
        "549  LANSING  USC00204631"
       ]
      },
      {
       "output_type": "stream",
       "stream": "stdout",
       "text": [
        "\n",
        "Read: US1MIIH0020\n",
        "Read: US1MIIH0006\n",
        "Read: US1MIIH0001\n",
        "Read: US1MIET0003\n",
        "Read: US1MIIH0031"
       ]
      },
      {
       "output_type": "stream",
       "stream": "stdout",
       "text": [
        "\n",
        "Read: US1MIET0001\n",
        "Read: USW00014836\n",
        "Read: USC00204631"
       ]
      },
      {
       "output_type": "stream",
       "stream": "stdout",
       "text": [
        "\n",
        "Reformatting: USW00014836"
       ]
      },
      {
       "output_type": "stream",
       "stream": "stdout",
       "text": [
        "\n",
        "Reformatting: USC00204631"
       ]
      },
      {
       "output_type": "stream",
       "stream": "stdout",
       "text": [
        "\n",
        "Reformatting: US1MIIH0020"
       ]
      },
      {
       "output_type": "stream",
       "stream": "stdout",
       "text": [
        "\n",
        "Reformatting: US1MIET0003"
       ]
      },
      {
       "output_type": "stream",
       "stream": "stdout",
       "text": [
        "\n",
        "Reformatting: US1MIET0001"
       ]
      },
      {
       "output_type": "stream",
       "stream": "stdout",
       "text": [
        "\n",
        "Reformatting: US1MIIH0031"
       ]
      },
      {
       "output_type": "stream",
       "stream": "stdout",
       "text": [
        "\n",
        "Reformatting: US1MIIH0006"
       ]
      },
      {
       "output_type": "stream",
       "stream": "stdout",
       "text": [
        "\n",
        "Reformatting: US1MIIH0001"
       ]
      },
      {
       "output_type": "stream",
       "stream": "stdout",
       "text": [
        "\n",
        "        City      Station\n",
        "550  LINCOLN  USC00254805\n",
        "551  LINCOLN  USC00254810\n",
        "552  LINCOLN  USC00254812\n",
        "553  LINCOLN  USC00254800\n",
        "554  LINCOLN  USW00014939\n",
        "555  LINCOLN  US1NELA0019\n",
        "556  LINCOLN  US1NELA0008\n",
        "557  LINCOLN  US1NELA0006\n",
        "558  LINCOLN  US1NELA0004\n",
        "559  LINCOLN  USW00094995\n",
        "560  LINCOLN  US1NELA0002\n",
        "561  LINCOLN  US1NELA0001\n",
        "562  LINCOLN  USW00014904\n",
        "563  LINCOLN  USC00254790\n",
        "564  LINCOLN  US10lanc001\n",
        "565  LINCOLN  US10lanc050\n",
        "566  LINCOLN  US10lanc049\n",
        "567  LINCOLN  US10lanc047\n",
        "568  LINCOLN  US10lanc043\n",
        "569  LINCOLN  US10lanc042\n",
        "570  LINCOLN  US10lanc041\n",
        "571  LINCOLN  US10lanc040\n",
        "572  LINCOLN  US10lanc039\n",
        "573  LINCOLN  US10lanc034\n",
        "574  LINCOLN  US10lanc033\n",
        "575  LINCOLN  US10lanc030\n",
        "576  LINCOLN  US10lanc027\n",
        "577  LINCOLN  US10lanc025\n",
        "578  LINCOLN  US10lanc024\n",
        "579  LINCOLN  US10lanc019\n",
        "580  LINCOLN  US10lanc018\n",
        "581  LINCOLN  US10lanc013\n",
        "582  LINCOLN  US10lanc012\n",
        "583  LINCOLN  US10lanc011\n",
        "584  LINCOLN  US10lanc009\n",
        "585  LINCOLN  US10lanc006\n",
        "586  LINCOLN  US10lanc005\n",
        "587  LINCOLN  USW00014971\n",
        "588  LINCOLN  USW00094996"
       ]
      },
      {
       "output_type": "stream",
       "stream": "stdout",
       "text": [
        "\n",
        "Read: USC00254805\n",
        "Read: USC00254810\n",
        "Read: USC00254812"
       ]
      },
      {
       "output_type": "stream",
       "stream": "stdout",
       "text": [
        "\n",
        "Read: USC00254800"
       ]
      },
      {
       "output_type": "stream",
       "stream": "stdout",
       "text": [
        "\n",
        "Read: USW00014939"
       ]
      },
      {
       "output_type": "stream",
       "stream": "stdout",
       "text": [
        "\n",
        "Read: US1NELA0019"
       ]
      },
      {
       "output_type": "stream",
       "stream": "stdout",
       "text": [
        "\n",
        "Read: US1NELA0008\n",
        "Read: US1NELA0006\n",
        "Read: US1NELA0004\n",
        "Read: USW00094995\n",
        "Read: US1NELA0002"
       ]
      },
      {
       "output_type": "stream",
       "stream": "stdout",
       "text": [
        "\n",
        "Read: US1NELA0001\n",
        "Read: USW00014904\n",
        "Read: USC00254790"
       ]
      },
      {
       "output_type": "stream",
       "stream": "stdout",
       "text": [
        "\n",
        "Read: US10lanc001"
       ]
      },
      {
       "output_type": "stream",
       "stream": "stdout",
       "text": [
        "\n",
        "Read: US10lanc050\n",
        "Read: US10lanc049\n",
        "Read: US10lanc047\n",
        "Read: US10lanc043\n",
        "Read: US10lanc042\n",
        "Read: US10lanc041\n",
        "Read: US10lanc040\n",
        "Read: US10lanc039"
       ]
      },
      {
       "output_type": "stream",
       "stream": "stdout",
       "text": [
        "\n",
        "Read: US10lanc034\n",
        "Read: US10lanc033\n",
        "Read: US10lanc030\n",
        "Read: US10lanc027\n",
        "Read: US10lanc025\n",
        "Read: US10lanc024\n",
        "Read: US10lanc019\n",
        "Read: US10lanc018"
       ]
      },
      {
       "output_type": "stream",
       "stream": "stdout",
       "text": [
        "\n",
        "Read: US10lanc013\n",
        "Read: US10lanc012\n",
        "Read: US10lanc011\n",
        "Read: US10lanc009\n",
        "Read: US10lanc006\n",
        "Read: US10lanc005"
       ]
      },
      {
       "output_type": "stream",
       "stream": "stdout",
       "text": [
        "\n",
        "Read: USW00014971\n",
        "Read: USW00094996"
       ]
      },
      {
       "output_type": "stream",
       "stream": "stdout",
       "text": [
        "\n",
        "Reformatting: US10lanc039\n",
        "Reformatting: US10lanc019"
       ]
      },
      {
       "output_type": "stream",
       "stream": "stdout",
       "text": [
        "\n",
        "Reformatting: US10lanc018"
       ]
      },
      {
       "output_type": "stream",
       "stream": "stdout",
       "text": [
        "\n",
        "Reformatting: US10lanc033"
       ]
      },
      {
       "output_type": "stream",
       "stream": "stdout",
       "text": [
        "\n",
        "Reformatting: US10lanc030"
       ]
      },
      {
       "output_type": "stream",
       "stream": "stdout",
       "text": [
        "\n",
        "Reformatting: US10lanc011"
       ]
      },
      {
       "output_type": "stream",
       "stream": "stdout",
       "text": [
        "\n",
        "Reformatting: US10lanc013"
       ]
      },
      {
       "output_type": "stream",
       "stream": "stdout",
       "text": [
        "\n",
        "Reformatting: US10lanc034"
       ]
      },
      {
       "output_type": "stream",
       "stream": "stdout",
       "text": [
        "\n",
        "Reformatting: US1NELA0019"
       ]
      },
      {
       "output_type": "stream",
       "stream": "stdout",
       "text": [
        "\n",
        "Reformatting: US10lanc009"
       ]
      },
      {
       "output_type": "stream",
       "stream": "stdout",
       "text": [
        "\n",
        "Reformatting: USC00254810"
       ]
      },
      {
       "output_type": "stream",
       "stream": "stdout",
       "text": [
        "\n",
        "Reformatting: USC00254812"
       ]
      },
      {
       "output_type": "stream",
       "stream": "stdout",
       "text": [
        "\n",
        "Reformatting: USW00014904"
       ]
      },
      {
       "output_type": "stream",
       "stream": "stdout",
       "text": [
        "\n",
        "Reformatting: US10lanc049"
       ]
      },
      {
       "output_type": "stream",
       "stream": "stdout",
       "text": [
        "\n",
        "Reformatting: US10lanc047"
       ]
      },
      {
       "output_type": "stream",
       "stream": "stdout",
       "text": [
        "\n",
        "Reformatting: US10lanc042"
       ]
      },
      {
       "output_type": "stream",
       "stream": "stdout",
       "text": [
        "\n",
        "Reformatting: US10lanc043"
       ]
      },
      {
       "output_type": "stream",
       "stream": "stdout",
       "text": [
        "\n",
        "Reformatting: US10lanc040"
       ]
      },
      {
       "output_type": "stream",
       "stream": "stdout",
       "text": [
        "\n",
        "Reformatting: US10lanc041"
       ]
      },
      {
       "output_type": "stream",
       "stream": "stdout",
       "text": [
        "\n",
        "Reformatting: US10lanc001"
       ]
      },
      {
       "output_type": "stream",
       "stream": "stdout",
       "text": [
        "\n",
        "Reformatting: US10lanc006"
       ]
      },
      {
       "output_type": "stream",
       "stream": "stdout",
       "text": [
        "\n",
        "Reformatting: US10lanc005"
       ]
      },
      {
       "output_type": "stream",
       "stream": "stdout",
       "text": [
        "\n",
        "Reformatting: USC00254790"
       ]
      },
      {
       "output_type": "stream",
       "stream": "stdout",
       "text": [
        "\n",
        "Reformatting: US10lanc024"
       ]
      },
      {
       "output_type": "stream",
       "stream": "stdout",
       "text": [
        "\n",
        "Reformatting: US10lanc025"
       ]
      },
      {
       "output_type": "stream",
       "stream": "stdout",
       "text": [
        "\n",
        "Reformatting: US10lanc027"
       ]
      },
      {
       "output_type": "stream",
       "stream": "stdout",
       "text": [
        "\n",
        "Reformatting: US1NELA0001"
       ]
      },
      {
       "output_type": "stream",
       "stream": "stdout",
       "text": [
        "\n",
        "Reformatting: US1NELA0002"
       ]
      },
      {
       "output_type": "stream",
       "stream": "stdout",
       "text": [
        "\n",
        "Reformatting: US1NELA0004"
       ]
      },
      {
       "output_type": "stream",
       "stream": "stdout",
       "text": [
        "\n",
        "Reformatting: US1NELA0006"
       ]
      },
      {
       "output_type": "stream",
       "stream": "stdout",
       "text": [
        "\n",
        "Reformatting: US1NELA0008"
       ]
      },
      {
       "output_type": "stream",
       "stream": "stdout",
       "text": [
        "\n",
        "Reformatting: USW00094996"
       ]
      },
      {
       "output_type": "stream",
       "stream": "stdout",
       "text": [
        "\n",
        "Reformatting: USW00094995"
       ]
      },
      {
       "output_type": "stream",
       "stream": "stdout",
       "text": [
        "\n",
        "Reformatting: US10lanc012"
       ]
      },
      {
       "output_type": "stream",
       "stream": "stdout",
       "text": [
        "\n",
        "Reformatting: USC00254805"
       ]
      },
      {
       "output_type": "stream",
       "stream": "stdout",
       "text": [
        "\n",
        "Reformatting: USC00254800"
       ]
      },
      {
       "output_type": "stream",
       "stream": "stdout",
       "text": [
        "\n",
        "Reformatting: USW00014939"
       ]
      },
      {
       "output_type": "stream",
       "stream": "stdout",
       "text": [
        "\n",
        "Reformatting: USW00014971"
       ]
      },
      {
       "output_type": "stream",
       "stream": "stdout",
       "text": [
        "\n",
        "Reformatting: US10lanc050"
       ]
      },
      {
       "output_type": "stream",
       "stream": "stdout",
       "text": [
        "\n",
        "            City      Station\n",
        "589  LITTLE ROCK  USC00034251\n",
        "590  LITTLE ROCK  USC00034250\n",
        "591  LITTLE ROCK  USW00003930\n",
        "592  LITTLE ROCK  USW00003952\n",
        "593  LITTLE ROCK  USW00013963\n",
        "594  LITTLE ROCK  US1ARSL0009\n",
        "595  LITTLE ROCK  US1ARPS0001\n",
        "596  LITTLE ROCK  US1ARPS0004\n",
        "597  LITTLE ROCK  US1ARPS0005\n",
        "598  LITTLE ROCK  US1ARPS0008\n",
        "599  LITTLE ROCK  US1ARPS0010\n",
        "600  LITTLE ROCK  US1ARPS0017\n",
        "601  LITTLE ROCK  US1ARPS0019\n",
        "602  LITTLE ROCK  US1ARPS0024\n",
        "603  LITTLE ROCK  US1ARPS0025\n",
        "604  LITTLE ROCK  US1ARPS0039\n",
        "605  LITTLE ROCK  US1ARPS0049\n",
        "606  LITTLE ROCK  US1ARPS0053\n",
        "607  LITTLE ROCK  US1ARPS0056"
       ]
      },
      {
       "output_type": "stream",
       "stream": "stdout",
       "text": [
        "\n",
        "Read: USC00034251\n",
        "Read: USC00034250"
       ]
      },
      {
       "output_type": "stream",
       "stream": "stdout",
       "text": [
        "\n",
        "Read: USW00003930"
       ]
      },
      {
       "output_type": "stream",
       "stream": "stdout",
       "text": [
        "\n",
        "Read: USW00003952"
       ]
      },
      {
       "output_type": "stream",
       "stream": "stdout",
       "text": [
        "\n",
        "Read: USW00013963"
       ]
      },
      {
       "output_type": "stream",
       "stream": "stdout",
       "text": [
        "\n",
        "Read: US1ARSL0009"
       ]
      },
      {
       "output_type": "stream",
       "stream": "stdout",
       "text": [
        "\n",
        "Read: US1ARPS0001\n",
        "Read: US1ARPS0004\n",
        "Read: US1ARPS0005\n",
        "Read: US1ARPS0008\n",
        "Read: US1ARPS0010"
       ]
      },
      {
       "output_type": "stream",
       "stream": "stdout",
       "text": [
        "\n",
        "Read: US1ARPS0017\n",
        "Read: US1ARPS0019\n",
        "Read: US1ARPS0024\n",
        "Read: US1ARPS0025\n",
        "Read: US1ARPS0039\n",
        "Read: US1ARPS0049\n",
        "Read: US1ARPS0053\n",
        "Read: US1ARPS0056\n",
        "Reformatting: US1ARPS0004"
       ]
      },
      {
       "output_type": "stream",
       "stream": "stdout",
       "text": [
        "\n",
        "Reformatting: US1ARPS0049"
       ]
      },
      {
       "output_type": "stream",
       "stream": "stdout",
       "text": [
        "\n",
        "Reformatting: USW00003952"
       ]
      },
      {
       "output_type": "stream",
       "stream": "stdout",
       "text": [
        "\n",
        "Reformatting: US1ARPS0053"
       ]
      },
      {
       "output_type": "stream",
       "stream": "stdout",
       "text": [
        "\n",
        "Reformatting: US1ARPS0024"
       ]
      },
      {
       "output_type": "stream",
       "stream": "stdout",
       "text": [
        "\n",
        "Reformatting: US1ARPS0025"
       ]
      },
      {
       "output_type": "stream",
       "stream": "stdout",
       "text": [
        "\n",
        "Reformatting: US1ARPS0001"
       ]
      },
      {
       "output_type": "stream",
       "stream": "stdout",
       "text": [
        "\n",
        "Reformatting: US1ARPS0017"
       ]
      },
      {
       "output_type": "stream",
       "stream": "stdout",
       "text": [
        "\n",
        "Reformatting: US1ARPS0010"
       ]
      },
      {
       "output_type": "stream",
       "stream": "stdout",
       "text": [
        "\n",
        "Reformatting: USW00013963"
       ]
      },
      {
       "output_type": "stream",
       "stream": "stdout",
       "text": [
        "\n",
        "Reformatting: US1ARPS0005"
       ]
      },
      {
       "output_type": "stream",
       "stream": "stdout",
       "text": [
        "\n",
        "Reformatting: US1ARPS0056"
       ]
      },
      {
       "output_type": "stream",
       "stream": "stdout",
       "text": [
        "\n",
        "Reformatting: US1ARPS0008"
       ]
      },
      {
       "output_type": "stream",
       "stream": "stdout",
       "text": [
        "\n",
        "Reformatting: USW00003930"
       ]
      },
      {
       "output_type": "stream",
       "stream": "stdout",
       "text": [
        "\n",
        "Reformatting: USC00034250"
       ]
      },
      {
       "output_type": "stream",
       "stream": "stdout",
       "text": [
        "\n",
        "Reformatting: USC00034251"
       ]
      },
      {
       "output_type": "stream",
       "stream": "stdout",
       "text": [
        "\n",
        "Reformatting: US1ARPS0039"
       ]
      },
      {
       "output_type": "stream",
       "stream": "stdout",
       "text": [
        "\n",
        "Reformatting: US1ARPS0019"
       ]
      },
      {
       "output_type": "stream",
       "stream": "stdout",
       "text": [
        "\n",
        "Reformatting: US1ARSL0009"
       ]
      },
      {
       "output_type": "stream",
       "stream": "stdout",
       "text": [
        "\n",
        "        City      Station\n",
        "608  MADISON  US1WIDA0028\n",
        "609  MADISON  USW00014837\n",
        "610  MADISON  US1WIDA0011\n",
        "611  MADISON  US1WIDA0009\n",
        "612  MADISON  US1WIDA0004\n",
        "613  MADISON  US1WIDA0003\n",
        "614  MADISON  US1WIDA0029\n",
        "615  MADISON  US1WIDA0032\n",
        "616  MADISON  USC00474966\n",
        "617  MADISON  USW00094811\n",
        "618  MADISON  US1WIDA0013"
       ]
      },
      {
       "output_type": "stream",
       "stream": "stdout",
       "text": [
        "\n",
        "Read: US1WIDA0028\n",
        "Read: USW00014837\n",
        "Read: US1WIDA0011"
       ]
      },
      {
       "output_type": "stream",
       "stream": "stdout",
       "text": [
        "\n",
        "Read: US1WIDA0009\n",
        "Read: US1WIDA0004\n",
        "Read: US1WIDA0003\n",
        "Read: US1WIDA0029\n",
        "Read: US1WIDA0032\n",
        "Read: USC00474966\n",
        "Read: USW00094811"
       ]
      },
      {
       "output_type": "stream",
       "stream": "stdout",
       "text": [
        "\n",
        "Read: US1WIDA0013\n",
        "Reformatting: US1WIDA0032\n",
        "Reformatting: US1WIDA0009"
       ]
      },
      {
       "output_type": "stream",
       "stream": "stdout",
       "text": [
        "\n",
        "Reformatting: US1WIDA0029"
       ]
      },
      {
       "output_type": "stream",
       "stream": "stdout",
       "text": [
        "\n",
        "Reformatting: US1WIDA0028"
       ]
      },
      {
       "output_type": "stream",
       "stream": "stdout",
       "text": [
        "\n",
        "Reformatting: US1WIDA0004"
       ]
      },
      {
       "output_type": "stream",
       "stream": "stdout",
       "text": [
        "\n",
        "Reformatting: US1WIDA0003"
       ]
      },
      {
       "output_type": "stream",
       "stream": "stdout",
       "text": [
        "\n",
        "Reformatting: US1WIDA0011"
       ]
      },
      {
       "output_type": "stream",
       "stream": "stdout",
       "text": [
        "\n",
        "Reformatting: US1WIDA0013"
       ]
      },
      {
       "output_type": "stream",
       "stream": "stdout",
       "text": [
        "\n",
        "Reformatting: USW00094811"
       ]
      },
      {
       "output_type": "stream",
       "stream": "stdout",
       "text": [
        "\n",
        "Reformatting: USW00014837"
       ]
      },
      {
       "output_type": "stream",
       "stream": "stdout",
       "text": [
        "\n",
        "Reformatting: USC00474966"
       ]
      },
      {
       "output_type": "stream",
       "stream": "stdout",
       "text": [
        "\n",
        "           City      Station\n",
        "619  MONTGOMERY  US1ALMY0001\n",
        "620  MONTGOMERY  USC00015555\n",
        "621  MONTGOMERY  US1ALMY0004\n",
        "622  MONTGOMERY  US1ALMY0007\n",
        "623  MONTGOMERY  USW00013895\n",
        "624  MONTGOMERY  USC00015553\n",
        "625  MONTGOMERY  US1ALMY0009\n",
        "626  MONTGOMERY  USC00015547\n",
        "627  MONTGOMERY  US1ALMY0010"
       ]
      },
      {
       "output_type": "stream",
       "stream": "stdout",
       "text": [
        "\n",
        "Read: US1ALMY0001\n",
        "Read: USC00015555\n",
        "Read: US1ALMY0004"
       ]
      },
      {
       "output_type": "stream",
       "stream": "stdout",
       "text": [
        "\n",
        "Read: US1ALMY0007\n",
        "Read: USW00013895\n",
        "Read: USC00015553"
       ]
      },
      {
       "output_type": "stream",
       "stream": "stdout",
       "text": [
        "\n",
        "Read: US1ALMY0009"
       ]
      },
      {
       "output_type": "stream",
       "stream": "stdout",
       "text": [
        "\n",
        "Read: USC00015547\n",
        "Read: US1ALMY0010\n",
        "Reformatting: USC00015547\n",
        "Reformatting: USC00015555"
       ]
      },
      {
       "output_type": "stream",
       "stream": "stdout",
       "text": [
        "\n",
        "Reformatting: US1ALMY0009"
       ]
      },
      {
       "output_type": "stream",
       "stream": "stdout",
       "text": [
        "\n",
        "Reformatting: USC00015553"
       ]
      },
      {
       "output_type": "stream",
       "stream": "stdout",
       "text": [
        "\n",
        "Reformatting: US1ALMY0007"
       ]
      },
      {
       "output_type": "stream",
       "stream": "stdout",
       "text": [
        "\n",
        "Reformatting: USW00013895"
       ]
      },
      {
       "output_type": "stream",
       "stream": "stdout",
       "text": [
        "\n",
        "Reformatting: US1ALMY0004"
       ]
      },
      {
       "output_type": "stream",
       "stream": "stdout",
       "text": [
        "\n",
        "Reformatting: US1ALMY0010"
       ]
      },
      {
       "output_type": "stream",
       "stream": "stdout",
       "text": [
        "\n",
        "Reformatting: US1ALMY0001"
       ]
      },
      {
       "output_type": "stream",
       "stream": "stdout",
       "text": [
        "\n",
        "           City      Station\n",
        "628  MONTPELIER  USC00435273"
       ]
      },
      {
       "output_type": "stream",
       "stream": "stdout",
       "text": [
        "\n",
        "Read: USC00435273\n",
        "Reformatting: USC00435273"
       ]
      },
      {
       "output_type": "stream",
       "stream": "stdout",
       "text": [
        "\n",
        "          City      Station\n",
        "629  NASHVILLE  USC00406404\n",
        "630  NASHVILLE  US1TNDV0139\n",
        "631  NASHVILLE  US1TNDV0138\n",
        "632  NASHVILLE  US1TNDV0122\n",
        "633  NASHVILLE  US1TNDV0121\n",
        "634  NASHVILLE  US1TNDV0117\n",
        "635  NASHVILLE  US1TNDV0112\n",
        "636  NASHVILLE  US1TNDV0110\n",
        "637  NASHVILLE  US1TNDV0091\n",
        "638  NASHVILLE  US1TNDV0053\n",
        "639  NASHVILLE  US1TNDV0038\n",
        "640  NASHVILLE  US1TNDV0030\n",
        "641  NASHVILLE  US1TNDV0019\n",
        "642  NASHVILLE  US1TNDV0015\n",
        "643  NASHVILLE  US1TNDV0141\n",
        "644  NASHVILLE  USC00406407\n",
        "645  NASHVILLE  USC00406403\n",
        "646  NASHVILLE  USW00003839\n",
        "647  NASHVILLE  USW00013897\n",
        "648  NASHVILLE  USC00406410"
       ]
      },
      {
       "output_type": "stream",
       "stream": "stdout",
       "text": [
        "\n",
        "Read: USC00406404\n",
        "Read: US1TNDV0139\n",
        "Read: US1TNDV0138\n",
        "Read: US1TNDV0122\n",
        "Read: US1TNDV0121\n",
        "Read: US1TNDV0117"
       ]
      },
      {
       "output_type": "stream",
       "stream": "stdout",
       "text": [
        "\n",
        "Read: US1TNDV0112\n",
        "Read: US1TNDV0110\n",
        "Read: US1TNDV0091\n",
        "Read: US1TNDV0053\n",
        "Read: US1TNDV0038\n",
        "Read: US1TNDV0030\n",
        "Read: US1TNDV0019\n",
        "Read: US1TNDV0015\n",
        "Read: US1TNDV0141"
       ]
      },
      {
       "output_type": "stream",
       "stream": "stdout",
       "text": [
        "\n",
        "Read: USC00406407\n",
        "Read: USC00406403\n",
        "Read: USW00003839"
       ]
      },
      {
       "output_type": "stream",
       "stream": "stdout",
       "text": [
        "\n",
        "Read: USW00013897\n",
        "Read: USC00406410"
       ]
      },
      {
       "output_type": "stream",
       "stream": "stdout",
       "text": [
        "\n",
        "Reformatting: USW00003839\n",
        "Reformatting: US1TNDV0141"
       ]
      },
      {
       "output_type": "stream",
       "stream": "stdout",
       "text": [
        "\n",
        "Reformatting: US1TNDV0053"
       ]
      },
      {
       "output_type": "stream",
       "stream": "stdout",
       "text": [
        "\n",
        "Reformatting: US1TNDV0091"
       ]
      },
      {
       "output_type": "stream",
       "stream": "stdout",
       "text": [
        "\n",
        "Reformatting: USW00013897"
       ]
      },
      {
       "output_type": "stream",
       "stream": "stdout",
       "text": [
        "\n",
        "Reformatting: USC00406407"
       ]
      },
      {
       "output_type": "stream",
       "stream": "stdout",
       "text": [
        "\n",
        "Reformatting: US1TNDV0121"
       ]
      },
      {
       "output_type": "stream",
       "stream": "stdout",
       "text": [
        "\n",
        "Reformatting: USC00406403"
       ]
      },
      {
       "output_type": "stream",
       "stream": "stdout",
       "text": [
        "\n",
        "Reformatting: US1TNDV0030"
       ]
      },
      {
       "output_type": "stream",
       "stream": "stdout",
       "text": [
        "\n",
        "Reformatting: US1TNDV0122"
       ]
      },
      {
       "output_type": "stream",
       "stream": "stdout",
       "text": [
        "\n",
        "Reformatting: US1TNDV0015"
       ]
      },
      {
       "output_type": "stream",
       "stream": "stdout",
       "text": [
        "\n",
        "Reformatting: US1TNDV0112"
       ]
      },
      {
       "output_type": "stream",
       "stream": "stdout",
       "text": [
        "\n",
        "Reformatting: USC00406404"
       ]
      },
      {
       "output_type": "stream",
       "stream": "stdout",
       "text": [
        "\n",
        "Reformatting: US1TNDV0038"
       ]
      },
      {
       "output_type": "stream",
       "stream": "stdout",
       "text": [
        "\n",
        "Reformatting: US1TNDV0019"
       ]
      },
      {
       "output_type": "stream",
       "stream": "stdout",
       "text": [
        "\n",
        "Reformatting: US1TNDV0117"
       ]
      },
      {
       "output_type": "stream",
       "stream": "stdout",
       "text": [
        "\n",
        "Reformatting: US1TNDV0110"
       ]
      },
      {
       "output_type": "stream",
       "stream": "stdout",
       "text": [
        "\n",
        "Reformatting: USC00406410"
       ]
      },
      {
       "output_type": "stream",
       "stream": "stdout",
       "text": [
        "\n",
        "Reformatting: US1TNDV0138"
       ]
      },
      {
       "output_type": "stream",
       "stream": "stdout",
       "text": [
        "\n",
        "Reformatting: US1TNDV0139"
       ]
      },
      {
       "output_type": "stream",
       "stream": "stdout",
       "text": [
        "\n",
        "              City      Station\n",
        "649  OKLAHOMA CITY  USC00346663\n",
        "650  OKLAHOMA CITY  USC00346656\n",
        "651  OKLAHOMA CITY  USC00346659\n",
        "652  OKLAHOMA CITY  USC00346664\n",
        "653  OKLAHOMA CITY  USW00003954\n",
        "654  OKLAHOMA CITY  USW00013919\n",
        "655  OKLAHOMA CITY  USW00013967\n",
        "656  OKLAHOMA CITY  US1OKCV0091\n",
        "657  OKLAHOMA CITY  US1OKOK0019\n",
        "658  OKLAHOMA CITY  US1OKOK0026\n",
        "659  OKLAHOMA CITY  US1OKOK0034\n",
        "660  OKLAHOMA CITY  US1OKOK0042\n",
        "661  OKLAHOMA CITY  US1OKOK0050"
       ]
      },
      {
       "output_type": "stream",
       "stream": "stdout",
       "text": [
        "\n",
        "Read: USC00346663\n",
        "Read: USC00346656"
       ]
      },
      {
       "output_type": "stream",
       "stream": "stdout",
       "text": [
        "\n",
        "Read: USC00346659"
       ]
      },
      {
       "output_type": "stream",
       "stream": "stdout",
       "text": [
        "\n",
        "Read: USC00346664\n",
        "Read: USW00003954"
       ]
      },
      {
       "output_type": "stream",
       "stream": "stdout",
       "text": [
        "\n",
        "Read: USW00013919"
       ]
      },
      {
       "output_type": "stream",
       "stream": "stdout",
       "text": [
        "\n",
        "Read: USW00013967"
       ]
      },
      {
       "output_type": "stream",
       "stream": "stdout",
       "text": [
        "\n",
        "Read: US1OKCV0091"
       ]
      },
      {
       "output_type": "stream",
       "stream": "stdout",
       "text": [
        "\n",
        "Read: US1OKOK0019\n",
        "Read: US1OKOK0026\n",
        "Read: US1OKOK0034\n",
        "Read: US1OKOK0042\n",
        "Read: US1OKOK0050\n",
        "Reformatting: US1OKOK0050"
       ]
      },
      {
       "output_type": "stream",
       "stream": "stdout",
       "text": [
        "\n",
        "Reformatting: USW00013919"
       ]
      },
      {
       "output_type": "stream",
       "stream": "stdout",
       "text": [
        "\n",
        "Reformatting: US1OKOK0042"
       ]
      },
      {
       "output_type": "stream",
       "stream": "stdout",
       "text": [
        "\n",
        "Reformatting: USW00003954"
       ]
      },
      {
       "output_type": "stream",
       "stream": "stdout",
       "text": [
        "\n",
        "Reformatting: USW00013967"
       ]
      },
      {
       "output_type": "stream",
       "stream": "stdout",
       "text": [
        "\n",
        "Reformatting: US1OKCV0091"
       ]
      },
      {
       "output_type": "stream",
       "stream": "stdout",
       "text": [
        "\n",
        "Reformatting: USC00346656"
       ]
      },
      {
       "output_type": "stream",
       "stream": "stdout",
       "text": [
        "\n",
        "Reformatting: US1OKOK0026"
       ]
      },
      {
       "output_type": "stream",
       "stream": "stdout",
       "text": [
        "\n",
        "Reformatting: US1OKOK0034"
       ]
      },
      {
       "output_type": "stream",
       "stream": "stdout",
       "text": [
        "\n",
        "Reformatting: USC00346663"
       ]
      },
      {
       "output_type": "stream",
       "stream": "stdout",
       "text": [
        "\n",
        "Reformatting: USC00346659"
       ]
      },
      {
       "output_type": "stream",
       "stream": "stdout",
       "text": [
        "\n",
        "Reformatting: US1OKOK0019"
       ]
      },
      {
       "output_type": "stream",
       "stream": "stdout",
       "text": [
        "\n",
        "Reformatting: USC00346664"
       ]
      },
      {
       "output_type": "stream",
       "stream": "stdout",
       "text": [
        "\n",
        "        City      Station\n",
        "662  OLYMPIA  US1WATH0019\n",
        "663  OLYMPIA  US1WATH0031\n",
        "664  OLYMPIA  US1WATH0028\n",
        "665  OLYMPIA  US1WATH0027\n",
        "666  OLYMPIA  US1WATH0026\n",
        "667  OLYMPIA  USC00456104\n",
        "668  OLYMPIA  US1WATH0032\n",
        "669  OLYMPIA  US1WATH0012\n",
        "670  OLYMPIA  USW00024227\n",
        "671  OLYMPIA  US1WATH0010\n",
        "672  OLYMPIA  US1WATH0033\n",
        "673  OLYMPIA  US1WATH0008\n",
        "674  OLYMPIA  US1WATH0003\n",
        "675  OLYMPIA  US1WATH0034\n",
        "676  OLYMPIA  US1WATH0036\n",
        "677  OLYMPIA  US1WATH0025\n",
        "678  OLYMPIA  US1WATH0001\n",
        "679  OLYMPIA  US1WATH0015\n",
        "680  OLYMPIA  US1WATH0002\n",
        "681  OLYMPIA  USC00456109\n",
        "682  OLYMPIA  US1WATH0037\n",
        "683  OLYMPIA  US1WATH0013"
       ]
      },
      {
       "output_type": "stream",
       "stream": "stdout",
       "text": [
        "\n",
        "Read: US1WATH0019\n",
        "Read: US1WATH0031\n",
        "Read: US1WATH0028\n",
        "Read: US1WATH0027\n",
        "Read: US1WATH0026\n",
        "Read: USC00456104\n",
        "Read: US1WATH0032"
       ]
      },
      {
       "output_type": "stream",
       "stream": "stdout",
       "text": [
        "\n",
        "Read: US1WATH0012\n",
        "Read: USW00024227\n",
        "Read: US1WATH0010"
       ]
      },
      {
       "output_type": "stream",
       "stream": "stdout",
       "text": [
        "\n",
        "Read: US1WATH0033\n",
        "Read: US1WATH0008\n",
        "Read: US1WATH0003\n",
        "Read: US1WATH0034\n",
        "Read: US1WATH0036\n",
        "Read: US1WATH0025\n",
        "Read: US1WATH0001\n",
        "Read: US1WATH0015"
       ]
      },
      {
       "output_type": "stream",
       "stream": "stdout",
       "text": [
        "\n",
        "Read: US1WATH0002\n",
        "Read: USC00456109\n",
        "Read: US1WATH0037"
       ]
      },
      {
       "output_type": "stream",
       "stream": "stdout",
       "text": [
        "\n",
        "Read: US1WATH0013\n",
        "Reformatting: US1WATH0008\n",
        "Reformatting: US1WATH0002"
       ]
      },
      {
       "output_type": "stream",
       "stream": "stdout",
       "text": [
        "\n",
        "Reformatting: US1WATH0003"
       ]
      },
      {
       "output_type": "stream",
       "stream": "stdout",
       "text": [
        "\n",
        "Reformatting: US1WATH0001"
       ]
      },
      {
       "output_type": "stream",
       "stream": "stdout",
       "text": [
        "\n",
        "Reformatting: US1WATH0025"
       ]
      },
      {
       "output_type": "stream",
       "stream": "stdout",
       "text": [
        "\n",
        "Reformatting: US1WATH0026"
       ]
      },
      {
       "output_type": "stream",
       "stream": "stdout",
       "text": [
        "\n",
        "Reformatting: US1WATH0027"
       ]
      },
      {
       "output_type": "stream",
       "stream": "stdout",
       "text": [
        "\n",
        "Reformatting: US1WATH0028"
       ]
      },
      {
       "output_type": "stream",
       "stream": "stdout",
       "text": [
        "\n",
        "Reformatting: USC00456104"
       ]
      },
      {
       "output_type": "stream",
       "stream": "stdout",
       "text": [
        "\n",
        "Reformatting: USC00456109"
       ]
      },
      {
       "output_type": "stream",
       "stream": "stdout",
       "text": [
        "\n",
        "Reformatting: US1WATH0019"
       ]
      },
      {
       "output_type": "stream",
       "stream": "stdout",
       "text": [
        "\n",
        "Reformatting: US1WATH0010"
       ]
      },
      {
       "output_type": "stream",
       "stream": "stdout",
       "text": [
        "\n",
        "Reformatting: US1WATH0013"
       ]
      },
      {
       "output_type": "stream",
       "stream": "stdout",
       "text": [
        "\n",
        "Reformatting: US1WATH0012"
       ]
      },
      {
       "output_type": "stream",
       "stream": "stdout",
       "text": [
        "\n",
        "Reformatting: US1WATH0015"
       ]
      },
      {
       "output_type": "stream",
       "stream": "stdout",
       "text": [
        "\n",
        "Reformatting: US1WATH0037"
       ]
      },
      {
       "output_type": "stream",
       "stream": "stdout",
       "text": [
        "\n",
        "Reformatting: US1WATH0036"
       ]
      },
      {
       "output_type": "stream",
       "stream": "stdout",
       "text": [
        "\n",
        "Reformatting: US1WATH0034"
       ]
      },
      {
       "output_type": "stream",
       "stream": "stdout",
       "text": [
        "\n",
        "Reformatting: US1WATH0033"
       ]
      },
      {
       "output_type": "stream",
       "stream": "stdout",
       "text": [
        "\n",
        "Reformatting: US1WATH0032"
       ]
      },
      {
       "output_type": "stream",
       "stream": "stdout",
       "text": [
        "\n",
        "Reformatting: US1WATH0031"
       ]
      },
      {
       "output_type": "stream",
       "stream": "stdout",
       "text": [
        "\n",
        "Reformatting: USW00024227"
       ]
      },
      {
       "output_type": "stream",
       "stream": "stdout",
       "text": [
        "\n",
        "        City      Station\n",
        "684  PHOENIX  US1AZMR0088\n",
        "685  PHOENIX  US1AZMR0101\n",
        "686  PHOENIX  US1AZMR0131\n",
        "687  PHOENIX  US1AZMR0082\n",
        "688  PHOENIX  US1AZMR0138\n",
        "689  PHOENIX  US1AZMR0140\n",
        "690  PHOENIX  US1AZMR0156\n",
        "691  PHOENIX  US1AZMR0189\n",
        "692  PHOENIX  US1AZMR0198\n",
        "693  PHOENIX  US1AZMR0203\n",
        "694  PHOENIX  US1AZMR0211\n",
        "695  PHOENIX  US1AZMR0078\n",
        "696  PHOENIX  US1AZMR0062\n",
        "697  PHOENIX  US1AZMR0057\n",
        "698  PHOENIX  US1AZMR0222\n",
        "699  PHOENIX  US1AZMR0228\n",
        "700  PHOENIX  US1AZMR0242\n",
        "701  PHOENIX  US1AZMR0039\n",
        "702  PHOENIX  US1AZMR0254\n",
        "703  PHOENIX  US1AZMR0001\n",
        "704  PHOENIX  US1AZMR0034\n",
        "705  PHOENIX  US1AZMR0259\n",
        "706  PHOENIX  US1AZMR0283\n",
        "707  PHOENIX  US1AZMR0027\n",
        "708  PHOENIX  USW00023104\n",
        "709  PHOENIX  USW00053156\n",
        "710  PHOENIX  USC00026476\n",
        "711  PHOENIX  USC00026479\n",
        "712  PHOENIX  USW00023111\n",
        "713  PHOENIX  USW00023183\n",
        "714  PHOENIX  US1AZMR0303\n",
        "715  PHOENIX  US1AZMR0313\n",
        "716  PHOENIX  US1AZMR0326\n",
        "717  PHOENIX  US1AZMR0334\n",
        "718  PHOENIX  US1AZMR0343\n",
        "719  PHOENIX  US1AZMR0353\n",
        "720  PHOENIX  US1AZMR0356\n",
        "721  PHOENIX  USW00093105\n",
        "722  PHOENIX  US1AZMR0025\n",
        "723  PHOENIX  US1AZMR0382\n",
        "724  PHOENIX  US1AZMR0024\n",
        "725  PHOENIX  US1AZMR0015\n",
        "726  PHOENIX  USW00003184\n",
        "727  PHOENIX  USW00093140\n",
        "728  PHOENIX  US1AZMR0220"
       ]
      },
      {
       "output_type": "stream",
       "stream": "stdout",
       "text": [
        "\n",
        "Read: US1AZMR0088\n",
        "Read: US1AZMR0101\n",
        "Read: US1AZMR0131\n",
        "Read: US1AZMR0082\n",
        "Read: US1AZMR0138\n",
        "Read: US1AZMR0140\n",
        "Read: US1AZMR0156"
       ]
      },
      {
       "output_type": "stream",
       "stream": "stdout",
       "text": [
        "\n",
        "Read: US1AZMR0189\n",
        "Read: US1AZMR0198\n",
        "Read: US1AZMR0203\n",
        "Read: US1AZMR0211\n",
        "Read: US1AZMR0078\n",
        "Read: US1AZMR0062\n",
        "Read: US1AZMR0057\n",
        "Read: US1AZMR0222"
       ]
      },
      {
       "output_type": "stream",
       "stream": "stdout",
       "text": [
        "\n",
        "Read: US1AZMR0228\n",
        "Read: US1AZMR0242\n",
        "Read: US1AZMR0039\n",
        "Read: US1AZMR0254\n",
        "Read: US1AZMR0001\n",
        "Read: US1AZMR0034\n",
        "Read: US1AZMR0259"
       ]
      },
      {
       "output_type": "stream",
       "stream": "stdout",
       "text": [
        "\n",
        "Read: US1AZMR0283\n",
        "Read: US1AZMR0027\n",
        "Read: USW00023104\n",
        "Read: USW00053156"
       ]
      },
      {
       "output_type": "stream",
       "stream": "stdout",
       "text": [
        "\n",
        "Read: USC00026476\n",
        "Read: USC00026479"
       ]
      },
      {
       "output_type": "stream",
       "stream": "stdout",
       "text": [
        "\n",
        "Read: USW00023111\n",
        "Read: USW00023183"
       ]
      },
      {
       "output_type": "stream",
       "stream": "stdout",
       "text": [
        "\n",
        "Read: US1AZMR0303"
       ]
      },
      {
       "output_type": "stream",
       "stream": "stdout",
       "text": [
        "\n",
        "Read: US1AZMR0313\n",
        "Read: US1AZMR0326\n",
        "Read: US1AZMR0334\n",
        "Read: US1AZMR0343\n",
        "Read: US1AZMR0353\n",
        "Read: US1AZMR0356\n",
        "Read: USW00093105\n",
        "Read: US1AZMR0025"
       ]
      },
      {
       "output_type": "stream",
       "stream": "stdout",
       "text": [
        "\n",
        "Read: US1AZMR0382\n",
        "Read: US1AZMR0024\n",
        "Read: US1AZMR0015\n",
        "Read: USW00003184\n",
        "Read: USW00093140"
       ]
      },
      {
       "output_type": "stream",
       "stream": "stdout",
       "text": [
        "\n",
        "Read: US1AZMR0220"
       ]
      },
      {
       "output_type": "stream",
       "stream": "stdout",
       "text": [
        "\n",
        "Reformatting: US1AZMR0220\n",
        "Reformatting: USW00023183"
       ]
      },
      {
       "output_type": "stream",
       "stream": "stdout",
       "text": [
        "\n",
        "Reformatting: US1AZMR0015"
       ]
      },
      {
       "output_type": "stream",
       "stream": "stdout",
       "text": [
        "\n",
        "Reformatting: US1AZMR0343"
       ]
      },
      {
       "output_type": "stream",
       "stream": "stdout",
       "text": [
        "\n",
        "Reformatting: US1AZMR0222"
       ]
      },
      {
       "output_type": "stream",
       "stream": "stdout",
       "text": [
        "\n",
        "Reformatting: US1AZMR0189"
       ]
      },
      {
       "output_type": "stream",
       "stream": "stdout",
       "text": [
        "\n",
        "Reformatting: USW00093140"
       ]
      },
      {
       "output_type": "stream",
       "stream": "stdout",
       "text": [
        "\n",
        "Reformatting: US1AZMR0228"
       ]
      },
      {
       "output_type": "stream",
       "stream": "stdout",
       "text": [
        "\n",
        "Reformatting: US1AZMR0203"
       ]
      },
      {
       "output_type": "stream",
       "stream": "stdout",
       "text": [
        "\n",
        "Reformatting: US1AZMR0242"
       ]
      },
      {
       "output_type": "stream",
       "stream": "stdout",
       "text": [
        "\n",
        "Reformatting: US1AZMR0326"
       ]
      },
      {
       "output_type": "stream",
       "stream": "stdout",
       "text": [
        "\n",
        "Reformatting: USW00023104"
       ]
      },
      {
       "output_type": "stream",
       "stream": "stdout",
       "text": [
        "\n",
        "Reformatting: US1AZMR0001"
       ]
      },
      {
       "output_type": "stream",
       "stream": "stdout",
       "text": [
        "\n",
        "Reformatting: US1AZMR0024"
       ]
      },
      {
       "output_type": "stream",
       "stream": "stdout",
       "text": [
        "\n",
        "Reformatting: US1AZMR0025"
       ]
      },
      {
       "output_type": "stream",
       "stream": "stdout",
       "text": [
        "\n",
        "Reformatting: US1AZMR0078"
       ]
      },
      {
       "output_type": "stream",
       "stream": "stdout",
       "text": [
        "\n",
        "Reformatting: US1AZMR0088"
       ]
      },
      {
       "output_type": "stream",
       "stream": "stdout",
       "text": [
        "\n",
        "Reformatting: US1AZMR0101"
       ]
      },
      {
       "output_type": "stream",
       "stream": "stdout",
       "text": [
        "\n",
        "Reformatting: US1AZMR0283"
       ]
      },
      {
       "output_type": "stream",
       "stream": "stdout",
       "text": [
        "\n",
        "Reformatting: US1AZMR0062"
       ]
      },
      {
       "output_type": "stream",
       "stream": "stdout",
       "text": [
        "\n",
        "Reformatting: US1AZMR0140"
       ]
      },
      {
       "output_type": "stream",
       "stream": "stdout",
       "text": [
        "\n",
        "Reformatting: USW00053156"
       ]
      },
      {
       "output_type": "stream",
       "stream": "stdout",
       "text": [
        "\n",
        "Reformatting: US1AZMR0382"
       ]
      },
      {
       "output_type": "stream",
       "stream": "stdout",
       "text": [
        "\n",
        "Reformatting: USC00026476"
       ]
      },
      {
       "output_type": "stream",
       "stream": "stdout",
       "text": [
        "\n",
        "Reformatting: US1AZMR0356"
       ]
      },
      {
       "output_type": "stream",
       "stream": "stdout",
       "text": [
        "\n",
        "Reformatting: US1AZMR0027"
       ]
      },
      {
       "output_type": "stream",
       "stream": "stdout",
       "text": [
        "\n",
        "Reformatting: US1AZMR0198"
       ]
      },
      {
       "output_type": "stream",
       "stream": "stdout",
       "text": [
        "\n",
        "Reformatting: US1AZMR0353"
       ]
      },
      {
       "output_type": "stream",
       "stream": "stdout",
       "text": [
        "\n",
        "Reformatting: US1AZMR0313"
       ]
      },
      {
       "output_type": "stream",
       "stream": "stdout",
       "text": [
        "\n",
        "Reformatting: US1AZMR0211"
       ]
      },
      {
       "output_type": "stream",
       "stream": "stdout",
       "text": [
        "\n",
        "Reformatting: US1AZMR0334"
       ]
      },
      {
       "output_type": "stream",
       "stream": "stdout",
       "text": [
        "\n",
        "Reformatting: US1AZMR0303"
       ]
      },
      {
       "output_type": "stream",
       "stream": "stdout",
       "text": [
        "\n",
        "Reformatting: US1AZMR0138"
       ]
      },
      {
       "output_type": "stream",
       "stream": "stdout",
       "text": [
        "\n",
        "Reformatting: US1AZMR0254"
       ]
      },
      {
       "output_type": "stream",
       "stream": "stdout",
       "text": [
        "\n",
        "Reformatting: USW00093105"
       ]
      },
      {
       "output_type": "stream",
       "stream": "stdout",
       "text": [
        "\n",
        "Reformatting: US1AZMR0259"
       ]
      },
      {
       "output_type": "stream",
       "stream": "stdout",
       "text": [
        "\n",
        "Reformatting: USW00023111"
       ]
      },
      {
       "output_type": "stream",
       "stream": "stdout",
       "text": [
        "\n",
        "Reformatting: US1AZMR0131"
       ]
      },
      {
       "output_type": "stream",
       "stream": "stdout",
       "text": [
        "\n",
        "Reformatting: USW00003184"
       ]
      },
      {
       "output_type": "stream",
       "stream": "stdout",
       "text": [
        "\n",
        "Reformatting: US1AZMR0034"
       ]
      },
      {
       "output_type": "stream",
       "stream": "stdout",
       "text": [
        "\n",
        "Reformatting: US1AZMR0156"
       ]
      },
      {
       "output_type": "stream",
       "stream": "stdout",
       "text": [
        "\n",
        "Reformatting: US1AZMR0082"
       ]
      },
      {
       "output_type": "stream",
       "stream": "stdout",
       "text": [
        "\n",
        "Reformatting: US1AZMR0057"
       ]
      },
      {
       "output_type": "stream",
       "stream": "stdout",
       "text": [
        "\n",
        "Reformatting: USC00026479"
       ]
      },
      {
       "output_type": "stream",
       "stream": "stdout",
       "text": [
        "\n",
        "Reformatting: US1AZMR0039"
       ]
      },
      {
       "output_type": "stream",
       "stream": "stdout",
       "text": [
        "\n",
        "       City      Station\n",
        "729  PIERRE  US1SDHG0016\n",
        "730  PIERRE  US1SDHG0012\n",
        "731  PIERRE  US1SDHG0010\n",
        "732  PIERRE  US1SDHG0002\n",
        "733  PIERRE  USW00094085\n",
        "734  PIERRE  USW00024025\n",
        "735  PIERRE  US1SDSL0004"
       ]
      },
      {
       "output_type": "stream",
       "stream": "stdout",
       "text": [
        "\n",
        "Read: US1SDHG0016\n",
        "Read: US1SDHG0012\n",
        "Read: US1SDHG0010\n",
        "Read: US1SDHG0002\n",
        "Read: USW00094085\n",
        "Read: USW00024025"
       ]
      },
      {
       "output_type": "stream",
       "stream": "stdout",
       "text": [
        "\n",
        "Read: US1SDSL0004"
       ]
      },
      {
       "output_type": "stream",
       "stream": "stdout",
       "text": [
        "\n",
        "Reformatting: US1SDHG0016\n",
        "Reformatting: US1SDHG0012"
       ]
      },
      {
       "output_type": "stream",
       "stream": "stdout",
       "text": [
        "\n",
        "Reformatting: US1SDHG0002"
       ]
      },
      {
       "output_type": "stream",
       "stream": "stdout",
       "text": [
        "\n",
        "Reformatting: US1SDHG0010"
       ]
      },
      {
       "output_type": "stream",
       "stream": "stdout",
       "text": [
        "\n",
        "Reformatting: USW00094085"
       ]
      },
      {
       "output_type": "stream",
       "stream": "stdout",
       "text": [
        "\n",
        "Reformatting: US1SDSL0004"
       ]
      },
      {
       "output_type": "stream",
       "stream": "stdout",
       "text": [
        "\n",
        "Reformatting: USW00024025"
       ]
      },
      {
       "output_type": "stream",
       "stream": "stdout",
       "text": [
        "\n",
        "           City      Station\n",
        "736  PROVIDENCE  USC00376710\n",
        "737  PROVIDENCE  USC00376703\n",
        "738  PROVIDENCE  USW00014765\n",
        "739  PROVIDENCE  US1RIPR0016\n",
        "740  PROVIDENCE  US1RIPR0027\n",
        "741  PROVIDENCE  US1RIPR0011\n",
        "742  PROVIDENCE  USC00376712\n",
        "743  PROVIDENCE  USC00376714"
       ]
      },
      {
       "output_type": "stream",
       "stream": "stdout",
       "text": [
        "\n",
        "Read: USC00376710\n",
        "Read: USC00376703\n",
        "Read: USW00014765"
       ]
      },
      {
       "output_type": "stream",
       "stream": "stdout",
       "text": [
        "\n",
        "Read: US1RIPR0016"
       ]
      },
      {
       "output_type": "stream",
       "stream": "stdout",
       "text": [
        "\n",
        "Read: US1RIPR0027\n",
        "Read: US1RIPR0011\n",
        "Read: USC00376712\n",
        "Read: USC00376714"
       ]
      },
      {
       "output_type": "stream",
       "stream": "stdout",
       "text": [
        "\n",
        "Reformatting: USW00014765"
       ]
      },
      {
       "output_type": "stream",
       "stream": "stdout",
       "text": [
        "\n",
        "Reformatting: USC00376710"
       ]
      },
      {
       "output_type": "stream",
       "stream": "stdout",
       "text": [
        "\n",
        "Reformatting: US1RIPR0027"
       ]
      },
      {
       "output_type": "stream",
       "stream": "stdout",
       "text": [
        "\n",
        "Reformatting: US1RIPR0016"
       ]
      },
      {
       "output_type": "stream",
       "stream": "stdout",
       "text": [
        "\n",
        "Reformatting: US1RIPR0011"
       ]
      },
      {
       "output_type": "stream",
       "stream": "stdout",
       "text": [
        "\n",
        "Reformatting: USC00376714"
       ]
      },
      {
       "output_type": "stream",
       "stream": "stdout",
       "text": [
        "\n",
        "Reformatting: USC00376703"
       ]
      },
      {
       "output_type": "stream",
       "stream": "stdout",
       "text": [
        "\n",
        "Reformatting: USC00376712"
       ]
      },
      {
       "output_type": "stream",
       "stream": "stdout",
       "text": [
        "\n",
        "        City      Station\n",
        "744  RALEIGH  US1NCWK0113\n",
        "745  RALEIGH  US1NCWK0061\n",
        "746  RALEIGH  US1NCWK0069\n",
        "747  RALEIGH  US1NCWK0043\n",
        "748  RALEIGH  US1NCWK0036\n",
        "749  RALEIGH  US1NCWK0027\n",
        "750  RALEIGH  US1NCWK0023\n",
        "751  RALEIGH  US1NCWK0019\n",
        "752  RALEIGH  US1NCWK0018\n",
        "753  RALEIGH  US1NCWK0013\n",
        "754  RALEIGH  US1NCWK0011\n",
        "755  RALEIGH  US1NCWK0009\n",
        "756  RALEIGH  US1NCWK0003\n",
        "757  RALEIGH  US1NCWK0002\n",
        "758  RALEIGH  US1NCWK0001\n",
        "759  RALEIGH  US1NCWK0073\n",
        "760  RALEIGH  US1NCWK0074\n",
        "761  RALEIGH  US1NCWK0075\n",
        "762  RALEIGH  US1NCWK0059\n",
        "763  RALEIGH  US1NCWK0055\n",
        "764  RALEIGH  US1NCWK0051\n",
        "765  RALEIGH  US1NCWK0080\n",
        "766  RALEIGH  US1NCWK0174\n",
        "767  RALEIGH  US1NCWK0165\n",
        "768  RALEIGH  US1NCWK0155\n",
        "769  RALEIGH  US1NCWK0123\n",
        "770  RALEIGH  US1NCWK0119\n",
        "771  RALEIGH  US1NCWK0118\n",
        "772  RALEIGH  US1NCWK0082\n",
        "773  RALEIGH  US1NCWK0115\n",
        "774  RALEIGH  US1NCWK0087\n",
        "775  RALEIGH  USW00013722\n",
        "776  RALEIGH  US1NCWK0060\n",
        "777  RALEIGH  US1NCWK0104\n",
        "778  RALEIGH  US1NCWK0100\n",
        "779  RALEIGH  US1NCWK0098\n",
        "780  RALEIGH  US1NCWK0096\n",
        "781  RALEIGH  US1NCWK0091\n",
        "782  RALEIGH  US1NCWK0088\n",
        "783  RALEIGH  US1NCWK0090\n",
        "784  RALEIGH  USC00317074\n",
        "785  RALEIGH  USC00317079\n",
        "786  RALEIGH  USC00317081"
       ]
      },
      {
       "output_type": "stream",
       "stream": "stdout",
       "text": [
        "\n",
        "Read: US1NCWK0113\n",
        "Read: US1NCWK0061\n",
        "Read: US1NCWK0069\n",
        "Read: US1NCWK0043\n",
        "Read: US1NCWK0036\n",
        "Read: US1NCWK0027\n",
        "Read: US1NCWK0023\n",
        "Read: US1NCWK0019"
       ]
      },
      {
       "output_type": "stream",
       "stream": "stdout",
       "text": [
        "\n",
        "Read: US1NCWK0018\n",
        "Read: US1NCWK0013\n",
        "Read: US1NCWK0011\n",
        "Read: US1NCWK0009\n",
        "Read: US1NCWK0003\n",
        "Read: US1NCWK0002\n",
        "Read: US1NCWK0001"
       ]
      },
      {
       "output_type": "stream",
       "stream": "stdout",
       "text": [
        "\n",
        "Read: US1NCWK0073\n",
        "Read: US1NCWK0074\n",
        "Read: US1NCWK0075\n",
        "Read: US1NCWK0059\n",
        "Read: US1NCWK0055\n",
        "Read: US1NCWK0051"
       ]
      },
      {
       "output_type": "stream",
       "stream": "stdout",
       "text": [
        "\n",
        "Read: US1NCWK0080\n",
        "Read: US1NCWK0174\n",
        "Read: US1NCWK0165\n",
        "Read: US1NCWK0155\n",
        "Read: US1NCWK0123\n",
        "Read: US1NCWK0119\n",
        "Read: US1NCWK0118\n",
        "Read: US1NCWK0082\n",
        "Read: US1NCWK0115\n",
        "Read: US1NCWK0087\n",
        "Read: USW00013722"
       ]
      },
      {
       "output_type": "stream",
       "stream": "stdout",
       "text": [
        "\n",
        "Read: US1NCWK0060"
       ]
      },
      {
       "output_type": "stream",
       "stream": "stdout",
       "text": [
        "\n",
        "Read: US1NCWK0104\n",
        "Read: US1NCWK0100\n",
        "Read: US1NCWK0098\n",
        "Read: US1NCWK0096\n",
        "Read: US1NCWK0091\n",
        "Read: US1NCWK0088\n",
        "Read: US1NCWK0090\n",
        "Read: USC00317074\n",
        "Read: USC00317079"
       ]
      },
      {
       "output_type": "stream",
       "stream": "stdout",
       "text": [
        "\n",
        "Read: USC00317081"
       ]
      },
      {
       "output_type": "stream",
       "stream": "stdout",
       "text": [
        "\n",
        "Reformatting: USC00317079"
       ]
      },
      {
       "output_type": "stream",
       "stream": "stdout",
       "text": [
        "\n",
        "Reformatting: US1NCWK0088"
       ]
      },
      {
       "output_type": "stream",
       "stream": "stdout",
       "text": [
        "\n",
        "Reformatting: US1NCWK0060"
       ]
      },
      {
       "output_type": "stream",
       "stream": "stdout",
       "text": [
        "\n",
        "Reformatting: US1NCWK0087"
       ]
      },
      {
       "output_type": "stream",
       "stream": "stdout",
       "text": [
        "\n",
        "Reformatting: USC00317074"
       ]
      },
      {
       "output_type": "stream",
       "stream": "stdout",
       "text": [
        "\n",
        "Reformatting: US1NCWK0080"
       ]
      },
      {
       "output_type": "stream",
       "stream": "stdout",
       "text": [
        "\n",
        "Reformatting: US1NCWK0082"
       ]
      },
      {
       "output_type": "stream",
       "stream": "stdout",
       "text": [
        "\n",
        "Reformatting: US1NCWK0059"
       ]
      },
      {
       "output_type": "stream",
       "stream": "stdout",
       "text": [
        "\n",
        "Reformatting: USC00317081"
       ]
      },
      {
       "output_type": "stream",
       "stream": "stdout",
       "text": [
        "\n",
        "Reformatting: US1NCWK0018"
       ]
      },
      {
       "output_type": "stream",
       "stream": "stdout",
       "text": [
        "\n",
        "Reformatting: US1NCWK0019"
       ]
      },
      {
       "output_type": "stream",
       "stream": "stdout",
       "text": [
        "\n",
        "Reformatting: US1NCWK0119"
       ]
      },
      {
       "output_type": "stream",
       "stream": "stdout",
       "text": [
        "\n",
        "Reformatting: US1NCWK0051"
       ]
      },
      {
       "output_type": "stream",
       "stream": "stdout",
       "text": [
        "\n",
        "Reformatting: US1NCWK0074"
       ]
      },
      {
       "output_type": "stream",
       "stream": "stdout",
       "text": [
        "\n",
        "Reformatting: US1NCWK0013"
       ]
      },
      {
       "output_type": "stream",
       "stream": "stdout",
       "text": [
        "\n",
        "Reformatting: US1NCWK0115"
       ]
      },
      {
       "output_type": "stream",
       "stream": "stdout",
       "text": [
        "\n",
        "Reformatting: US1NCWK0011"
       ]
      },
      {
       "output_type": "stream",
       "stream": "stdout",
       "text": [
        "\n",
        "Reformatting: US1NCWK0113"
       ]
      },
      {
       "output_type": "stream",
       "stream": "stdout",
       "text": [
        "\n",
        "Reformatting: US1NCWK0073"
       ]
      },
      {
       "output_type": "stream",
       "stream": "stdout",
       "text": [
        "\n",
        "Reformatting: US1NCWK0174"
       ]
      },
      {
       "output_type": "stream",
       "stream": "stdout",
       "text": [
        "\n",
        "Reformatting: US1NCWK0036"
       ]
      },
      {
       "output_type": "stream",
       "stream": "stdout",
       "text": [
        "\n",
        "Reformatting: US1NCWK0001"
       ]
      },
      {
       "output_type": "stream",
       "stream": "stdout",
       "text": [
        "\n",
        "Reformatting: US1NCWK0090"
       ]
      },
      {
       "output_type": "stream",
       "stream": "stdout",
       "text": [
        "\n",
        "Reformatting: US1NCWK0091"
       ]
      },
      {
       "output_type": "stream",
       "stream": "stdout",
       "text": [
        "\n",
        "Reformatting: US1NCWK0096"
       ]
      },
      {
       "output_type": "stream",
       "stream": "stdout",
       "text": [
        "\n",
        "Reformatting: US1NCWK0155"
       ]
      },
      {
       "output_type": "stream",
       "stream": "stdout",
       "text": [
        "\n",
        "Reformatting: USW00013722"
       ]
      },
      {
       "output_type": "stream",
       "stream": "stdout",
       "text": [
        "\n",
        "Reformatting: US1NCWK0098"
       ]
      },
      {
       "output_type": "stream",
       "stream": "stdout",
       "text": [
        "\n",
        "Reformatting: US1NCWK0002"
       ]
      },
      {
       "output_type": "stream",
       "stream": "stdout",
       "text": [
        "\n",
        "Reformatting: US1NCWK0055"
       ]
      },
      {
       "output_type": "stream",
       "stream": "stdout",
       "text": [
        "\n",
        "Reformatting: US1NCWK0043"
       ]
      },
      {
       "output_type": "stream",
       "stream": "stdout",
       "text": [
        "\n",
        "Reformatting: US1NCWK0123"
       ]
      },
      {
       "output_type": "stream",
       "stream": "stdout",
       "text": [
        "\n",
        "Reformatting: US1NCWK0069"
       ]
      },
      {
       "output_type": "stream",
       "stream": "stdout",
       "text": [
        "\n",
        "Reformatting: US1NCWK0104"
       ]
      },
      {
       "output_type": "stream",
       "stream": "stdout",
       "text": [
        "\n",
        "Reformatting: US1NCWK0118"
       ]
      },
      {
       "output_type": "stream",
       "stream": "stdout",
       "text": [
        "\n",
        "Reformatting: US1NCWK0100"
       ]
      },
      {
       "output_type": "stream",
       "stream": "stdout",
       "text": [
        "\n",
        "Reformatting: US1NCWK0061"
       ]
      },
      {
       "output_type": "stream",
       "stream": "stdout",
       "text": [
        "\n",
        "Reformatting: US1NCWK0165"
       ]
      },
      {
       "output_type": "stream",
       "stream": "stdout",
       "text": [
        "\n",
        "Reformatting: US1NCWK0023"
       ]
      },
      {
       "output_type": "stream",
       "stream": "stdout",
       "text": [
        "\n",
        "Reformatting: US1NCWK0027"
       ]
      },
      {
       "output_type": "stream",
       "stream": "stdout",
       "text": [
        "\n",
        "Reformatting: US1NCWK0003"
       ]
      },
      {
       "output_type": "stream",
       "stream": "stdout",
       "text": [
        "\n",
        "Reformatting: US1NCWK0075"
       ]
      },
      {
       "output_type": "stream",
       "stream": "stdout",
       "text": [
        "\n",
        "Reformatting: US1NCWK0009"
       ]
      },
      {
       "output_type": "stream",
       "stream": "stdout",
       "text": [
        "\n",
        "         City      Station\n",
        "787  RICHMOND  USW00013780\n",
        "788  RICHMOND  US1VAHR0002\n",
        "789  RICHMOND  US1VARCC002\n",
        "790  RICHMOND  US1VARCC004\n",
        "791  RICHMOND  USC00447196\n",
        "792  RICHMOND  USW00013740\n",
        "793  RICHMOND  US1VAGH0003"
       ]
      },
      {
       "output_type": "stream",
       "stream": "stdout",
       "text": [
        "\n",
        "Read: USW00013780\n",
        "Read: US1VAHR0002"
       ]
      },
      {
       "output_type": "stream",
       "stream": "stdout",
       "text": [
        "\n",
        "Read: US1VARCC002\n",
        "Read: US1VARCC004\n",
        "Read: USC00447196\n",
        "Read: USW00013740"
       ]
      },
      {
       "output_type": "stream",
       "stream": "stdout",
       "text": [
        "\n",
        "Read: US1VAGH0003"
       ]
      },
      {
       "output_type": "stream",
       "stream": "stdout",
       "text": [
        "\n",
        "Reformatting: US1VARCC002\n",
        "Reformatting: US1VAHR0002"
       ]
      },
      {
       "output_type": "stream",
       "stream": "stdout",
       "text": [
        "\n",
        "Reformatting: US1VAGH0003"
       ]
      },
      {
       "output_type": "stream",
       "stream": "stdout",
       "text": [
        "\n",
        "Reformatting: USC00447196"
       ]
      },
      {
       "output_type": "stream",
       "stream": "stdout",
       "text": [
        "\n",
        "Reformatting: USW00013780"
       ]
      },
      {
       "output_type": "stream",
       "stream": "stdout",
       "text": [
        "\n",
        "Reformatting: US1VARCC004"
       ]
      },
      {
       "output_type": "stream",
       "stream": "stdout",
       "text": [
        "\n",
        "Reformatting: USW00013740"
       ]
      },
      {
       "output_type": "stream",
       "stream": "stdout",
       "text": [
        "\n",
        "           City      Station\n",
        "794  SACRAMENTO  US1CASA0036\n",
        "795  SACRAMENTO  US1CASA0018\n",
        "796  SACRAMENTO  US1CASA0012\n",
        "797  SACRAMENTO  US1CASA0002\n",
        "798  SACRAMENTO  USW00023206\n",
        "799  SACRAMENTO  USW00023208\n",
        "800  SACRAMENTO  USW00023232\n",
        "801  SACRAMENTO  USW00023271\n",
        "802  SACRAMENTO  USR0000CSAC\n",
        "803  SACRAMENTO  US1CASA0011\n",
        "804  SACRAMENTO  US1CASA0010\n",
        "805  SACRAMENTO  US1CASA0023\n",
        "806  SACRAMENTO  USW00093225\n",
        "807  SACRAMENTO  US1CASA0015"
       ]
      },
      {
       "output_type": "stream",
       "stream": "stdout",
       "text": [
        "\n",
        "Read: US1CASA0036\n",
        "Read: US1CASA0018\n",
        "Read: US1CASA0012\n",
        "Read: US1CASA0002\n",
        "Read: USW00023206\n",
        "Read: USW00023208"
       ]
      },
      {
       "output_type": "stream",
       "stream": "stdout",
       "text": [
        "\n",
        "Read: USW00023232"
       ]
      },
      {
       "output_type": "stream",
       "stream": "stdout",
       "text": [
        "\n",
        "Read: USW00023271"
       ]
      },
      {
       "output_type": "stream",
       "stream": "stdout",
       "text": [
        "\n",
        "Read: USR0000CSAC"
       ]
      },
      {
       "output_type": "stream",
       "stream": "stdout",
       "text": [
        "\n",
        "Read: US1CASA0011\n",
        "Read: US1CASA0010\n",
        "Read: US1CASA0023\n",
        "Read: USW00093225\n",
        "Read: US1CASA0015"
       ]
      },
      {
       "output_type": "stream",
       "stream": "stdout",
       "text": [
        "\n",
        "Reformatting: US1CASA0036\n",
        "Reformatting: USR0000CSAC"
       ]
      },
      {
       "output_type": "stream",
       "stream": "stdout",
       "text": [
        "\n",
        "Reformatting: USW00023232"
       ]
      },
      {
       "output_type": "stream",
       "stream": "stdout",
       "text": [
        "\n",
        "Reformatting: US1CASA0018"
       ]
      },
      {
       "output_type": "stream",
       "stream": "stdout",
       "text": [
        "\n",
        "Reformatting: USW00023271"
       ]
      },
      {
       "output_type": "stream",
       "stream": "stdout",
       "text": [
        "\n",
        "Reformatting: US1CASA0023"
       ]
      },
      {
       "output_type": "stream",
       "stream": "stdout",
       "text": [
        "\n",
        "Reformatting: USW00023208"
       ]
      },
      {
       "output_type": "stream",
       "stream": "stdout",
       "text": [
        "\n",
        "Reformatting: USW00093225"
       ]
      },
      {
       "output_type": "stream",
       "stream": "stdout",
       "text": [
        "\n",
        "Reformatting: US1CASA0011"
       ]
      },
      {
       "output_type": "stream",
       "stream": "stdout",
       "text": [
        "\n",
        "Reformatting: US1CASA0010"
       ]
      },
      {
       "output_type": "stream",
       "stream": "stdout",
       "text": [
        "\n",
        "Reformatting: US1CASA0012"
       ]
      },
      {
       "output_type": "stream",
       "stream": "stdout",
       "text": [
        "\n",
        "Reformatting: US1CASA0002"
       ]
      },
      {
       "output_type": "stream",
       "stream": "stdout",
       "text": [
        "\n",
        "Reformatting: US1CASA0015"
       ]
      },
      {
       "output_type": "stream",
       "stream": "stdout",
       "text": [
        "\n",
        "Reformatting: USW00023206"
       ]
      },
      {
       "output_type": "stream",
       "stream": "stdout",
       "text": [
        "\n",
        "           City      Station\n",
        "808  SAINT PAUL  US1MNRM0030\n",
        "809  SAINT PAUL  US1MNRM0007\n",
        "810  SAINT PAUL  US1MNRM0009\n",
        "811  SAINT PAUL  US1MNRM0022\n",
        "812  SAINT PAUL  US1MNWG0015\n",
        "813  SAINT PAUL  US1MNRM0039"
       ]
      },
      {
       "output_type": "stream",
       "stream": "stdout",
       "text": [
        "\n",
        "Read: US1MNRM0030\n",
        "Read: US1MNRM0007\n",
        "Read: US1MNRM0009\n",
        "Read: US1MNRM0022\n",
        "Read: US1MNWG0015\n",
        "Read: US1MNRM0039\n",
        "Reformatting: US1MNRM0022"
       ]
      },
      {
       "output_type": "stream",
       "stream": "stdout",
       "text": [
        "\n",
        "Reformatting: US1MNRM0009"
       ]
      },
      {
       "output_type": "stream",
       "stream": "stdout",
       "text": [
        "\n",
        "Reformatting: US1MNWG0015"
       ]
      },
      {
       "output_type": "stream",
       "stream": "stdout",
       "text": [
        "\n",
        "Reformatting: US1MNRM0039"
       ]
      },
      {
       "output_type": "stream",
       "stream": "stdout",
       "text": [
        "\n",
        "Reformatting: US1MNRM0030"
       ]
      },
      {
       "output_type": "stream",
       "stream": "stdout",
       "text": [
        "\n",
        "Reformatting: US1MNRM0007"
       ]
      },
      {
       "output_type": "stream",
       "stream": "stdout",
       "text": [
        "\n",
        "      City      Station\n",
        "814  SALEM  US1ORMN0025\n",
        "815  SALEM  USW00024232\n",
        "816  SALEM  US1ORPK0029\n",
        "817  SALEM  US1ORMN0023\n",
        "818  SALEM  US1ORPK0015\n",
        "819  SALEM  US1ORMN0019\n",
        "820  SALEM  US1ORMN0038\n",
        "821  SALEM  US1ORMN0044\n",
        "822  SALEM  US1ORMN0013\n",
        "823  SALEM  US1ORMN0012\n",
        "824  SALEM  US1ORPK0028\n",
        "825  SALEM  US1ORMN0006\n",
        "826  SALEM  US1ORMN0010\n",
        "827  SALEM  US1ORMN0009\n",
        "828  SALEM  US1ORMN0050\n",
        "829  SALEM  US1ORPK0005\n",
        "830  SALEM  US1ORPK0006\n",
        "831  SALEM  US1ORMN0014\n",
        "832  SALEM  US1ORMN0008"
       ]
      },
      {
       "output_type": "stream",
       "stream": "stdout",
       "text": [
        "\n",
        "Read: US1ORMN0025\n",
        "Read: USW00024232\n",
        "Read: US1ORPK0029"
       ]
      },
      {
       "output_type": "stream",
       "stream": "stdout",
       "text": [
        "\n",
        "Read: US1ORMN0023\n",
        "Read: US1ORPK0015\n",
        "Read: US1ORMN0019\n",
        "Read: US1ORMN0038\n",
        "Read: US1ORMN0044\n",
        "Read: US1ORMN0013"
       ]
      },
      {
       "output_type": "stream",
       "stream": "stdout",
       "text": [
        "\n",
        "Read: US1ORMN0012\n",
        "Read: US1ORPK0028\n",
        "Read: US1ORMN0006\n",
        "Read: US1ORMN0010\n",
        "Read: US1ORMN0009\n",
        "Read: US1ORMN0050\n",
        "Read: US1ORPK0005"
       ]
      },
      {
       "output_type": "stream",
       "stream": "stdout",
       "text": [
        "\n",
        "Read: US1ORPK0006\n",
        "Read: US1ORMN0014\n",
        "Read: US1ORMN0008\n",
        "Reformatting: US1ORMN0038\n",
        "Reformatting: US1ORMN0050"
       ]
      },
      {
       "output_type": "stream",
       "stream": "stdout",
       "text": [
        "\n",
        "Reformatting: US1ORMN0008"
       ]
      },
      {
       "output_type": "stream",
       "stream": "stdout",
       "text": [
        "\n",
        "Reformatting: US1ORPK0005"
       ]
      },
      {
       "output_type": "stream",
       "stream": "stdout",
       "text": [
        "\n",
        "Reformatting: US1ORMN0025"
       ]
      },
      {
       "output_type": "stream",
       "stream": "stdout",
       "text": [
        "\n",
        "Reformatting: US1ORMN0023"
       ]
      },
      {
       "output_type": "stream",
       "stream": "stdout",
       "text": [
        "\n",
        "Reformatting: US1ORPK0028"
       ]
      },
      {
       "output_type": "stream",
       "stream": "stdout",
       "text": [
        "\n",
        "Reformatting: US1ORPK0029"
       ]
      },
      {
       "output_type": "stream",
       "stream": "stdout",
       "text": [
        "\n",
        "Reformatting: US1ORMN0006"
       ]
      },
      {
       "output_type": "stream",
       "stream": "stdout",
       "text": [
        "\n",
        "Reformatting: US1ORMN0014"
       ]
      },
      {
       "output_type": "stream",
       "stream": "stdout",
       "text": [
        "\n",
        "Reformatting: US1ORMN0013"
       ]
      },
      {
       "output_type": "stream",
       "stream": "stdout",
       "text": [
        "\n",
        "Reformatting: US1ORMN0012"
       ]
      },
      {
       "output_type": "stream",
       "stream": "stdout",
       "text": [
        "\n",
        "Reformatting: US1ORMN0010"
       ]
      },
      {
       "output_type": "stream",
       "stream": "stdout",
       "text": [
        "\n",
        "Reformatting: US1ORPK0015"
       ]
      },
      {
       "output_type": "stream",
       "stream": "stdout",
       "text": [
        "\n",
        "Reformatting: US1ORPK0006"
       ]
      },
      {
       "output_type": "stream",
       "stream": "stdout",
       "text": [
        "\n",
        "Reformatting: USW00024232"
       ]
      },
      {
       "output_type": "stream",
       "stream": "stdout",
       "text": [
        "\n",
        "Reformatting: US1ORMN0044"
       ]
      },
      {
       "output_type": "stream",
       "stream": "stdout",
       "text": [
        "\n",
        "Reformatting: US1ORMN0009"
       ]
      },
      {
       "output_type": "stream",
       "stream": "stdout",
       "text": [
        "\n",
        "Reformatting: US1ORMN0019"
       ]
      },
      {
       "output_type": "stream",
       "stream": "stdout",
       "text": [
        "\n",
        "               City      Station\n",
        "833  SALT LAKE CITY  US1UTSL0047\n",
        "834  SALT LAKE CITY  US1UTSL0041\n",
        "835  SALT LAKE CITY  USW00024127\n",
        "836  SALT LAKE CITY  US1UTSL0093\n",
        "837  SALT LAKE CITY  USW00024175\n",
        "838  SALT LAKE CITY  USC00427608\n",
        "839  SALT LAKE CITY  USC00427655\n",
        "840  SALT LAKE CITY  US1UTSL0092\n",
        "841  SALT LAKE CITY  US1UTSL0055\n",
        "842  SALT LAKE CITY  US1UTSL0085\n",
        "843  SALT LAKE CITY  US1UTSL0029\n",
        "844  SALT LAKE CITY  US1UTSL0079\n",
        "845  SALT LAKE CITY  US1UTSL0078\n",
        "846  SALT LAKE CITY  US1UTSL0074"
       ]
      },
      {
       "output_type": "stream",
       "stream": "stdout",
       "text": [
        "\n",
        "Read: US1UTSL0047\n",
        "Read: US1UTSL0041\n",
        "Read: USW00024127\n",
        "Read: US1UTSL0093"
       ]
      },
      {
       "output_type": "stream",
       "stream": "stdout",
       "text": [
        "\n",
        "Read: USW00024175\n",
        "Read: USC00427608"
       ]
      },
      {
       "output_type": "stream",
       "stream": "stdout",
       "text": [
        "\n",
        "Read: USC00427655\n",
        "Read: US1UTSL0092"
       ]
      },
      {
       "output_type": "stream",
       "stream": "stdout",
       "text": [
        "\n",
        "Read: US1UTSL0055\n",
        "Read: US1UTSL0085\n",
        "Read: US1UTSL0029\n",
        "Read: US1UTSL0079\n",
        "Read: US1UTSL0078\n",
        "Read: US1UTSL0074\n",
        "Reformatting: USC00427608"
       ]
      },
      {
       "output_type": "stream",
       "stream": "stdout",
       "text": [
        "\n",
        "Reformatting: US1UTSL0029"
       ]
      },
      {
       "output_type": "stream",
       "stream": "stdout",
       "text": [
        "\n",
        "Reformatting: US1UTSL0074"
       ]
      },
      {
       "output_type": "stream",
       "stream": "stdout",
       "text": [
        "\n",
        "Reformatting: US1UTSL0093"
       ]
      },
      {
       "output_type": "stream",
       "stream": "stdout",
       "text": [
        "\n",
        "Reformatting: US1UTSL0092"
       ]
      },
      {
       "output_type": "stream",
       "stream": "stdout",
       "text": [
        "\n",
        "Reformatting: US1UTSL0055"
       ]
      },
      {
       "output_type": "stream",
       "stream": "stdout",
       "text": [
        "\n",
        "Reformatting: US1UTSL0047"
       ]
      },
      {
       "output_type": "stream",
       "stream": "stdout",
       "text": [
        "\n",
        "Reformatting: US1UTSL0041"
       ]
      },
      {
       "output_type": "stream",
       "stream": "stdout",
       "text": [
        "\n",
        "Reformatting: US1UTSL0085"
       ]
      },
      {
       "output_type": "stream",
       "stream": "stdout",
       "text": [
        "\n",
        "Reformatting: US1UTSL0079"
       ]
      },
      {
       "output_type": "stream",
       "stream": "stdout",
       "text": [
        "\n",
        "Reformatting: USW00024127"
       ]
      },
      {
       "output_type": "stream",
       "stream": "stdout",
       "text": [
        "\n",
        "Reformatting: USC00427655"
       ]
      },
      {
       "output_type": "stream",
       "stream": "stdout",
       "text": [
        "\n",
        "Reformatting: US1UTSL0078"
       ]
      },
      {
       "output_type": "stream",
       "stream": "stdout",
       "text": [
        "\n",
        "Reformatting: USW00024175"
       ]
      },
      {
       "output_type": "stream",
       "stream": "stdout",
       "text": [
        "\n",
        "         City      Station\n",
        "847  SANTA FE  US1NMSF0030\n",
        "848  SANTA FE  US1NMSF0037\n",
        "849  SANTA FE  US1NMSF0039\n",
        "850  SANTA FE  US1NMSF0033\n",
        "851  SANTA FE  USS0005P09S\n",
        "852  SANTA FE  US1NMSF0032\n",
        "853  SANTA FE  USW00003087\n",
        "854  SANTA FE  US1NMSF0031\n",
        "855  SANTA FE  US1NMSF0025\n",
        "856  SANTA FE  US1NMSF0022\n",
        "857  SANTA FE  USC00298092\n",
        "858  SANTA FE  USC00298090\n",
        "859  SANTA FE  USC00298088\n",
        "860  SANTA FE  USC00298087\n",
        "861  SANTA FE  US1NMSF0021\n",
        "862  SANTA FE  US1NMSF0020\n",
        "863  SANTA FE  USC00298086\n",
        "864  SANTA FE  USC00298085\n",
        "865  SANTA FE  USC00298084\n",
        "866  SANTA FE  USC00298072\n",
        "867  SANTA FE  US1NMSF0064\n",
        "868  SANTA FE  US1NMSF0062\n",
        "869  SANTA FE  USW00023049\n",
        "870  SANTA FE  US1NMSF0059\n",
        "871  SANTA FE  US1NMSF0058\n",
        "872  SANTA FE  US1NMSF0057\n",
        "873  SANTA FE  US1NMSF0053\n",
        "874  SANTA FE  US1NMSF0049\n",
        "875  SANTA FE  US1NMSF0001\n",
        "876  SANTA FE  US1NMSF0002\n",
        "877  SANTA FE  US1NMSF0046\n",
        "878  SANTA FE  US1NMSF0006\n",
        "879  SANTA FE  US1NMSF0008\n",
        "880  SANTA FE  US1NMSF0009\n",
        "881  SANTA FE  US1NMSF0011\n",
        "882  SANTA FE  US1NMSF0013\n",
        "883  SANTA FE  US1NMSF0014\n",
        "884  SANTA FE  US1NMSF0042\n",
        "885  SANTA FE  US1NMSF0035"
       ]
      },
      {
       "output_type": "stream",
       "stream": "stdout",
       "text": [
        "\n",
        "Read: US1NMSF0030\n",
        "Read: US1NMSF0037\n",
        "Read: US1NMSF0039\n",
        "Read: US1NMSF0033\n",
        "Read: USS0005P09S\n",
        "Read: US1NMSF0032"
       ]
      },
      {
       "output_type": "stream",
       "stream": "stdout",
       "text": [
        "\n",
        "Read: USW00003087\n",
        "Read: US1NMSF0031\n",
        "Read: US1NMSF0025\n",
        "Read: US1NMSF0022\n",
        "Read: USC00298092\n",
        "Read: USC00298090"
       ]
      },
      {
       "output_type": "stream",
       "stream": "stdout",
       "text": [
        "\n",
        "Read: USC00298088\n",
        "Read: USC00298087"
       ]
      },
      {
       "output_type": "stream",
       "stream": "stdout",
       "text": [
        "\n",
        "Read: US1NMSF0021\n",
        "Read: US1NMSF0020\n",
        "Read: USC00298086"
       ]
      },
      {
       "output_type": "stream",
       "stream": "stdout",
       "text": [
        "\n",
        "Read: USC00298085"
       ]
      },
      {
       "output_type": "stream",
       "stream": "stdout",
       "text": [
        "\n",
        "Read: USC00298084"
       ]
      },
      {
       "output_type": "stream",
       "stream": "stdout",
       "text": [
        "\n",
        "Read: USC00298072\n",
        "Read: US1NMSF0064"
       ]
      },
      {
       "output_type": "stream",
       "stream": "stdout",
       "text": [
        "\n",
        "Read: US1NMSF0062\n",
        "Read: USW00023049\n",
        "Read: US1NMSF0059"
       ]
      },
      {
       "output_type": "stream",
       "stream": "stdout",
       "text": [
        "\n",
        "Read: US1NMSF0058\n",
        "Read: US1NMSF0057\n",
        "Read: US1NMSF0053\n",
        "Read: US1NMSF0049\n",
        "Read: US1NMSF0001\n",
        "Read: US1NMSF0002\n",
        "Read: US1NMSF0046\n",
        "Read: US1NMSF0006\n",
        "Read: US1NMSF0008"
       ]
      },
      {
       "output_type": "stream",
       "stream": "stdout",
       "text": [
        "\n",
        "Read: US1NMSF0009\n",
        "Read: US1NMSF0011\n",
        "Read: US1NMSF0013\n",
        "Read: US1NMSF0014\n",
        "Read: US1NMSF0042\n",
        "Read: US1NMSF0035"
       ]
      },
      {
       "output_type": "stream",
       "stream": "stdout",
       "text": [
        "\n",
        "Reformatting: US1NMSF0046\n",
        "Reformatting: USC00298072"
       ]
      },
      {
       "output_type": "stream",
       "stream": "stdout",
       "text": [
        "\n",
        "Reformatting: USW00023049"
       ]
      },
      {
       "output_type": "stream",
       "stream": "stdout",
       "text": [
        "\n",
        "Reformatting: US1NMSF0011"
       ]
      },
      {
       "output_type": "stream",
       "stream": "stdout",
       "text": [
        "\n",
        "Reformatting: US1NMSF0013"
       ]
      },
      {
       "output_type": "stream",
       "stream": "stdout",
       "text": [
        "\n",
        "Reformatting: US1NMSF0014"
       ]
      },
      {
       "output_type": "stream",
       "stream": "stdout",
       "text": [
        "\n",
        "Reformatting: US1NMSF0039"
       ]
      },
      {
       "output_type": "stream",
       "stream": "stdout",
       "text": [
        "\n",
        "Reformatting: US1NMSF0037"
       ]
      },
      {
       "output_type": "stream",
       "stream": "stdout",
       "text": [
        "\n",
        "Reformatting: US1NMSF0008"
       ]
      },
      {
       "output_type": "stream",
       "stream": "stdout",
       "text": [
        "\n",
        "Reformatting: US1NMSF0035"
       ]
      },
      {
       "output_type": "stream",
       "stream": "stdout",
       "text": [
        "\n",
        "Reformatting: US1NMSF0033"
       ]
      },
      {
       "output_type": "stream",
       "stream": "stdout",
       "text": [
        "\n",
        "Reformatting: US1NMSF0032"
       ]
      },
      {
       "output_type": "stream",
       "stream": "stdout",
       "text": [
        "\n",
        "Reformatting: US1NMSF0031"
       ]
      },
      {
       "output_type": "stream",
       "stream": "stdout",
       "text": [
        "\n",
        "Reformatting: US1NMSF0030"
       ]
      },
      {
       "output_type": "stream",
       "stream": "stdout",
       "text": [
        "\n",
        "Reformatting: US1NMSF0057"
       ]
      },
      {
       "output_type": "stream",
       "stream": "stdout",
       "text": [
        "\n",
        "Reformatting: US1NMSF0053"
       ]
      },
      {
       "output_type": "stream",
       "stream": "stdout",
       "text": [
        "\n",
        "Reformatting: USC00298088"
       ]
      },
      {
       "output_type": "stream",
       "stream": "stdout",
       "text": [
        "\n",
        "Reformatting: USC00298087"
       ]
      },
      {
       "output_type": "stream",
       "stream": "stdout",
       "text": [
        "\n",
        "Reformatting: USC00298086"
       ]
      },
      {
       "output_type": "stream",
       "stream": "stdout",
       "text": [
        "\n",
        "Reformatting: USC00298085"
       ]
      },
      {
       "output_type": "stream",
       "stream": "stdout",
       "text": [
        "\n",
        "Reformatting: USC00298084"
       ]
      },
      {
       "output_type": "stream",
       "stream": "stdout",
       "text": [
        "\n",
        "Reformatting: US1NMSF0059"
       ]
      },
      {
       "output_type": "stream",
       "stream": "stdout",
       "text": [
        "\n",
        "Reformatting: US1NMSF0058"
       ]
      },
      {
       "output_type": "stream",
       "stream": "stdout",
       "text": [
        "\n",
        "Reformatting: USS0005P09S"
       ]
      },
      {
       "output_type": "stream",
       "stream": "stdout",
       "text": [
        "\n",
        "Reformatting: US1NMSF0006"
       ]
      },
      {
       "output_type": "stream",
       "stream": "stdout",
       "text": [
        "\n",
        "Reformatting: US1NMSF0049"
       ]
      },
      {
       "output_type": "stream",
       "stream": "stdout",
       "text": [
        "\n",
        "Reformatting: US1NMSF0002"
       ]
      },
      {
       "output_type": "stream",
       "stream": "stdout",
       "text": [
        "\n",
        "Reformatting: US1NMSF0001"
       ]
      },
      {
       "output_type": "stream",
       "stream": "stdout",
       "text": [
        "\n",
        "Reformatting: US1NMSF0042"
       ]
      },
      {
       "output_type": "stream",
       "stream": "stdout",
       "text": [
        "\n",
        "Reformatting: US1NMSF0025"
       ]
      },
      {
       "output_type": "stream",
       "stream": "stdout",
       "text": [
        "\n",
        "Reformatting: US1NMSF0020"
       ]
      },
      {
       "output_type": "stream",
       "stream": "stdout",
       "text": [
        "\n",
        "Reformatting: US1NMSF0021"
       ]
      },
      {
       "output_type": "stream",
       "stream": "stdout",
       "text": [
        "\n",
        "Reformatting: US1NMSF0022"
       ]
      },
      {
       "output_type": "stream",
       "stream": "stdout",
       "text": [
        "\n",
        "Reformatting: US1NMSF0009"
       ]
      },
      {
       "output_type": "stream",
       "stream": "stdout",
       "text": [
        "\n",
        "Reformatting: US1NMSF0062"
       ]
      },
      {
       "output_type": "stream",
       "stream": "stdout",
       "text": [
        "\n",
        "Reformatting: US1NMSF0064"
       ]
      },
      {
       "output_type": "stream",
       "stream": "stdout",
       "text": [
        "\n",
        "Reformatting: USW00003087"
       ]
      },
      {
       "output_type": "stream",
       "stream": "stdout",
       "text": [
        "\n",
        "Reformatting: USC00298090"
       ]
      },
      {
       "output_type": "stream",
       "stream": "stdout",
       "text": [
        "\n",
        "Reformatting: USC00298092"
       ]
      },
      {
       "output_type": "stream",
       "stream": "stdout",
       "text": [
        "\n",
        "            City      Station\n",
        "886  SPRINGFIELD  USC00118186\n",
        "887  SPRINGFIELD  USC00118189\n",
        "888  SPRINGFIELD  US1ILSG0017\n",
        "889  SPRINGFIELD  US1ILSG0021\n",
        "890  SPRINGFIELD  US1ILSG0042\n",
        "891  SPRINGFIELD  US1ILSG0036\n",
        "892  SPRINGFIELD  US1ILSG0034\n",
        "893  SPRINGFIELD  US1ILSG0032\n",
        "894  SPRINGFIELD  US1ILSG0028\n",
        "895  SPRINGFIELD  USC00118184\n",
        "896  SPRINGFIELD  USW00093822"
       ]
      },
      {
       "output_type": "stream",
       "stream": "stdout",
       "text": [
        "\n",
        "Read: USC00118186\n",
        "Read: USC00118189"
       ]
      },
      {
       "output_type": "stream",
       "stream": "stdout",
       "text": [
        "\n",
        "Read: US1ILSG0017\n",
        "Read: US1ILSG0021"
       ]
      },
      {
       "output_type": "stream",
       "stream": "stdout",
       "text": [
        "\n",
        "Read: US1ILSG0042\n",
        "Read: US1ILSG0036\n",
        "Read: US1ILSG0034\n",
        "Read: US1ILSG0032\n",
        "Read: US1ILSG0028"
       ]
      },
      {
       "output_type": "stream",
       "stream": "stdout",
       "text": [
        "\n",
        "Read: USC00118184\n",
        "Read: USW00093822\n",
        "Reformatting: USC00118186"
       ]
      },
      {
       "output_type": "stream",
       "stream": "stdout",
       "text": [
        "\n",
        "Reformatting: US1ILSG0017"
       ]
      },
      {
       "output_type": "stream",
       "stream": "stdout",
       "text": [
        "\n",
        "Reformatting: US1ILSG0028"
       ]
      },
      {
       "output_type": "stream",
       "stream": "stdout",
       "text": [
        "\n",
        "Reformatting: US1ILSG0042"
       ]
      },
      {
       "output_type": "stream",
       "stream": "stdout",
       "text": [
        "\n",
        "Reformatting: USC00118189"
       ]
      },
      {
       "output_type": "stream",
       "stream": "stdout",
       "text": [
        "\n",
        "Reformatting: US1ILSG0036"
       ]
      },
      {
       "output_type": "stream",
       "stream": "stdout",
       "text": [
        "\n",
        "Reformatting: USC00118184"
       ]
      },
      {
       "output_type": "stream",
       "stream": "stdout",
       "text": [
        "\n",
        "Reformatting: USW00093822"
       ]
      },
      {
       "output_type": "stream",
       "stream": "stdout",
       "text": [
        "\n",
        "Reformatting: US1ILSG0021"
       ]
      },
      {
       "output_type": "stream",
       "stream": "stdout",
       "text": [
        "\n",
        "Reformatting: US1ILSG0034"
       ]
      },
      {
       "output_type": "stream",
       "stream": "stdout",
       "text": [
        "\n",
        "Reformatting: US1ILSG0032"
       ]
      },
      {
       "output_type": "stream",
       "stream": "stdout",
       "text": [
        "\n",
        "            City      Station\n",
        "897  TALLAHASSEE  US1FLLN0012\n",
        "898  TALLAHASSEE  US1FLLN0010\n",
        "899  TALLAHASSEE  US1FLLN0035\n",
        "900  TALLAHASSEE  US1FLLN0009\n",
        "901  TALLAHASSEE  US1FLLN0008\n",
        "902  TALLAHASSEE  US1FLLN0005\n",
        "903  TALLAHASSEE  USW00093805\n",
        "904  TALLAHASSEE  US1FLLN0004\n",
        "905  TALLAHASSEE  US1FLLN0003\n",
        "906  TALLAHASSEE  US1FLLN0002\n",
        "907  TALLAHASSEE  US1FLLN0001\n",
        "908  TALLAHASSEE  US1FLLN0049\n",
        "909  TALLAHASSEE  US1FLLN0017\n",
        "910  TALLAHASSEE  US1FLLN0020\n",
        "911  TALLAHASSEE  US1FLLN0022\n",
        "912  TALLAHASSEE  USC00088754\n",
        "913  TALLAHASSEE  USC00088756\n",
        "914  TALLAHASSEE  US1FLLN0047\n",
        "915  TALLAHASSEE  US1FLLN0051\n",
        "916  TALLAHASSEE  US1FLLN0023\n",
        "917  TALLAHASSEE  US1FLLN0025\n",
        "918  TALLAHASSEE  US1FLLN0026\n",
        "919  TALLAHASSEE  US1FLLN0027\n",
        "920  TALLAHASSEE  US1FLLN0028\n",
        "921  TALLAHASSEE  US1FLLN0029\n",
        "922  TALLAHASSEE  US1FLLN0045\n",
        "923  TALLAHASSEE  US1FLLN0043\n",
        "924  TALLAHASSEE  US1FLLN0041\n",
        "925  TALLAHASSEE  US1FLLN0031\n",
        "926  TALLAHASSEE  US1FLLN0033\n",
        "927  TALLAHASSEE  US1FLLN0034\n",
        "928  TALLAHASSEE  US1FLLN0039\n",
        "929  TALLAHASSEE  US1FLLN0037\n",
        "930  TALLAHASSEE  US1FLLN0015"
       ]
      },
      {
       "output_type": "stream",
       "stream": "stdout",
       "text": [
        "\n",
        "Read: US1FLLN0012\n",
        "Read: US1FLLN0010\n",
        "Read: US1FLLN0035\n",
        "Read: US1FLLN0009\n",
        "Read: US1FLLN0008\n",
        "Read: US1FLLN0005\n",
        "Read: USW00093805\n",
        "Read: US1FLLN0004"
       ]
      },
      {
       "output_type": "stream",
       "stream": "stdout",
       "text": [
        "\n",
        "Read: US1FLLN0003\n",
        "Read: US1FLLN0002\n",
        "Read: US1FLLN0001\n",
        "Read: US1FLLN0049\n",
        "Read: US1FLLN0017\n",
        "Read: US1FLLN0020\n",
        "Read: US1FLLN0022\n",
        "Read: USC00088754"
       ]
      },
      {
       "output_type": "stream",
       "stream": "stdout",
       "text": [
        "\n",
        "Read: USC00088756"
       ]
      },
      {
       "output_type": "stream",
       "stream": "stdout",
       "text": [
        "\n",
        "Read: US1FLLN0047\n",
        "Read: US1FLLN0051"
       ]
      },
      {
       "output_type": "stream",
       "stream": "stdout",
       "text": [
        "\n",
        "Read: US1FLLN0023\n",
        "Read: US1FLLN0025\n",
        "Read: US1FLLN0026\n",
        "Read: US1FLLN0027\n",
        "Read: US1FLLN0028\n",
        "Read: US1FLLN0029\n",
        "Read: US1FLLN0045"
       ]
      },
      {
       "output_type": "stream",
       "stream": "stdout",
       "text": [
        "\n",
        "Read: US1FLLN0043\n",
        "Read: US1FLLN0041\n",
        "Read: US1FLLN0031\n",
        "Read: US1FLLN0033\n",
        "Read: US1FLLN0034\n",
        "Read: US1FLLN0039"
       ]
      },
      {
       "output_type": "stream",
       "stream": "stdout",
       "text": [
        "\n",
        "Read: US1FLLN0037\n",
        "Read: US1FLLN0015\n",
        "Reformatting: US1FLLN0037\n",
        "Reformatting: US1FLLN0035"
       ]
      },
      {
       "output_type": "stream",
       "stream": "stdout",
       "text": [
        "\n",
        "Reformatting: US1FLLN0034"
       ]
      },
      {
       "output_type": "stream",
       "stream": "stdout",
       "text": [
        "\n",
        "Reformatting: US1FLLN0033"
       ]
      },
      {
       "output_type": "stream",
       "stream": "stdout",
       "text": [
        "\n",
        "Reformatting: US1FLLN0031"
       ]
      },
      {
       "output_type": "stream",
       "stream": "stdout",
       "text": [
        "\n",
        "Reformatting: US1FLLN0043"
       ]
      },
      {
       "output_type": "stream",
       "stream": "stdout",
       "text": [
        "\n",
        "Reformatting: US1FLLN0051"
       ]
      },
      {
       "output_type": "stream",
       "stream": "stdout",
       "text": [
        "\n",
        "Reformatting: US1FLLN0039"
       ]
      },
      {
       "output_type": "stream",
       "stream": "stdout",
       "text": [
        "\n",
        "Reformatting: US1FLLN0041"
       ]
      },
      {
       "output_type": "stream",
       "stream": "stdout",
       "text": [
        "\n",
        "Reformatting: USC00088754"
       ]
      },
      {
       "output_type": "stream",
       "stream": "stdout",
       "text": [
        "\n",
        "Reformatting: USC00088756"
       ]
      },
      {
       "output_type": "stream",
       "stream": "stdout",
       "text": [
        "\n",
        "Reformatting: US1FLLN0045"
       ]
      },
      {
       "output_type": "stream",
       "stream": "stdout",
       "text": [
        "\n",
        "Reformatting: US1FLLN0008"
       ]
      },
      {
       "output_type": "stream",
       "stream": "stdout",
       "text": [
        "\n",
        "Reformatting: US1FLLN0009"
       ]
      },
      {
       "output_type": "stream",
       "stream": "stdout",
       "text": [
        "\n",
        "Reformatting: US1FLLN0004"
       ]
      },
      {
       "output_type": "stream",
       "stream": "stdout",
       "text": [
        "\n",
        "Reformatting: US1FLLN0005"
       ]
      },
      {
       "output_type": "stream",
       "stream": "stdout",
       "text": [
        "\n",
        "Reformatting: US1FLLN0002"
       ]
      },
      {
       "output_type": "stream",
       "stream": "stdout",
       "text": [
        "\n",
        "Reformatting: US1FLLN0003"
       ]
      },
      {
       "output_type": "stream",
       "stream": "stdout",
       "text": [
        "\n",
        "Reformatting: US1FLLN0001"
       ]
      },
      {
       "output_type": "stream",
       "stream": "stdout",
       "text": [
        "\n",
        "Reformatting: US1FLLN0025"
       ]
      },
      {
       "output_type": "stream",
       "stream": "stdout",
       "text": [
        "\n",
        "Reformatting: US1FLLN0026"
       ]
      },
      {
       "output_type": "stream",
       "stream": "stdout",
       "text": [
        "\n",
        "Reformatting: US1FLLN0027"
       ]
      },
      {
       "output_type": "stream",
       "stream": "stdout",
       "text": [
        "\n",
        "Reformatting: US1FLLN0020"
       ]
      },
      {
       "output_type": "stream",
       "stream": "stdout",
       "text": [
        "\n",
        "Reformatting: US1FLLN0047"
       ]
      },
      {
       "output_type": "stream",
       "stream": "stdout",
       "text": [
        "\n",
        "Reformatting: US1FLLN0022"
       ]
      },
      {
       "output_type": "stream",
       "stream": "stdout",
       "text": [
        "\n",
        "Reformatting: US1FLLN0023"
       ]
      },
      {
       "output_type": "stream",
       "stream": "stdout",
       "text": [
        "\n",
        "Reformatting: US1FLLN0049"
       ]
      },
      {
       "output_type": "stream",
       "stream": "stdout",
       "text": [
        "\n",
        "Reformatting: US1FLLN0028"
       ]
      },
      {
       "output_type": "stream",
       "stream": "stdout",
       "text": [
        "\n",
        "Reformatting: US1FLLN0029"
       ]
      },
      {
       "output_type": "stream",
       "stream": "stdout",
       "text": [
        "\n",
        "Reformatting: US1FLLN0010"
       ]
      },
      {
       "output_type": "stream",
       "stream": "stdout",
       "text": [
        "\n",
        "Reformatting: USW00093805"
       ]
      },
      {
       "output_type": "stream",
       "stream": "stdout",
       "text": [
        "\n",
        "Reformatting: US1FLLN0012"
       ]
      },
      {
       "output_type": "stream",
       "stream": "stdout",
       "text": [
        "\n",
        "Reformatting: US1FLLN0015"
       ]
      },
      {
       "output_type": "stream",
       "stream": "stdout",
       "text": [
        "\n",
        "Reformatting: US1FLLN0017"
       ]
      },
      {
       "output_type": "stream",
       "stream": "stdout",
       "text": [
        "\n",
        "       City      Station\n",
        "931  TOPEKA  US1KSSN0020\n",
        "932  TOPEKA  USW00013996\n",
        "933  TOPEKA  USC00148172\n",
        "934  TOPEKA  US1KSSN0019\n",
        "935  TOPEKA  US1KSSN0016\n",
        "936  TOPEKA  US1KSSN0014\n",
        "937  TOPEKA  USC00148171\n",
        "938  TOPEKA  USC00148168\n",
        "939  TOPEKA  US1KSSN0012\n",
        "940  TOPEKA  US1KSSN0009\n",
        "941  TOPEKA  US1KSSN0007\n",
        "942  TOPEKA  US1KSSN0006\n",
        "943  TOPEKA  US1KSSN0005\n",
        "944  TOPEKA  USC00148170\n",
        "945  TOPEKA  USC00148163\n",
        "946  TOPEKA  USW00013920\n",
        "947  TOPEKA  US1KSSN0013"
       ]
      },
      {
       "output_type": "stream",
       "stream": "stdout",
       "text": [
        "\n",
        "Read: US1KSSN0020\n",
        "Read: USW00013996\n",
        "Read: USC00148172"
       ]
      },
      {
       "output_type": "stream",
       "stream": "stdout",
       "text": [
        "\n",
        "Read: US1KSSN0019\n",
        "Read: US1KSSN0016\n",
        "Read: US1KSSN0014\n",
        "Read: USC00148171\n",
        "Read: USC00148168"
       ]
      },
      {
       "output_type": "stream",
       "stream": "stdout",
       "text": [
        "\n",
        "Read: US1KSSN0012\n",
        "Read: US1KSSN0009\n",
        "Read: US1KSSN0007\n",
        "Read: US1KSSN0006"
       ]
      },
      {
       "output_type": "stream",
       "stream": "stdout",
       "text": [
        "\n",
        "Read: US1KSSN0005\n",
        "Read: USC00148170\n",
        "Read: USC00148163\n",
        "Read: USW00013920"
       ]
      },
      {
       "output_type": "stream",
       "stream": "stdout",
       "text": [
        "\n",
        "Read: US1KSSN0013"
       ]
      },
      {
       "output_type": "stream",
       "stream": "stdout",
       "text": [
        "\n",
        "Reformatting: US1KSSN0007\n",
        "Reformatting: USW00013920"
       ]
      },
      {
       "output_type": "stream",
       "stream": "stdout",
       "text": [
        "\n",
        "Reformatting: US1KSSN0012"
       ]
      },
      {
       "output_type": "stream",
       "stream": "stdout",
       "text": [
        "\n",
        "Reformatting: US1KSSN0013"
       ]
      },
      {
       "output_type": "stream",
       "stream": "stdout",
       "text": [
        "\n",
        "Reformatting: US1KSSN0020"
       ]
      },
      {
       "output_type": "stream",
       "stream": "stdout",
       "text": [
        "\n",
        "Reformatting: US1KSSN0005"
       ]
      },
      {
       "output_type": "stream",
       "stream": "stdout",
       "text": [
        "\n",
        "Reformatting: USC00148168"
       ]
      },
      {
       "output_type": "stream",
       "stream": "stdout",
       "text": [
        "\n",
        "Reformatting: US1KSSN0019"
       ]
      },
      {
       "output_type": "stream",
       "stream": "stdout",
       "text": [
        "\n",
        "Reformatting: US1KSSN0009"
       ]
      },
      {
       "output_type": "stream",
       "stream": "stdout",
       "text": [
        "\n",
        "Reformatting: US1KSSN0014"
       ]
      },
      {
       "output_type": "stream",
       "stream": "stdout",
       "text": [
        "\n",
        "Reformatting: US1KSSN0006"
       ]
      },
      {
       "output_type": "stream",
       "stream": "stdout",
       "text": [
        "\n",
        "Reformatting: US1KSSN0016"
       ]
      },
      {
       "output_type": "stream",
       "stream": "stdout",
       "text": [
        "\n",
        "Reformatting: USC00148163"
       ]
      },
      {
       "output_type": "stream",
       "stream": "stdout",
       "text": [
        "\n",
        "Reformatting: USW00013996"
       ]
      },
      {
       "output_type": "stream",
       "stream": "stdout",
       "text": [
        "\n",
        "Reformatting: USC00148172"
       ]
      },
      {
       "output_type": "stream",
       "stream": "stdout",
       "text": [
        "\n",
        "Reformatting: USC00148171"
       ]
      },
      {
       "output_type": "stream",
       "stream": "stdout",
       "text": [
        "\n",
        "Reformatting: USC00148170"
       ]
      },
      {
       "output_type": "stream",
       "stream": "stdout",
       "text": [
        "\n",
        "        City      Station\n",
        "948  TRENTON  USC00288878\n",
        "949  TRENTON  USW00014773\n",
        "950  TRENTON  USW00014792"
       ]
      },
      {
       "output_type": "stream",
       "stream": "stdout",
       "text": [
        "\n",
        "Read: USC00288878\n",
        "Read: USW00014773"
       ]
      },
      {
       "output_type": "stream",
       "stream": "stdout",
       "text": [
        "\n",
        "Read: USW00014792"
       ]
      },
      {
       "output_type": "stream",
       "stream": "stdout",
       "text": [
        "\n",
        "Reformatting: USC00288878"
       ]
      },
      {
       "output_type": "stream",
       "stream": "stdout",
       "text": [
        "\n",
        "Reformatting: USW00014773"
       ]
      },
      {
       "output_type": "stream",
       "stream": "stdout",
       "text": [
        "\n",
        "Reformatting: USW00014792"
       ]
      },
      {
       "output_type": "stream",
       "stream": "stdout",
       "text": [
        "\n"
       ]
      },
      {
       "output_type": "stream",
       "stream": "stderr",
       "text": [
        "B:\\canopy\\User\\lib\\site-packages\\pandas\\io\\excel.py:626: UserWarning: Installed openpyxl is not supported at this time. Use >=1.6.1 and <2.0.0.\n",
        "  .format(openpyxl_compat.start_ver, openpyxl_compat.stop_ver))\n"
       ]
      }
     ],
     "prompt_number": 2
    },
    {
     "cell_type": "code",
     "collapsed": false,
     "input": [],
     "language": "python",
     "metadata": {},
     "outputs": [],
     "prompt_number": 2
    }
   ],
   "metadata": {}
  }
 ]
}