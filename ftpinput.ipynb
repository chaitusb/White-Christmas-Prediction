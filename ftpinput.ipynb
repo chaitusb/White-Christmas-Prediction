{
 "metadata": {
  "name": "ftpinput.ipynb"
 },
 "nbformat": 3,
 "nbformat_minor": 0,
 "worksheets": [
  {
   "cells": [
    {
     "cell_type": "heading",
     "level": 1,
     "metadata": {},
     "source": [
      "Writing file to pass to ftp, also takes out leading/trailing whitespace"
     ]
    },
    {
     "cell_type": "code",
     "collapsed": false,
     "input": [
      "cd B:\\jieminsdata"
     ],
     "language": "python",
     "metadata": {},
     "outputs": [
      {
       "output_type": "stream",
       "stream": "stdout",
       "text": [
        "B:\\jieminsdata\n"
       ]
      }
     ],
     "prompt_number": 26
    },
    {
     "cell_type": "code",
     "collapsed": false,
     "input": [
      "import pandas as pd\n",
      "import csv\n",
      "\n",
      "\n",
      "f = open('capital-stations.csv', 'r')\n",
      "allStations = csv.reader(f, delimiter=',', skipinitialspace=True)\n",
      "fr = open('capitaldata.csv', 'w')\n",
      "writer = csv.writer(fr, delimiter=',', lineterminator='\\n')\n",
      "for row in allStations:\n",
      "    writer.writerow([s.strip() for s in row])\n",
      "f.close()\n",
      "fr.close()\n",
      "\n",
      "allStations = pd.read_csv('capitaldata.csv')#,usecols=['Station'])\n",
      "allStations = allStations['Station'].values\n",
      "f = open('getStations.txt','w')\n",
      "f.write('anonymous\\n')\n",
      "f.write('jieminzeng@gmail.com\\n')\n",
      "for station in allStations:\n",
      "    f.write('get pub/data/ghcn/daily/all/'+station+'.dly B:\\\\jieminsdata\\\\'+station+'.dly\\n')\n",
      "f.write('bye')\n",
      "f.close()"
     ],
     "language": "python",
     "metadata": {},
     "outputs": [],
     "prompt_number": 34
    }
   ],
   "metadata": {}
  }
 ]
}